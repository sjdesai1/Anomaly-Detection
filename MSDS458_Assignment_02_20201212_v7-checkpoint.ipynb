{
 "cells": [
  {
   "cell_type": "markdown",
   "metadata": {
    "id": "SRLmkqrHBQS2"
   },
   "source": [
    "## MSDS458 Research Assignment 2\n",
    "<div class=\"alert alert-block alert-success\">\n",
    "    <b>More Technical</b>: Throughout the notebook. This types of boxes provide more technical details and extra references about what you are seeing. They contain helpful tips, but you can safely skip them the first time you run through the code.\n",
    "</div><br>"
   ]
  },
  {
   "cell_type": "markdown",
   "metadata": {
    "id": "v2-7tctUBQS2"
   },
   "source": [
    "The CIFAR-10 dataset (Canadian Institute For Advanced Research) is a collection of images that are commonly used to train machine learning and computer vision algorithms. It is one of the most widely used datasets for machine learning research. The CIFAR-10 dataset contains 60,000 32x32 color images in 10 different classes. The 10 different classes represent airplanes, cars, birds, cats, deer, dogs, frogs, horses, ships, and trucks. There are 6,000 images of each class."
   ]
  },
  {
   "cell_type": "markdown",
   "metadata": {
    "id": "sSPcQhKUBQS2"
   },
   "source": [
    "## Import packages needed "
   ]
  },
  {
   "cell_type": "code",
   "execution_count": 2,
   "metadata": {
    "executionInfo": {
     "elapsed": 3450,
     "status": "ok",
     "timestamp": 1607096051749,
     "user": {
      "displayName": "Daniel Jensen",
      "photoUrl": "https://lh3.googleusercontent.com/a-/AOh14GgxK0y1Y-W44vjnQC53Ak8_BakmvjpvLobUMJWbWQ=s64",
      "userId": "09835133420012498824"
     },
     "user_tz": 300
    },
    "id": "eHmjw7WoBQS2"
   },
   "outputs": [],
   "source": [
    "# Helper libraries\n",
    "import datetime\n",
    "from packaging import version\n",
    "import matplotlib.pyplot as plt\n",
    "import seaborn as sns\n",
    "\n",
    "import sklearn\n",
    "from sklearn.metrics import confusion_matrix\n",
    "from collections import Counter\n",
    "import numpy as np\n",
    "import pandas as pd\n",
    "\n",
    "# TensorFlow and tf.keras\n",
    "import tensorflow as tf\n",
    "from tensorflow import keras\n",
    "from tensorflow.keras.utils import to_categorical\n",
    "from tensorflow.keras import models, layers\n",
    "from tensorflow.keras.models import Sequential\n",
    "from tensorflow.keras.layers import Conv2D, MaxPooling2D\n",
    "from tensorflow.keras.layers import Dropout, Flatten, Input, Dense"
   ]
  },
  {
   "cell_type": "code",
   "execution_count": 3,
   "metadata": {
    "executionInfo": {
     "elapsed": 3448,
     "status": "ok",
     "timestamp": 1607096051754,
     "user": {
      "displayName": "Daniel Jensen",
      "photoUrl": "https://lh3.googleusercontent.com/a-/AOh14GgxK0y1Y-W44vjnQC53Ak8_BakmvjpvLobUMJWbWQ=s64",
      "userId": "09835133420012498824"
     },
     "user_tz": 300
    },
    "id": "_cXetOQXBQS3"
   },
   "outputs": [],
   "source": [
    "%matplotlib inline\n",
    "np.set_printoptions(precision=3, suppress=True)"
   ]
  },
  {
   "cell_type": "markdown",
   "metadata": {
    "id": "yIDm78WyBQS3"
   },
   "source": [
    "### Verify TensorFlow Version and Keras Version"
   ]
  },
  {
   "cell_type": "code",
   "execution_count": 4,
   "metadata": {
    "colab": {
     "base_uri": "https://localhost:8080/"
    },
    "executionInfo": {
     "elapsed": 3417,
     "status": "ok",
     "timestamp": 1607096051756,
     "user": {
      "displayName": "Daniel Jensen",
      "photoUrl": "https://lh3.googleusercontent.com/a-/AOh14GgxK0y1Y-W44vjnQC53Ak8_BakmvjpvLobUMJWbWQ=s64",
      "userId": "09835133420012498824"
     },
     "user_tz": 300
    },
    "id": "Z54Ct2ouBQS3",
    "outputId": "256b05ee-2509-4599-dadd-766540bbe0ee"
   },
   "outputs": [
    {
     "name": "stdout",
     "output_type": "stream",
     "text": [
      "This notebook requires TensorFlow 2.0 or above\n",
      "TensorFlow version:  2.4.1\n"
     ]
    }
   ],
   "source": [
    "print(\"This notebook requires TensorFlow 2.0 or above\")\n",
    "print(\"TensorFlow version: \", tf.__version__)\n",
    "assert version.parse(tf.__version__).release[0] >=2"
   ]
  },
  {
   "cell_type": "code",
   "execution_count": 5,
   "metadata": {
    "colab": {
     "base_uri": "https://localhost:8080/"
    },
    "executionInfo": {
     "elapsed": 3408,
     "status": "ok",
     "timestamp": 1607096051756,
     "user": {
      "displayName": "Daniel Jensen",
      "photoUrl": "https://lh3.googleusercontent.com/a-/AOh14GgxK0y1Y-W44vjnQC53Ak8_BakmvjpvLobUMJWbWQ=s64",
      "userId": "09835133420012498824"
     },
     "user_tz": 300
    },
    "id": "3dgj2RJnBQS6",
    "outputId": "bfe16c45-08cc-4dbf-ae84-4380aa9f3c0f"
   },
   "outputs": [
    {
     "name": "stdout",
     "output_type": "stream",
     "text": [
      "Keras version:  2.4.0\n"
     ]
    }
   ],
   "source": [
    "print(\"Keras version: \", keras.__version__)"
   ]
  },
  {
   "cell_type": "markdown",
   "metadata": {
    "id": "L2zXOmrvBQS6"
   },
   "source": [
    "<div class=\"alert alert-block alert-info\">\n",
    "    <b>Suppress warning messages</b></div>"
   ]
  },
  {
   "cell_type": "code",
   "execution_count": 6,
   "metadata": {
    "executionInfo": {
     "elapsed": 3403,
     "status": "ok",
     "timestamp": 1607096051757,
     "user": {
      "displayName": "Daniel Jensen",
      "photoUrl": "https://lh3.googleusercontent.com/a-/AOh14GgxK0y1Y-W44vjnQC53Ak8_BakmvjpvLobUMJWbWQ=s64",
      "userId": "09835133420012498824"
     },
     "user_tz": 300
    },
    "id": "EoQfl0PlBQS6"
   },
   "outputs": [],
   "source": [
    "def warn(*args, **kwargs):\n",
    "    pass\n",
    "import warnings\n",
    "warnings.warn = warn"
   ]
  },
  {
   "cell_type": "markdown",
   "metadata": {
    "id": "ApjAZzsZBQS6"
   },
   "source": [
    "### Mount Google Drive to Colab Enviorment"
   ]
  },
  {
   "cell_type": "code",
   "execution_count": 7,
   "metadata": {
    "colab": {
     "base_uri": "https://localhost:8080/"
    },
    "executionInfo": {
     "elapsed": 35781,
     "status": "ok",
     "timestamp": 1607096084145,
     "user": {
      "displayName": "Daniel Jensen",
      "photoUrl": "https://lh3.googleusercontent.com/a-/AOh14GgxK0y1Y-W44vjnQC53Ak8_BakmvjpvLobUMJWbWQ=s64",
      "userId": "09835133420012498824"
     },
     "user_tz": 300
    },
    "id": "UqJfFzLIBQS6",
    "outputId": "3bca84ad-f098-42ba-fee9-4d49e7db0c20"
   },
   "outputs": [
    {
     "ename": "ModuleNotFoundError",
     "evalue": "No module named 'google.colab'",
     "output_type": "error",
     "traceback": [
      "\u001b[1;31m---------------------------------------------------------------------------\u001b[0m",
      "\u001b[1;31mModuleNotFoundError\u001b[0m                       Traceback (most recent call last)",
      "\u001b[1;32m<ipython-input-7-4996ee3d8d09>\u001b[0m in \u001b[0;36m<module>\u001b[1;34m\u001b[0m\n\u001b[1;32m----> 1\u001b[1;33m \u001b[1;32mfrom\u001b[0m \u001b[0mgoogle\u001b[0m\u001b[1;33m.\u001b[0m\u001b[0mcolab\u001b[0m \u001b[1;32mimport\u001b[0m \u001b[0mdrive\u001b[0m\u001b[1;33m\u001b[0m\u001b[1;33m\u001b[0m\u001b[0m\n\u001b[0m\u001b[0;32m      2\u001b[0m \u001b[0mdrive\u001b[0m\u001b[1;33m.\u001b[0m\u001b[0mmount\u001b[0m\u001b[1;33m(\u001b[0m\u001b[1;34m'/content/gdrive'\u001b[0m\u001b[1;33m)\u001b[0m\u001b[1;33m\u001b[0m\u001b[1;33m\u001b[0m\u001b[0m\n",
      "\u001b[1;31mModuleNotFoundError\u001b[0m: No module named 'google.colab'"
     ]
    }
   ],
   "source": [
    "from google.colab import drive\n",
    "drive.mount('/content/gdrive')"
   ]
  },
  {
   "cell_type": "markdown",
   "metadata": {
    "id": "m2smn4LPBQS6"
   },
   "source": [
    "## Loading cifar10 Dataset\n",
    "\n",
    "The CIFAR-10 dataset consists of 60000 32x32 colour images in 10 classes, with 6000 images per class. There are 50000 training images and 10000 test images.<br>\n",
    "\n",
    "The dataset is divided into five training batches and one test batch, each with 10000 images. The test batch contains exactly 1000 randomly-selected images from each class. The training batches contain the remaining images in random order, but some training batches may contain more images from one class than another. Between them, the training batches contain exactly 5000 images from each class.\n"
   ]
  },
  {
   "cell_type": "code",
   "execution_count": 8,
   "metadata": {
    "colab": {
     "base_uri": "https://localhost:8080/"
    },
    "executionInfo": {
     "elapsed": 39895,
     "status": "ok",
     "timestamp": 1607096088268,
     "user": {
      "displayName": "Daniel Jensen",
      "photoUrl": "https://lh3.googleusercontent.com/a-/AOh14GgxK0y1Y-W44vjnQC53Ak8_BakmvjpvLobUMJWbWQ=s64",
      "userId": "09835133420012498824"
     },
     "user_tz": 300
    },
    "id": "thzn80jMBQS6",
    "outputId": "dd8aea3c-af14-439c-f8ae-6fd7f382ba27"
   },
   "outputs": [],
   "source": [
    "(train_images, train_labels),(test_images, test_labels)= tf.keras.datasets.cifar10.load_data()"
   ]
  },
  {
   "cell_type": "markdown",
   "metadata": {
    "id": "L1nXyX8xBQS6"
   },
   "source": [
    "* Tuple of Numpy arrays: (x_train, y_train), (x_test, y_test).\n",
    "* x_train, x_test: uint8 arrays of color image data with shapes (num_samples, 32, 32).\n",
    "* y_train, y_test: uint8 arrays of digit labels (integers in range 0-9)"
   ]
  },
  {
   "cell_type": "markdown",
   "metadata": {
    "id": "0qXkOUboBQS6"
   },
   "source": [
    "## EDA Training and Test Datasets\n",
    "\n",
    "* Imported 50000 examples for training and 10000 examples for test \n",
    "* Imported 50000 labels for training and 10000 labels for test "
   ]
  },
  {
   "cell_type": "code",
   "execution_count": 9,
   "metadata": {
    "colab": {
     "base_uri": "https://localhost:8080/"
    },
    "executionInfo": {
     "elapsed": 40374,
     "status": "ok",
     "timestamp": 1607096088763,
     "user": {
      "displayName": "Daniel Jensen",
      "photoUrl": "https://lh3.googleusercontent.com/a-/AOh14GgxK0y1Y-W44vjnQC53Ak8_BakmvjpvLobUMJWbWQ=s64",
      "userId": "09835133420012498824"
     },
     "user_tz": 300
    },
    "id": "un0LuWX2BQS7",
    "outputId": "b9b20c69-1409-45ae-b42e-22e98dd6152c"
   },
   "outputs": [
    {
     "name": "stdout",
     "output_type": "stream",
     "text": [
      "train_images:\t(50000, 32, 32, 3)\n",
      "train_labels:\t(50000, 1)\n",
      "test_images:\t\t(10000, 32, 32, 3)\n",
      "test_labels:\t\t(10000, 1)\n"
     ]
    }
   ],
   "source": [
    "print('train_images:\\t{}'.format(train_images.shape))\n",
    "print('train_labels:\\t{}'.format(train_labels.shape))\n",
    "print('test_images:\\t\\t{}'.format(test_images.shape))\n",
    "print('test_labels:\\t\\t{}'.format(test_labels.shape))"
   ]
  },
  {
   "cell_type": "markdown",
   "metadata": {
    "id": "tDL-RelMBQS7"
   },
   "source": [
    "### Review labels for training dataset"
   ]
  },
  {
   "cell_type": "code",
   "execution_count": 10,
   "metadata": {
    "colab": {
     "base_uri": "https://localhost:8080/"
    },
    "executionInfo": {
     "elapsed": 40542,
     "status": "ok",
     "timestamp": 1607096088948,
     "user": {
      "displayName": "Daniel Jensen",
      "photoUrl": "https://lh3.googleusercontent.com/a-/AOh14GgxK0y1Y-W44vjnQC53Ak8_BakmvjpvLobUMJWbWQ=s64",
      "userId": "09835133420012498824"
     },
     "user_tz": 300
    },
    "id": "L_gEoattBQS7",
    "outputId": "954135f9-f53b-4b0d-a31e-8a10d51a8d27"
   },
   "outputs": [
    {
     "name": "stdout",
     "output_type": "stream",
     "text": [
      "First ten labels training dataset:\n",
      " [[6]\n",
      " [9]\n",
      " [9]\n",
      " [4]\n",
      " [1]\n",
      " [1]\n",
      " [2]\n",
      " [7]\n",
      " [8]\n",
      " [3]]\n",
      "\n",
      "This output the numeric label, need to convert to item description\n"
     ]
    }
   ],
   "source": [
    "print(\"First ten labels training dataset:\\n {}\\n\".format(train_labels[0:10]))\n",
    "print(\"This output the numeric label, need to convert to item description\")"
   ]
  },
  {
   "cell_type": "markdown",
   "metadata": {
    "id": "Fpba3_-nBQS7"
   },
   "source": [
    "### Plot Examples"
   ]
  },
  {
   "cell_type": "code",
   "execution_count": 11,
   "metadata": {
    "executionInfo": {
     "elapsed": 40538,
     "status": "ok",
     "timestamp": 1607096088949,
     "user": {
      "displayName": "Daniel Jensen",
      "photoUrl": "https://lh3.googleusercontent.com/a-/AOh14GgxK0y1Y-W44vjnQC53Ak8_BakmvjpvLobUMJWbWQ=s64",
      "userId": "09835133420012498824"
     },
     "user_tz": 300
    },
    "id": "JSoJySfUBQS7"
   },
   "outputs": [],
   "source": [
    "def get_three_classes(x, y):\n",
    "    def indices_of(class_id):\n",
    "        indices, _ = np.where(y == float(class_id))\n",
    "        return indices\n",
    "\n",
    "    indices = np.concatenate([indices_of(0), indices_of(1), indices_of(2)], axis=0)\n",
    "    \n",
    "    x = x[indices]\n",
    "    y = y[indices]\n",
    "    \n",
    "    count = x.shape[0]\n",
    "    indices = np.random.choice(range(count), count, replace=False)\n",
    "    \n",
    "    x = x[indices]\n",
    "    y = y[indices]\n",
    "    \n",
    "    y = tf.keras.utils.to_categorical(y)\n",
    "    \n",
    "    return x, y"
   ]
  },
  {
   "cell_type": "code",
   "execution_count": 12,
   "metadata": {
    "executionInfo": {
     "elapsed": 41060,
     "status": "ok",
     "timestamp": 1607096089477,
     "user": {
      "displayName": "Daniel Jensen",
      "photoUrl": "https://lh3.googleusercontent.com/a-/AOh14GgxK0y1Y-W44vjnQC53Ak8_BakmvjpvLobUMJWbWQ=s64",
      "userId": "09835133420012498824"
     },
     "user_tz": 300
    },
    "id": "E-OB0cAWBQS7"
   },
   "outputs": [],
   "source": [
    "(x_train, y_train), (x_test, y_test) = tf.keras.datasets.cifar10.load_data()"
   ]
  },
  {
   "cell_type": "code",
   "execution_count": 13,
   "metadata": {
    "executionInfo": {
     "elapsed": 41182,
     "status": "ok",
     "timestamp": 1607096089605,
     "user": {
      "displayName": "Daniel Jensen",
      "photoUrl": "https://lh3.googleusercontent.com/a-/AOh14GgxK0y1Y-W44vjnQC53Ak8_BakmvjpvLobUMJWbWQ=s64",
      "userId": "09835133420012498824"
     },
     "user_tz": 300
    },
    "id": "w4JdRKm5BQS7"
   },
   "outputs": [],
   "source": [
    "x_preview, y_preview = get_three_classes(x_train, y_train)\n",
    "x_preview, y_preview = get_three_classes(x_test, y_test)"
   ]
  },
  {
   "cell_type": "code",
   "execution_count": 14,
   "metadata": {
    "colab": {
     "base_uri": "https://localhost:8080/",
     "height": 288
    },
    "executionInfo": {
     "elapsed": 41599,
     "status": "ok",
     "timestamp": 1607096090038,
     "user": {
      "displayName": "Daniel Jensen",
      "photoUrl": "https://lh3.googleusercontent.com/a-/AOh14GgxK0y1Y-W44vjnQC53Ak8_BakmvjpvLobUMJWbWQ=s64",
      "userId": "09835133420012498824"
     },
     "user_tz": 300
    },
    "id": "PrUAgX78BQS8",
    "outputId": "fabeb101-7277-443a-9351-6727a891f5ab"
   },
   "outputs": [
    {
     "data": {
      "image/png": "[encoded data removed]",
      "text/plain": [
       "<Figure size 720x360 with 10 Axes>"
      ]
     },
     "metadata": {},
     "output_type": "display_data"
    }
   ],
   "source": [
    "class_names_preview = ['aeroplane', 'car', 'bird']\n",
    "\n",
    "def show_random_examples(x, y, p):\n",
    "    indices = np.random.choice(range(x.shape[0]), 10, replace=False)\n",
    "    \n",
    "    x = x[indices]\n",
    "    y = y[indices]\n",
    "    p = p[indices]\n",
    "    \n",
    "    plt.figure(figsize=(10, 5))\n",
    "    for i in range(10):\n",
    "        plt.subplot(2, 5, i + 1)\n",
    "        plt.imshow(x[i])\n",
    "        plt.xticks([])\n",
    "        plt.yticks([])\n",
    "        col = 'green' if np.argmax(y[i]) == np.argmax(p[i]) else 'red'\n",
    "        plt.xlabel(class_names_preview[np.argmax(p[i])], color=col)\n",
    "    plt.show()\n",
    "\n",
    "show_random_examples(x_preview, y_preview, y_preview)"
   ]
  },
  {
   "cell_type": "markdown",
   "metadata": {
    "id": "rjdk5-jvBQS8"
   },
   "source": [
    "### Random Review of Examples "
   ]
  },
  {
   "cell_type": "code",
   "execution_count": 15,
   "metadata": {
    "colab": {
     "base_uri": "https://localhost:8080/",
     "height": 288
    },
    "executionInfo": {
     "elapsed": 41772,
     "status": "ok",
     "timestamp": 1607096090226,
     "user": {
      "displayName": "Daniel Jensen",
      "photoUrl": "https://lh3.googleusercontent.com/a-/AOh14GgxK0y1Y-W44vjnQC53Ak8_BakmvjpvLobUMJWbWQ=s64",
      "userId": "09835133420012498824"
     },
     "user_tz": 300
    },
    "id": "P-JkYdP9BQS8",
    "outputId": "b2368403-b5bd-47f5-f741-45d63a990eae"
   },
   "outputs": [
    {
     "data": {
      "image/png": "[encoded data removed]",
      "text/plain": [
       "<Figure size 720x360 with 10 Axes>"
      ]
     },
     "metadata": {},
     "output_type": "display_data"
    }
   ],
   "source": [
    "show_random_examples(x_preview, y_preview, y_preview)"
   ]
  },
  {
   "cell_type": "markdown",
   "metadata": {
    "id": "zmOULZ_8BQS8"
   },
   "source": [
    "## Preprocessing Data for Model Development"
   ]
  },
  {
   "cell_type": "markdown",
   "metadata": {
    "id": "fWrM9M7tBQS9"
   },
   "source": [
    "The labels are an array of integers, ranging from 0 to 9. These correspond to the class of clothing the image represents:\n",
    "\n",
    "|Label  |Class_  |\n",
    "|-------|--------|\n",
    "|0|\tairplane     |\n",
    "|1|\tautomobile   |\n",
    "|2|\tbird         |\n",
    "|3|\tcat          |\n",
    "|4|\tdeer         |\n",
    "|5|\tdog          |\n",
    "|6|\tfrog         |\n",
    "|7|\thorse        |\n",
    "|8|\tship         |\n",
    "|9|\ttruck        |"
   ]
  },
  {
   "cell_type": "code",
   "execution_count": 16,
   "metadata": {
    "executionInfo": {
     "elapsed": 41769,
     "status": "ok",
     "timestamp": 1607096090228,
     "user": {
      "displayName": "Daniel Jensen",
      "photoUrl": "https://lh3.googleusercontent.com/a-/AOh14GgxK0y1Y-W44vjnQC53Ak8_BakmvjpvLobUMJWbWQ=s64",
      "userId": "09835133420012498824"
     },
     "user_tz": 300
    },
    "id": "0pOir5__BQS9"
   },
   "outputs": [],
   "source": [
    "class_names = [['airplane'\n",
    ",'automobile'\n",
    ",'bird'\n",
    ",'cat'\n",
    ",'deer'\n",
    ",'dog'\n",
    ",'frog' \n",
    ",'horse'\n",
    ",'ship'\n",
    ",'truck']]"
   ]
  },
  {
   "cell_type": "markdown",
   "metadata": {
    "id": "f1Bc7VFlBQS9"
   },
   "source": [
    "### Preprocessing the Examples\n",
    " The images are 28x28 NumPy arrays, with pixel values ranging from 0 to 255.\n",
    " "
   ]
  },
  {
   "cell_type": "markdown",
   "metadata": {
    "id": "83IzVivSBQS9"
   },
   "source": [
    "1. Each element in each example is a pixel value\n",
    "2. Pixel values range from 0 to 255\n",
    "3. 0 = black\n",
    "4. 255 = white"
   ]
  },
  {
   "cell_type": "code",
   "execution_count": 17,
   "metadata": {
    "executionInfo": {
     "elapsed": 42729,
     "status": "ok",
     "timestamp": 1607096091194,
     "user": {
      "displayName": "Daniel Jensen",
      "photoUrl": "https://lh3.googleusercontent.com/a-/AOh14GgxK0y1Y-W44vjnQC53Ak8_BakmvjpvLobUMJWbWQ=s64",
      "userId": "09835133420012498824"
     },
     "user_tz": 300
    },
    "id": "42FmtjcVBQS9"
   },
   "outputs": [],
   "source": [
    "train_images_norm = train_images.astype('float32')/255.\n",
    "test_images_norm = test_images.astype('float32')/255."
   ]
  },
  {
   "cell_type": "code",
   "execution_count": 18,
   "metadata": {
    "colab": {
     "base_uri": "https://localhost:8080/"
    },
    "executionInfo": {
     "elapsed": 42727,
     "status": "ok",
     "timestamp": 1607096091206,
     "user": {
      "displayName": "Daniel Jensen",
      "photoUrl": "https://lh3.googleusercontent.com/a-/AOh14GgxK0y1Y-W44vjnQC53Ak8_BakmvjpvLobUMJWbWQ=s64",
      "userId": "09835133420012498824"
     },
     "user_tz": 300
    },
    "id": "nNBnEiGXBQS9",
    "outputId": "0a70a5b3-086e-4fe2-9425-dc3b5dafd720"
   },
   "outputs": [
    {
     "data": {
      "text/plain": [
       "((50000, 32, 32, 3), (10000, 32, 32, 3))"
      ]
     },
     "execution_count": 18,
     "metadata": {},
     "output_type": "execute_result"
    }
   ],
   "source": [
    "train_images_norm.shape, test_images_norm.shape"
   ]
  },
  {
   "cell_type": "markdown",
   "metadata": {
    "id": "DIBw_FpHBQS9"
   },
   "source": [
    "## Validating our approach\n",
    "\n",
    "10,000 samples of our training data to use as a validation set. "
   ]
  },
  {
   "cell_type": "code",
   "execution_count": 19,
   "metadata": {
    "executionInfo": {
     "elapsed": 42725,
     "status": "ok",
     "timestamp": 1607096091210,
     "user": {
      "displayName": "Daniel Jensen",
      "photoUrl": "https://lh3.googleusercontent.com/a-/AOh14GgxK0y1Y-W44vjnQC53Ak8_BakmvjpvLobUMJWbWQ=s64",
      "userId": "09835133420012498824"
     },
     "user_tz": 300
    },
    "id": "3O46PLZ_BQS9"
   },
   "outputs": [],
   "source": [
    "val_images_norm, train_images_norm = train_images_norm[:10000], train_images_norm[10000:] \n",
    "val_labels, train_labels = train_labels[:10000], train_labels[10000:]"
   ]
  },
  {
   "cell_type": "code",
   "execution_count": 20,
   "metadata": {
    "colab": {
     "base_uri": "https://localhost:8080/"
    },
    "executionInfo": {
     "elapsed": 42708,
     "status": "ok",
     "timestamp": 1607096091211,
     "user": {
      "displayName": "Daniel Jensen",
      "photoUrl": "https://lh3.googleusercontent.com/a-/AOh14GgxK0y1Y-W44vjnQC53Ak8_BakmvjpvLobUMJWbWQ=s64",
      "userId": "09835133420012498824"
     },
     "user_tz": 300
    },
    "id": "tVeC1hPGBQS9",
    "outputId": "93ea8901-5279-47fb-f463-549d782986d6"
   },
   "outputs": [
    {
     "data": {
      "text/plain": [
       "((10000, 32, 32, 3), (10000, 1))"
      ]
     },
     "execution_count": 20,
     "metadata": {},
     "output_type": "execute_result"
    }
   ],
   "source": [
    "val_images_norm.shape, val_labels.shape"
   ]
  },
  {
   "cell_type": "code",
   "execution_count": 21,
   "metadata": {
    "colab": {
     "base_uri": "https://localhost:8080/"
    },
    "executionInfo": {
     "elapsed": 42690,
     "status": "ok",
     "timestamp": 1607096091212,
     "user": {
      "displayName": "Daniel Jensen",
      "photoUrl": "https://lh3.googleusercontent.com/a-/AOh14GgxK0y1Y-W44vjnQC53Ak8_BakmvjpvLobUMJWbWQ=s64",
      "userId": "09835133420012498824"
     },
     "user_tz": 300
    },
    "id": "LJUZ31c5BQS9",
    "outputId": "71f3ee33-19d3-4be0-8c58-7c91ea77a3b3"
   },
   "outputs": [
    {
     "data": {
      "text/plain": [
       "((40000, 32, 32, 3), (40000, 1))"
      ]
     },
     "execution_count": 21,
     "metadata": {},
     "output_type": "execute_result"
    }
   ],
   "source": [
    "train_images_norm.shape, train_labels.shape"
   ]
  },
  {
   "cell_type": "markdown",
   "metadata": {
    "id": "SMrBHqFDBQS-"
   },
   "source": [
    "## Create the Model"
   ]
  },
  {
   "cell_type": "markdown",
   "metadata": {
    "id": "rDy9MDMEBQS-"
   },
   "source": [
    "<img src=\"https://github.com/djp840/MSDS_458_Public/blob/master/images/CNN_architecture_v4.png?raw=1\">\n"
   ]
  },
  {
   "cell_type": "markdown",
   "metadata": {
    "id": "ZQksDxFtBQS-"
   },
   "source": [
    "### Build CNN Model"
   ]
  },
  {
   "cell_type": "markdown",
   "metadata": {
    "id": "kUAXSso3BQS-"
   },
   "source": [
    "We use a Sequential class defined in Keras to create our model. The first 4 layers Conv2D and MaxPooling handle feature learning.  The last 3 layers, handle classification.  "
   ]
  },
  {
   "cell_type": "code",
   "execution_count": 31,
   "metadata": {
    "executionInfo": {
     "elapsed": 42800,
     "status": "ok",
     "timestamp": 1607096091329,
     "user": {
      "displayName": "Daniel Jensen",
      "photoUrl": "https://lh3.googleusercontent.com/a-/AOh14GgxK0y1Y-W44vjnQC53Ak8_BakmvjpvLobUMJWbWQ=s64",
      "userId": "09835133420012498824"
     },
     "user_tz": 300
    },
    "id": "s8pXP2OxBQS-"
   },
   "outputs": [],
   "source": [
    "model = models.Sequential()\n",
    "model.add(layers.Conv2D(filters=256, kernel_size=(3, 3), strides=(1, 1), activation=tf.nn.relu, input_shape=(32, 32, 3)))\n",
    "model.add(layers.MaxPooling2D((2, 2),strides=2))\n",
    "model.add(layers.Conv2D(filters=512, kernel_size=(3, 3), strides=(1, 1), activation=tf.nn.relu))\n",
    "model.add(layers.MaxPooling2D(pool_size=(2, 2),strides=2))\n",
    "model.add(layers.Conv2D(filters=1024, kernel_size=(3, 3), strides=(1, 1), activation=tf.nn.relu))\n",
    "model.add(layers.MaxPooling2D(pool_size=(2, 2),strides=2))\n",
    "model.add(layers.Flatten())\n",
    "model.add(layers.Dense(units=512, activation=tf.nn.relu))\n",
    "model.add(layers.Dense(units=10, activation=tf.nn.softmax))"
   ]
  },
  {
   "cell_type": "code",
   "execution_count": 32,
   "metadata": {
    "colab": {
     "base_uri": "https://localhost:8080/"
    },
    "executionInfo": {
     "elapsed": 42782,
     "status": "ok",
     "timestamp": 1607096091330,
     "user": {
      "displayName": "Daniel Jensen",
      "photoUrl": "https://lh3.googleusercontent.com/a-/AOh14GgxK0y1Y-W44vjnQC53Ak8_BakmvjpvLobUMJWbWQ=s64",
      "userId": "09835133420012498824"
     },
     "user_tz": 300
    },
    "id": "9-sVZXeoBQS-",
    "outputId": "d617ee21-bb3b-410b-d60f-0213704ab457"
   },
   "outputs": [
    {
     "name": "stdout",
     "output_type": "stream",
     "text": [
      "Model: \"sequential_2\"\n",
      "_________________________________________________________________\n",
      "Layer (type)                 Output Shape              Param #   \n",
      "=================================================================\n",
      "conv2d_6 (Conv2D)            (None, 30, 30, 256)       7168      \n",
      "_________________________________________________________________\n",
      "max_pooling2d_6 (MaxPooling2 (None, 15, 15, 256)       0         \n",
      "_________________________________________________________________\n",
      "conv2d_7 (Conv2D)            (None, 13, 13, 512)       1180160   \n",
      "_________________________________________________________________\n",
      "max_pooling2d_7 (MaxPooling2 (None, 6, 6, 512)         0         \n",
      "_________________________________________________________________\n",
      "conv2d_8 (Conv2D)            (None, 4, 4, 1024)        4719616   \n",
      "_________________________________________________________________\n",
      "max_pooling2d_8 (MaxPooling2 (None, 2, 2, 1024)        0         \n",
      "_________________________________________________________________\n",
      "flatten_2 (Flatten)          (None, 4096)              0         \n",
      "_________________________________________________________________\n",
      "dense_4 (Dense)              (None, 512)               2097664   \n",
      "_________________________________________________________________\n",
      "dense_5 (Dense)              (None, 10)                5130      \n",
      "=================================================================\n",
      "Total params: 8,009,738\n",
      "Trainable params: 8,009,738\n",
      "Non-trainable params: 0\n",
      "_________________________________________________________________\n"
     ]
    }
   ],
   "source": [
    "model.summary()"
   ]
  },
  {
   "cell_type": "code",
   "execution_count": 33,
   "metadata": {
    "colab": {
     "base_uri": "https://localhost:8080/",
     "height": 1000
    },
    "executionInfo": {
     "elapsed": 43133,
     "status": "ok",
     "timestamp": 1607096091697,
     "user": {
      "displayName": "Daniel Jensen",
      "photoUrl": "https://lh3.googleusercontent.com/a-/AOh14GgxK0y1Y-W44vjnQC53Ak8_BakmvjpvLobUMJWbWQ=s64",
      "userId": "09835133420012498824"
     },
     "user_tz": 300
    },
    "id": "04XBVY0pBQS-",
    "outputId": "e484cd54-3bb4-4ba1-e8af-8d22b25b5701",
    "scrolled": false
   },
   "outputs": [
    {
     "name": "stdout",
     "output_type": "stream",
     "text": [
      "('Failed to import pydot. You must `pip install pydot` and install graphviz (https://graphviz.gitlab.io/download/), ', 'for `pydotprint` to work.')\n"
     ]
    }
   ],
   "source": [
    "keras.utils.plot_model(model, \"CIFAR10.png\", show_shapes=True) "
   ]
  },
  {
   "cell_type": "markdown",
   "metadata": {
    "id": "dTfZ8L55BQS-"
   },
   "source": [
    "### Compiling the model"
   ]
  },
  {
   "cell_type": "markdown",
   "metadata": {
    "id": "uNsQ6Qb-BQS-"
   },
   "source": [
    "In addition to setting up our model architecture, we also need to define which algorithm should the model use in order to optimize the weights and biases as per the given data. We will use stochastic gradient descent.\n",
    "\n",
    "We also need to define a loss function. Think of this function as the difference between the predicted outputs and the actual outputs given in the dataset. This loss needs to be minimised in order to have a higher model accuracy. That's what the optimization algorithm essentially does - it minimises the loss during model training. For our multi-class classification problem, categorical cross entropy is commonly used.\n",
    "\n",
    "Finally, we will use the accuracy during training as a metric to keep track of as the model trains."
   ]
  },
  {
   "cell_type": "markdown",
   "metadata": {
    "id": "kPIeG65BT_0R"
   },
   "source": [
    "<div class=\"alert alert-block alert-info\">\n",
    "<b>tf.keras.losses.SparseCategoricalCrossentropy</b><br>\n",
    "https://www.tensorflow.org/api_docs/python/tf/keras/losses/SparseCategoricalCrossentropy</div>"
   ]
  },
  {
   "cell_type": "code",
   "execution_count": 34,
   "metadata": {
    "executionInfo": {
     "elapsed": 233,
     "status": "ok",
     "timestamp": 1607098993232,
     "user": {
      "displayName": "Daniel Jensen",
      "photoUrl": "https://lh3.googleusercontent.com/a-/AOh14GgxK0y1Y-W44vjnQC53Ak8_BakmvjpvLobUMJWbWQ=s64",
      "userId": "09835133420012498824"
     },
     "user_tz": 300
    },
    "id": "nizhoIobBQS-"
   },
   "outputs": [],
   "source": [
    "model.compile(optimizer='adam',\n",
    "              loss=tf.keras.losses.SparseCategoricalCrossentropy(from_logits=False),\n",
    "              metrics=['accuracy'])"
   ]
  },
  {
   "cell_type": "markdown",
   "metadata": {
    "id": "r5ZMEIgVBQS-"
   },
   "source": [
    "## Training the model"
   ]
  },
  {
   "cell_type": "markdown",
   "metadata": {
    "id": "X71tbaZaT_0R"
   },
   "source": [
    "<div class=\"alert alert-block alert-success\">\n",
    "    <b>Module: tf.keras.callbacks</b></div>"
   ]
  },
  {
   "cell_type": "markdown",
   "metadata": {
    "id": "m88yYO0qT_0R"
   },
   "source": [
    "<div class=\"alert alert-block alert-info\">\n",
    "<b>tf.keras.callbacks.EarlyStopping</b><br>\n",
    "https://www.tensorflow.org/api_docs/python/tf/keras/callbacks/EarlyStopping</div>"
   ]
  },
  {
   "cell_type": "markdown",
   "metadata": {
    "id": "-08cH7qgT_0R"
   },
   "source": [
    "<div class=\"alert alert-block alert-info\">\n",
    "<b>tf.keras.callbacks.ModelCheckpoint</b><br>\n",
    "https://www.tensorflow.org/api_docs/python/tf/keras/callbacks/ModelCheckpoint</div>"
   ]
  },
  {
   "cell_type": "code",
   "execution_count": 35,
   "metadata": {
    "colab": {
     "base_uri": "https://localhost:8080/"
    },
    "executionInfo": {
     "elapsed": 907908,
     "status": "ok",
     "timestamp": 1607099903631,
     "user": {
      "displayName": "Daniel Jensen",
      "photoUrl": "https://lh3.googleusercontent.com/a-/AOh14GgxK0y1Y-W44vjnQC53Ak8_BakmvjpvLobUMJWbWQ=s64",
      "userId": "09835133420012498824"
     },
     "user_tz": 300
    },
    "id": "JF67tVFKBQS-",
    "outputId": "dae3fa99-40b1-471d-f384-6ba66c6463dd"
   },
   "outputs": [
    {
     "name": "stdout",
     "output_type": "stream",
     "text": [
      "Epoch 1/20\n",
      "  3/400 [..............................] - ETA: 25:23 - loss: 2.5141 - accuracy: 0.1472"
     ]
    },
    {
     "ename": "KeyboardInterrupt",
     "evalue": "",
     "output_type": "error",
     "traceback": [
      "\u001b[1;31m---------------------------------------------------------------------------\u001b[0m",
      "\u001b[1;31mKeyboardInterrupt\u001b[0m                         Traceback (most recent call last)",
      "\u001b[1;32m<ipython-input-35-50f686da3e51>\u001b[0m in \u001b[0;36m<module>\u001b[1;34m\u001b[0m\n\u001b[1;32m----> 1\u001b[1;33m history = model.fit(train_images_norm\n\u001b[0m\u001b[0;32m      2\u001b[0m                     \u001b[1;33m,\u001b[0m\u001b[0mtrain_labels\u001b[0m\u001b[1;33m\u001b[0m\u001b[1;33m\u001b[0m\u001b[0m\n\u001b[0;32m      3\u001b[0m                     \u001b[1;33m,\u001b[0m\u001b[0mepochs\u001b[0m\u001b[1;33m=\u001b[0m\u001b[1;36m20\u001b[0m\u001b[1;33m\u001b[0m\u001b[1;33m\u001b[0m\u001b[0m\n\u001b[0;32m      4\u001b[0m                     \u001b[1;33m,\u001b[0m\u001b[0mbatch_size\u001b[0m\u001b[1;33m=\u001b[0m\u001b[1;36m100\u001b[0m\u001b[1;33m\u001b[0m\u001b[1;33m\u001b[0m\u001b[0m\n\u001b[0;32m      5\u001b[0m                     \u001b[1;33m,\u001b[0m\u001b[0mvalidation_data\u001b[0m\u001b[1;33m=\u001b[0m\u001b[1;33m(\u001b[0m\u001b[0mval_images_norm\u001b[0m\u001b[1;33m,\u001b[0m\u001b[0mval_labels\u001b[0m\u001b[1;33m)\u001b[0m\u001b[1;33m\u001b[0m\u001b[1;33m\u001b[0m\u001b[0m\n",
      "\u001b[1;32m~\\Anaconda3\\lib\\site-packages\\tensorflow\\python\\keras\\engine\\training.py\u001b[0m in \u001b[0;36mfit\u001b[1;34m(self, x, y, batch_size, epochs, verbose, callbacks, validation_split, validation_data, shuffle, class_weight, sample_weight, initial_epoch, steps_per_epoch, validation_steps, validation_batch_size, validation_freq, max_queue_size, workers, use_multiprocessing)\u001b[0m\n\u001b[0;32m   1098\u001b[0m                 _r=1):\n\u001b[0;32m   1099\u001b[0m               \u001b[0mcallbacks\u001b[0m\u001b[1;33m.\u001b[0m\u001b[0mon_train_batch_begin\u001b[0m\u001b[1;33m(\u001b[0m\u001b[0mstep\u001b[0m\u001b[1;33m)\u001b[0m\u001b[1;33m\u001b[0m\u001b[1;33m\u001b[0m\u001b[0m\n\u001b[1;32m-> 1100\u001b[1;33m               \u001b[0mtmp_logs\u001b[0m \u001b[1;33m=\u001b[0m \u001b[0mself\u001b[0m\u001b[1;33m.\u001b[0m\u001b[0mtrain_function\u001b[0m\u001b[1;33m(\u001b[0m\u001b[0miterator\u001b[0m\u001b[1;33m)\u001b[0m\u001b[1;33m\u001b[0m\u001b[1;33m\u001b[0m\u001b[0m\n\u001b[0m\u001b[0;32m   1101\u001b[0m               \u001b[1;32mif\u001b[0m \u001b[0mdata_handler\u001b[0m\u001b[1;33m.\u001b[0m\u001b[0mshould_sync\u001b[0m\u001b[1;33m:\u001b[0m\u001b[1;33m\u001b[0m\u001b[1;33m\u001b[0m\u001b[0m\n\u001b[0;32m   1102\u001b[0m                 \u001b[0mcontext\u001b[0m\u001b[1;33m.\u001b[0m\u001b[0masync_wait\u001b[0m\u001b[1;33m(\u001b[0m\u001b[1;33m)\u001b[0m\u001b[1;33m\u001b[0m\u001b[1;33m\u001b[0m\u001b[0m\n",
      "\u001b[1;32m~\\Anaconda3\\lib\\site-packages\\tensorflow\\python\\eager\\def_function.py\u001b[0m in \u001b[0;36m__call__\u001b[1;34m(self, *args, **kwds)\u001b[0m\n\u001b[0;32m    826\u001b[0m     \u001b[0mtracing_count\u001b[0m \u001b[1;33m=\u001b[0m \u001b[0mself\u001b[0m\u001b[1;33m.\u001b[0m\u001b[0mexperimental_get_tracing_count\u001b[0m\u001b[1;33m(\u001b[0m\u001b[1;33m)\u001b[0m\u001b[1;33m\u001b[0m\u001b[1;33m\u001b[0m\u001b[0m\n\u001b[0;32m    827\u001b[0m     \u001b[1;32mwith\u001b[0m \u001b[0mtrace\u001b[0m\u001b[1;33m.\u001b[0m\u001b[0mTrace\u001b[0m\u001b[1;33m(\u001b[0m\u001b[0mself\u001b[0m\u001b[1;33m.\u001b[0m\u001b[0m_name\u001b[0m\u001b[1;33m)\u001b[0m \u001b[1;32mas\u001b[0m \u001b[0mtm\u001b[0m\u001b[1;33m:\u001b[0m\u001b[1;33m\u001b[0m\u001b[1;33m\u001b[0m\u001b[0m\n\u001b[1;32m--> 828\u001b[1;33m       \u001b[0mresult\u001b[0m \u001b[1;33m=\u001b[0m \u001b[0mself\u001b[0m\u001b[1;33m.\u001b[0m\u001b[0m_call\u001b[0m\u001b[1;33m(\u001b[0m\u001b[1;33m*\u001b[0m\u001b[0margs\u001b[0m\u001b[1;33m,\u001b[0m \u001b[1;33m**\u001b[0m\u001b[0mkwds\u001b[0m\u001b[1;33m)\u001b[0m\u001b[1;33m\u001b[0m\u001b[1;33m\u001b[0m\u001b[0m\n\u001b[0m\u001b[0;32m    829\u001b[0m       \u001b[0mcompiler\u001b[0m \u001b[1;33m=\u001b[0m \u001b[1;34m\"xla\"\u001b[0m \u001b[1;32mif\u001b[0m \u001b[0mself\u001b[0m\u001b[1;33m.\u001b[0m\u001b[0m_experimental_compile\u001b[0m \u001b[1;32melse\u001b[0m \u001b[1;34m\"nonXla\"\u001b[0m\u001b[1;33m\u001b[0m\u001b[1;33m\u001b[0m\u001b[0m\n\u001b[0;32m    830\u001b[0m       \u001b[0mnew_tracing_count\u001b[0m \u001b[1;33m=\u001b[0m \u001b[0mself\u001b[0m\u001b[1;33m.\u001b[0m\u001b[0mexperimental_get_tracing_count\u001b[0m\u001b[1;33m(\u001b[0m\u001b[1;33m)\u001b[0m\u001b[1;33m\u001b[0m\u001b[1;33m\u001b[0m\u001b[0m\n",
      "\u001b[1;32m~\\Anaconda3\\lib\\site-packages\\tensorflow\\python\\eager\\def_function.py\u001b[0m in \u001b[0;36m_call\u001b[1;34m(self, *args, **kwds)\u001b[0m\n\u001b[0;32m    853\u001b[0m       \u001b[1;31m# In this case we have created variables on the first call, so we run the\u001b[0m\u001b[1;33m\u001b[0m\u001b[1;33m\u001b[0m\u001b[1;33m\u001b[0m\u001b[0m\n\u001b[0;32m    854\u001b[0m       \u001b[1;31m# defunned version which is guaranteed to never create variables.\u001b[0m\u001b[1;33m\u001b[0m\u001b[1;33m\u001b[0m\u001b[1;33m\u001b[0m\u001b[0m\n\u001b[1;32m--> 855\u001b[1;33m       \u001b[1;32mreturn\u001b[0m \u001b[0mself\u001b[0m\u001b[1;33m.\u001b[0m\u001b[0m_stateless_fn\u001b[0m\u001b[1;33m(\u001b[0m\u001b[1;33m*\u001b[0m\u001b[0margs\u001b[0m\u001b[1;33m,\u001b[0m \u001b[1;33m**\u001b[0m\u001b[0mkwds\u001b[0m\u001b[1;33m)\u001b[0m  \u001b[1;31m# pylint: disable=not-callable\u001b[0m\u001b[1;33m\u001b[0m\u001b[1;33m\u001b[0m\u001b[0m\n\u001b[0m\u001b[0;32m    856\u001b[0m     \u001b[1;32melif\u001b[0m \u001b[0mself\u001b[0m\u001b[1;33m.\u001b[0m\u001b[0m_stateful_fn\u001b[0m \u001b[1;32mis\u001b[0m \u001b[1;32mnot\u001b[0m \u001b[1;32mNone\u001b[0m\u001b[1;33m:\u001b[0m\u001b[1;33m\u001b[0m\u001b[1;33m\u001b[0m\u001b[0m\n\u001b[0;32m    857\u001b[0m       \u001b[1;31m# Release the lock early so that multiple threads can perform the call\u001b[0m\u001b[1;33m\u001b[0m\u001b[1;33m\u001b[0m\u001b[1;33m\u001b[0m\u001b[0m\n",
      "\u001b[1;32m~\\Anaconda3\\lib\\site-packages\\tensorflow\\python\\eager\\function.py\u001b[0m in \u001b[0;36m__call__\u001b[1;34m(self, *args, **kwargs)\u001b[0m\n\u001b[0;32m   2940\u001b[0m       (graph_function,\n\u001b[0;32m   2941\u001b[0m        filtered_flat_args) = self._maybe_define_function(args, kwargs)\n\u001b[1;32m-> 2942\u001b[1;33m     return graph_function._call_flat(\n\u001b[0m\u001b[0;32m   2943\u001b[0m         filtered_flat_args, captured_inputs=graph_function.captured_inputs)  # pylint: disable=protected-access\n\u001b[0;32m   2944\u001b[0m \u001b[1;33m\u001b[0m\u001b[0m\n",
      "\u001b[1;32m~\\Anaconda3\\lib\\site-packages\\tensorflow\\python\\eager\\function.py\u001b[0m in \u001b[0;36m_call_flat\u001b[1;34m(self, args, captured_inputs, cancellation_manager)\u001b[0m\n\u001b[0;32m   1916\u001b[0m         and executing_eagerly):\n\u001b[0;32m   1917\u001b[0m       \u001b[1;31m# No tape is watching; skip to running the function.\u001b[0m\u001b[1;33m\u001b[0m\u001b[1;33m\u001b[0m\u001b[1;33m\u001b[0m\u001b[0m\n\u001b[1;32m-> 1918\u001b[1;33m       return self._build_call_outputs(self._inference_function.call(\n\u001b[0m\u001b[0;32m   1919\u001b[0m           ctx, args, cancellation_manager=cancellation_manager))\n\u001b[0;32m   1920\u001b[0m     forward_backward = self._select_forward_and_backward_functions(\n",
      "\u001b[1;32m~\\Anaconda3\\lib\\site-packages\\tensorflow\\python\\eager\\function.py\u001b[0m in \u001b[0;36mcall\u001b[1;34m(self, ctx, args, cancellation_manager)\u001b[0m\n\u001b[0;32m    553\u001b[0m       \u001b[1;32mwith\u001b[0m \u001b[0m_InterpolateFunctionError\u001b[0m\u001b[1;33m(\u001b[0m\u001b[0mself\u001b[0m\u001b[1;33m)\u001b[0m\u001b[1;33m:\u001b[0m\u001b[1;33m\u001b[0m\u001b[1;33m\u001b[0m\u001b[0m\n\u001b[0;32m    554\u001b[0m         \u001b[1;32mif\u001b[0m \u001b[0mcancellation_manager\u001b[0m \u001b[1;32mis\u001b[0m \u001b[1;32mNone\u001b[0m\u001b[1;33m:\u001b[0m\u001b[1;33m\u001b[0m\u001b[1;33m\u001b[0m\u001b[0m\n\u001b[1;32m--> 555\u001b[1;33m           outputs = execute.execute(\n\u001b[0m\u001b[0;32m    556\u001b[0m               \u001b[0mstr\u001b[0m\u001b[1;33m(\u001b[0m\u001b[0mself\u001b[0m\u001b[1;33m.\u001b[0m\u001b[0msignature\u001b[0m\u001b[1;33m.\u001b[0m\u001b[0mname\u001b[0m\u001b[1;33m)\u001b[0m\u001b[1;33m,\u001b[0m\u001b[1;33m\u001b[0m\u001b[1;33m\u001b[0m\u001b[0m\n\u001b[0;32m    557\u001b[0m               \u001b[0mnum_outputs\u001b[0m\u001b[1;33m=\u001b[0m\u001b[0mself\u001b[0m\u001b[1;33m.\u001b[0m\u001b[0m_num_outputs\u001b[0m\u001b[1;33m,\u001b[0m\u001b[1;33m\u001b[0m\u001b[1;33m\u001b[0m\u001b[0m\n",
      "\u001b[1;32m~\\Anaconda3\\lib\\site-packages\\tensorflow\\python\\eager\\execute.py\u001b[0m in \u001b[0;36mquick_execute\u001b[1;34m(op_name, num_outputs, inputs, attrs, ctx, name)\u001b[0m\n\u001b[0;32m     57\u001b[0m   \u001b[1;32mtry\u001b[0m\u001b[1;33m:\u001b[0m\u001b[1;33m\u001b[0m\u001b[1;33m\u001b[0m\u001b[0m\n\u001b[0;32m     58\u001b[0m     \u001b[0mctx\u001b[0m\u001b[1;33m.\u001b[0m\u001b[0mensure_initialized\u001b[0m\u001b[1;33m(\u001b[0m\u001b[1;33m)\u001b[0m\u001b[1;33m\u001b[0m\u001b[1;33m\u001b[0m\u001b[0m\n\u001b[1;32m---> 59\u001b[1;33m     tensors = pywrap_tfe.TFE_Py_Execute(ctx._handle, device_name, op_name,\n\u001b[0m\u001b[0;32m     60\u001b[0m                                         inputs, attrs, num_outputs)\n\u001b[0;32m     61\u001b[0m   \u001b[1;32mexcept\u001b[0m \u001b[0mcore\u001b[0m\u001b[1;33m.\u001b[0m\u001b[0m_NotOkStatusException\u001b[0m \u001b[1;32mas\u001b[0m \u001b[0me\u001b[0m\u001b[1;33m:\u001b[0m\u001b[1;33m\u001b[0m\u001b[1;33m\u001b[0m\u001b[0m\n",
      "\u001b[1;31mKeyboardInterrupt\u001b[0m: "
     ]
    }
   ],
   "source": [
    "history = model.fit(train_images_norm\n",
    "                    ,train_labels\n",
    "                    ,epochs=20\n",
    "                    ,batch_size=100\n",
    "                    ,validation_data=(val_images_norm,val_labels)\n",
    "                    ,callbacks=[\n",
    "                    tf.keras.callbacks.EarlyStopping(monitor='val_accuracy', patience=2),\n",
    "                    tf.keras.callbacks.ModelCheckpoint('/content/gdrive/My Drive/Colab Notebooks/model_{val_accuracy:.4f}.h5', save_best_only=True,\n",
    "                                        save_weights_only=False, monitor='val_accuracy')]                                                                                                           \n",
    "                   )"
   ]
  },
  {
   "cell_type": "markdown",
   "metadata": {
    "id": "bfvsmiZ1BQS_"
   },
   "source": [
    "### Validation Data\n",
    "Data on which to evaluate the loss and any model metrics at the end of each epoch<br>\n",
    "The model will not be trained on this data"
   ]
  },
  {
   "cell_type": "markdown",
   "metadata": {
    "id": "Y8bj0gb4BQS_"
   },
   "source": [
    "## Evaluate the model"
   ]
  },
  {
   "cell_type": "markdown",
   "metadata": {
    "id": "fCENqAxPBQS_"
   },
   "source": [
    "In order to ensure that this is not a simple \"memorization\" by the machine, we should evaluate the performance on the test set. This is easy to do, we simply use the `evaluate` method on our model."
   ]
  },
  {
   "cell_type": "code",
   "execution_count": 41,
   "metadata": {
    "colab": {
     "base_uri": "https://localhost:8080/"
    },
    "executionInfo": {
     "elapsed": 8425,
     "status": "ok",
     "timestamp": 1607099996004,
     "user": {
      "displayName": "Daniel Jensen",
      "photoUrl": "https://lh3.googleusercontent.com/a-/AOh14GgxK0y1Y-W44vjnQC53Ak8_BakmvjpvLobUMJWbWQ=s64",
      "userId": "09835133420012498824"
     },
     "user_tz": 300
    },
    "id": "n5ou4G4FBQS_",
    "outputId": "d7e0901e-c029-4117-f95d-c6eb30c7fdd1"
   },
   "outputs": [
    {
     "name": "stdout",
     "output_type": "stream",
     "text": [
      "313/313 [==============================] - 58s 180ms/step - loss: 2.3040 - accuracy: 0.1000\n",
      "test set accuracy:  10.000000149011612\n"
     ]
    }
   ],
   "source": [
    "loss, accuracy = model.evaluate(test_images_norm, test_labels)\n",
    "print('test set accuracy: ', accuracy * 100)"
   ]
  },
  {
   "cell_type": "markdown",
   "metadata": {
    "id": "SnGY6erRBQS_"
   },
   "source": [
    "## Predictions"
   ]
  },
  {
   "cell_type": "code",
   "execution_count": 39,
   "metadata": {
    "colab": {
     "base_uri": "https://localhost:8080/"
    },
    "executionInfo": {
     "elapsed": 7869,
     "status": "ok",
     "timestamp": 1607100006070,
     "user": {
      "displayName": "Daniel Jensen",
      "photoUrl": "https://lh3.googleusercontent.com/a-/AOh14GgxK0y1Y-W44vjnQC53Ak8_BakmvjpvLobUMJWbWQ=s64",
      "userId": "09835133420012498824"
     },
     "user_tz": 300
    },
    "id": "RFDcNklXBQS_",
    "outputId": "1d564cd2-fee0-46a3-dcef-2004b2e0d2f8"
   },
   "outputs": [
    {
     "name": "stdout",
     "output_type": "stream",
     "text": [
      "shape of preds:  (10000, 10)\n"
     ]
    }
   ],
   "source": [
    "preds = model.predict(test_images_norm)\n",
    "print('shape of preds: ', preds.shape)"
   ]
  },
  {
   "cell_type": "markdown",
   "metadata": {
    "id": "Q1dk3sX1BQS_"
   },
   "source": [
    "## Plotting Performance Metrics \n",
    "\n",
    "We use Matplotlib to create 2 plots--displaying the training and validation loss (resp. accuracy) for each (training) epoch side by side."
   ]
  },
  {
   "cell_type": "code",
   "execution_count": 40,
   "metadata": {
    "colab": {
     "base_uri": "https://localhost:8080/"
    },
    "executionInfo": {
     "elapsed": 238,
     "status": "ok",
     "timestamp": 1607100008192,
     "user": {
      "displayName": "Daniel Jensen",
      "photoUrl": "https://lh3.googleusercontent.com/a-/AOh14GgxK0y1Y-W44vjnQC53Ak8_BakmvjpvLobUMJWbWQ=s64",
      "userId": "09835133420012498824"
     },
     "user_tz": 300
    },
    "id": "ROIyEsUtBQS_",
    "outputId": "6cc8fbd9-7b60-4133-a4a7-3352e3357e15"
   },
   "outputs": [
    {
     "data": {
      "text/plain": [
       "dict_keys(['loss', 'accuracy', 'val_loss', 'val_accuracy'])"
      ]
     },
     "execution_count": 40,
     "metadata": {},
     "output_type": "execute_result"
    }
   ],
   "source": [
    "history_dict = history.history\n",
    "history_dict.keys()"
   ]
  },
  {
   "cell_type": "code",
   "execution_count": 41,
   "metadata": {
    "colab": {
     "base_uri": "https://localhost:8080/",
     "height": 162
    },
    "executionInfo": {
     "elapsed": 320,
     "status": "ok",
     "timestamp": 1607100009774,
     "user": {
      "displayName": "Daniel Jensen",
      "photoUrl": "https://lh3.googleusercontent.com/a-/AOh14GgxK0y1Y-W44vjnQC53Ak8_BakmvjpvLobUMJWbWQ=s64",
      "userId": "09835133420012498824"
     },
     "user_tz": 300
    },
    "id": "NxYHCMOlBQS_",
    "outputId": "0e2a67e7-205b-447d-f8ee-e1ff09fde0da"
   },
   "outputs": [
    {
     "data": {
      "text/html": [
       "<div>\n",
       "<style scoped>\n",
       "    .dataframe tbody tr th:only-of-type {\n",
       "        vertical-align: middle;\n",
       "    }\n",
       "\n",
       "    .dataframe tbody tr th {\n",
       "        vertical-align: top;\n",
       "    }\n",
       "\n",
       "    .dataframe thead th {\n",
       "        text-align: right;\n",
       "    }\n",
       "</style>\n",
       "<table border=\"1\" class=\"dataframe\">\n",
       "  <thead>\n",
       "    <tr style=\"text-align: right;\">\n",
       "      <th></th>\n",
       "      <th>loss</th>\n",
       "      <th>accuracy</th>\n",
       "      <th>val_loss</th>\n",
       "      <th>val_accuracy</th>\n",
       "    </tr>\n",
       "  </thead>\n",
       "  <tbody>\n",
       "    <tr>\n",
       "      <th>3</th>\n",
       "      <td>0.706649</td>\n",
       "      <td>0.751875</td>\n",
       "      <td>0.826718</td>\n",
       "      <td>0.7134</td>\n",
       "    </tr>\n",
       "    <tr>\n",
       "      <th>4</th>\n",
       "      <td>0.587387</td>\n",
       "      <td>0.794925</td>\n",
       "      <td>0.841253</td>\n",
       "      <td>0.7160</td>\n",
       "    </tr>\n",
       "    <tr>\n",
       "      <th>5</th>\n",
       "      <td>0.472725</td>\n",
       "      <td>0.835925</td>\n",
       "      <td>0.809533</td>\n",
       "      <td>0.7347</td>\n",
       "    </tr>\n",
       "    <tr>\n",
       "      <th>6</th>\n",
       "      <td>0.368896</td>\n",
       "      <td>0.870925</td>\n",
       "      <td>0.928918</td>\n",
       "      <td>0.7247</td>\n",
       "    </tr>\n",
       "    <tr>\n",
       "      <th>7</th>\n",
       "      <td>0.284827</td>\n",
       "      <td>0.900625</td>\n",
       "      <td>0.992604</td>\n",
       "      <td>0.7159</td>\n",
       "    </tr>\n",
       "  </tbody>\n",
       "</table>\n",
       "</div>"
      ],
      "text/plain": [
       "       loss  accuracy  val_loss  val_accuracy\n",
       "3  0.706649  0.751875  0.826718        0.7134\n",
       "4  0.587387  0.794925  0.841253        0.7160\n",
       "5  0.472725  0.835925  0.809533        0.7347\n",
       "6  0.368896  0.870925  0.928918        0.7247\n",
       "7  0.284827  0.900625  0.992604        0.7159"
      ]
     },
     "execution_count": 41,
     "metadata": {},
     "output_type": "execute_result"
    }
   ],
   "source": [
    "history_df=pd.DataFrame(history_dict)\n",
    "history_df.tail()"
   ]
  },
  {
   "cell_type": "code",
   "execution_count": 42,
   "metadata": {
    "executionInfo": {
     "elapsed": 192,
     "status": "ok",
     "timestamp": 1607100012088,
     "user": {
      "displayName": "Daniel Jensen",
      "photoUrl": "https://lh3.googleusercontent.com/a-/AOh14GgxK0y1Y-W44vjnQC53Ak8_BakmvjpvLobUMJWbWQ=s64",
      "userId": "09835133420012498824"
     },
     "user_tz": 300
    },
    "id": "d0WufsyEBQS_"
   },
   "outputs": [],
   "source": [
    "losses = history.history['loss']\n",
    "accs = history.history['accuracy']\n",
    "val_losses = history.history['val_loss']\n",
    "val_accs = history.history['val_accuracy']\n",
    "epochs = len(losses)"
   ]
  },
  {
   "cell_type": "code",
   "execution_count": 43,
   "metadata": {
    "colab": {
     "base_uri": "https://localhost:8080/",
     "height": 265
    },
    "executionInfo": {
     "elapsed": 473,
     "status": "ok",
     "timestamp": 1607100013998,
     "user": {
      "displayName": "Daniel Jensen",
      "photoUrl": "https://lh3.googleusercontent.com/a-/AOh14GgxK0y1Y-W44vjnQC53Ak8_BakmvjpvLobUMJWbWQ=s64",
      "userId": "09835133420012498824"
     },
     "user_tz": 300
    },
    "id": "PX_RmAQgBQS_",
    "outputId": "2213d29f-cce3-4e97-b890-221affcd66c1",
    "scrolled": false
   },
   "outputs": [
    {
     "data": {
      "image/png": "[encoded data removed]",
      "text/plain": [
       "<Figure size 1152x288 with 2 Axes>"
      ]
     },
     "metadata": {
      "needs_background": "light"
     },
     "output_type": "display_data"
    }
   ],
   "source": [
    "plt.figure(figsize=(16, 4))\n",
    "for i, metrics in enumerate(zip([losses, accs], [val_losses, val_accs], ['Loss', 'Accuracy'])):\n",
    "    plt.subplot(1, 2, i + 1)\n",
    "    plt.plot(range(epochs), metrics[0], label='Training {}'.format(metrics[2]))\n",
    "    plt.plot(range(epochs), metrics[1], label='Validation {}'.format(metrics[2]))\n",
    "    plt.legend()\n",
    "plt.show()"
   ]
  },
  {
   "cell_type": "markdown",
   "metadata": {
    "id": "eo4quLxCBQTA"
   },
   "source": [
    "## Creating confusion matrices\n",
    "\n",
    "Let us see what the confusion matrix looks like. Using both `sklearn.metrics`. Then we visualize the confusion matrix and see what that tells us."
   ]
  },
  {
   "cell_type": "markdown",
   "metadata": {
    "id": "GIVWUVh2BQTA"
   },
   "source": [
    "Get the predicted classes"
   ]
  },
  {
   "cell_type": "code",
   "execution_count": 45,
   "metadata": {
    "colab": {
     "base_uri": "https://localhost:8080/"
    },
    "executionInfo": {
     "elapsed": 31112,
     "status": "ok",
     "timestamp": 1607100048897,
     "user": {
      "displayName": "Daniel Jensen",
      "photoUrl": "https://lh3.googleusercontent.com/a-/AOh14GgxK0y1Y-W44vjnQC53Ak8_BakmvjpvLobUMJWbWQ=s64",
      "userId": "09835133420012498824"
     },
     "user_tz": 300
    },
    "id": "7gog1UjgBQTA",
    "outputId": "ca79fd54-44d6-4a3c-95ba-c8be0a4ccb8a"
   },
   "outputs": [
    {
     "data": {
      "text/plain": [
       "array([1, 6, 6, ..., 9, 1, 0], dtype=int64)"
      ]
     },
     "execution_count": 45,
     "metadata": {},
     "output_type": "execute_result"
    }
   ],
   "source": [
    "pred_classes = np.argmax(model.predict(train_images_norm), axis=-1)\n",
    "pred_classes"
   ]
  },
  {
   "cell_type": "markdown",
   "metadata": {
    "id": "DFGIarKqBQTA"
   },
   "source": [
    "### Visualizing the confusion matrix"
   ]
  },
  {
   "cell_type": "code",
   "execution_count": 46,
   "metadata": {
    "colab": {
     "base_uri": "https://localhost:8080/"
    },
    "executionInfo": {
     "elapsed": 357,
     "status": "ok",
     "timestamp": 1607100056596,
     "user": {
      "displayName": "Daniel Jensen",
      "photoUrl": "https://lh3.googleusercontent.com/a-/AOh14GgxK0y1Y-W44vjnQC53Ak8_BakmvjpvLobUMJWbWQ=s64",
      "userId": "09835133420012498824"
     },
     "user_tz": 300
    },
    "id": "e8ocOl5iBQTA",
    "outputId": "52c5bf61-62f6-491a-cc9c-591cec6dd719"
   },
   "outputs": [
    {
     "data": {
      "text/plain": [
       "<tf.Tensor: shape=(10, 10), dtype=int32, numpy=\n",
       "array([[3800,    2,   41,    8,    3,    1,    0,    6,  130,    4],\n",
       "       [  28, 3857,    2,    7,    0,    0,    0,    2,   84,   46],\n",
       "       [ 144,    4, 3559,   67,   81,   24,   17,   14,   34,   24],\n",
       "       [  90,    3,   77, 3466,   45,  152,   13,   47,   55,   36],\n",
       "       [ 122,    6,  137,   78, 3468,   34,   10,   96,   34,   16],\n",
       "       [  59,    6,  121,  266,   57, 3392,    5,  102,   20,   35],\n",
       "       [  50,   18,   77,  158,   42,   29, 3507,    8,   52,   29],\n",
       "       [  50,    1,   29,   19,   10,   15,    0, 3840,    7,   28],\n",
       "       [  31,    5,    6,    3,    2,    0,    0,    3, 3916,    9],\n",
       "       [  40,   48,    6,    3,    0,    0,    1,    3,  108, 3810]])>"
      ]
     },
     "execution_count": 46,
     "metadata": {},
     "output_type": "execute_result"
    }
   ],
   "source": [
    "conf_mx = tf.math.confusion_matrix(train_labels, pred_classes)\n",
    "conf_mx"
   ]
  },
  {
   "cell_type": "code",
   "execution_count": 47,
   "metadata": {
    "colab": {
     "base_uri": "https://localhost:8080/",
     "height": 507
    },
    "executionInfo": {
     "elapsed": 389,
     "status": "ok",
     "timestamp": 1607100061958,
     "user": {
      "displayName": "Daniel Jensen",
      "photoUrl": "https://lh3.googleusercontent.com/a-/AOh14GgxK0y1Y-W44vjnQC53Ak8_BakmvjpvLobUMJWbWQ=s64",
      "userId": "09835133420012498824"
     },
     "user_tz": 300
    },
    "id": "s8AA5bHLBQTA",
    "outputId": "0efb9347-b6fe-479e-ea51-3317b292b8d8"
   },
   "outputs": [
    {
     "data": {
      "image/png": "[encoded data removed]",
      "text/plain": [
       "<Figure size 1152x576 with 1 Axes>"
      ]
     },
     "metadata": {
      "needs_background": "light"
     },
     "output_type": "display_data"
    }
   ],
   "source": [
    "plt.figure(figsize=(16,8))\n",
    "plt.matshow(conf_mx, cmap=plt.cm.Blues,fignum=1)\n",
    "plt.xlabel(\"Predicted Classes\")\n",
    "plt.ylabel(\"Actual Classes\")\n",
    "plt.show()"
   ]
  },
  {
   "cell_type": "markdown",
   "metadata": {
    "id": "7uyMNPRdBQTA"
   },
   "source": [
    "### Load HDF5 Model Format "
   ]
  },
  {
   "cell_type": "markdown",
   "metadata": {
    "id": "PRoYhaAVT_0T"
   },
   "source": [
    "<div class=\"alert alert-block alert-info\">\n",
    "<b>tf.keras.models.load_model</b><br>\n",
    "https://www.tensorflow.org/api_docs/python/tf/keras/models/load_model</div>"
   ]
  },
  {
   "cell_type": "code",
   "execution_count": 48,
   "metadata": {
    "executionInfo": {
     "elapsed": 1886,
     "status": "ok",
     "timestamp": 1607100144510,
     "user": {
      "displayName": "Daniel Jensen",
      "photoUrl": "https://lh3.googleusercontent.com/a-/AOh14GgxK0y1Y-W44vjnQC53Ak8_BakmvjpvLobUMJWbWQ=s64",
      "userId": "09835133420012498824"
     },
     "user_tz": 300
    },
    "id": "QjE3aqniBQTA"
   },
   "outputs": [
    {
     "ename": "OSError",
     "evalue": "SavedModel file does not exist at: /content/gdrive/My Drive/Colab Notebooks/msds458/MSDS458_assignment_02b_development/models/model_0.7537.h5/{saved_model.pbtxt|saved_model.pb}",
     "output_type": "error",
     "traceback": [
      "\u001b[1;31m---------------------------------------------------------------------------\u001b[0m",
      "\u001b[1;31mOSError\u001b[0m                                   Traceback (most recent call last)",
      "\u001b[1;32m<ipython-input-48-b0d20ade04e2>\u001b[0m in \u001b[0;36m<module>\u001b[1;34m\u001b[0m\n\u001b[1;32m----> 1\u001b[1;33m \u001b[0mmodel\u001b[0m \u001b[1;33m=\u001b[0m \u001b[0mtf\u001b[0m\u001b[1;33m.\u001b[0m\u001b[0mkeras\u001b[0m\u001b[1;33m.\u001b[0m\u001b[0mmodels\u001b[0m\u001b[1;33m.\u001b[0m\u001b[0mload_model\u001b[0m\u001b[1;33m(\u001b[0m\u001b[1;34m'/content/gdrive/My Drive/Colab Notebooks/msds458/MSDS458_assignment_02b_development/models/model_0.7537.h5'\u001b[0m\u001b[1;33m)\u001b[0m\u001b[1;33m\u001b[0m\u001b[1;33m\u001b[0m\u001b[0m\n\u001b[0m",
      "\u001b[1;32m~\\Anaconda3\\lib\\site-packages\\tensorflow\\python\\keras\\saving\\save.py\u001b[0m in \u001b[0;36mload_model\u001b[1;34m(filepath, custom_objects, compile, options)\u001b[0m\n\u001b[0;32m    184\u001b[0m     \u001b[0mfilepath\u001b[0m \u001b[1;33m=\u001b[0m \u001b[0mpath_to_string\u001b[0m\u001b[1;33m(\u001b[0m\u001b[0mfilepath\u001b[0m\u001b[1;33m)\u001b[0m\u001b[1;33m\u001b[0m\u001b[1;33m\u001b[0m\u001b[0m\n\u001b[0;32m    185\u001b[0m     \u001b[1;32mif\u001b[0m \u001b[0misinstance\u001b[0m\u001b[1;33m(\u001b[0m\u001b[0mfilepath\u001b[0m\u001b[1;33m,\u001b[0m \u001b[0msix\u001b[0m\u001b[1;33m.\u001b[0m\u001b[0mstring_types\u001b[0m\u001b[1;33m)\u001b[0m\u001b[1;33m:\u001b[0m\u001b[1;33m\u001b[0m\u001b[1;33m\u001b[0m\u001b[0m\n\u001b[1;32m--> 186\u001b[1;33m       \u001b[0mloader_impl\u001b[0m\u001b[1;33m.\u001b[0m\u001b[0mparse_saved_model\u001b[0m\u001b[1;33m(\u001b[0m\u001b[0mfilepath\u001b[0m\u001b[1;33m)\u001b[0m\u001b[1;33m\u001b[0m\u001b[1;33m\u001b[0m\u001b[0m\n\u001b[0m\u001b[0;32m    187\u001b[0m       \u001b[1;32mreturn\u001b[0m \u001b[0msaved_model_load\u001b[0m\u001b[1;33m.\u001b[0m\u001b[0mload\u001b[0m\u001b[1;33m(\u001b[0m\u001b[0mfilepath\u001b[0m\u001b[1;33m,\u001b[0m \u001b[0mcompile\u001b[0m\u001b[1;33m,\u001b[0m \u001b[0moptions\u001b[0m\u001b[1;33m)\u001b[0m\u001b[1;33m\u001b[0m\u001b[1;33m\u001b[0m\u001b[0m\n\u001b[0;32m    188\u001b[0m \u001b[1;33m\u001b[0m\u001b[0m\n",
      "\u001b[1;32m~\\Anaconda3\\lib\\site-packages\\tensorflow\\python\\saved_model\\loader_impl.py\u001b[0m in \u001b[0;36mparse_saved_model\u001b[1;34m(export_dir)\u001b[0m\n\u001b[0;32m    108\u001b[0m       \u001b[1;32mraise\u001b[0m \u001b[0mIOError\u001b[0m\u001b[1;33m(\u001b[0m\u001b[1;34m\"Cannot parse file %s: %s.\"\u001b[0m \u001b[1;33m%\u001b[0m \u001b[1;33m(\u001b[0m\u001b[0mpath_to_pbtxt\u001b[0m\u001b[1;33m,\u001b[0m \u001b[0mstr\u001b[0m\u001b[1;33m(\u001b[0m\u001b[0me\u001b[0m\u001b[1;33m)\u001b[0m\u001b[1;33m)\u001b[0m\u001b[1;33m)\u001b[0m\u001b[1;33m\u001b[0m\u001b[1;33m\u001b[0m\u001b[0m\n\u001b[0;32m    109\u001b[0m   \u001b[1;32melse\u001b[0m\u001b[1;33m:\u001b[0m\u001b[1;33m\u001b[0m\u001b[1;33m\u001b[0m\u001b[0m\n\u001b[1;32m--> 110\u001b[1;33m     raise IOError(\"SavedModel file does not exist at: %s/{%s|%s}\" %\n\u001b[0m\u001b[0;32m    111\u001b[0m                   (export_dir,\n\u001b[0;32m    112\u001b[0m                    \u001b[0mconstants\u001b[0m\u001b[1;33m.\u001b[0m\u001b[0mSAVED_MODEL_FILENAME_PBTXT\u001b[0m\u001b[1;33m,\u001b[0m\u001b[1;33m\u001b[0m\u001b[1;33m\u001b[0m\u001b[0m\n",
      "\u001b[1;31mOSError\u001b[0m: SavedModel file does not exist at: /content/gdrive/My Drive/Colab Notebooks/msds458/MSDS458_assignment_02b_development/models/model_0.7537.h5/{saved_model.pbtxt|saved_model.pb}"
     ]
    }
   ],
   "source": [
    "model = tf.keras.models.load_model('/content/gdrive/My Drive/Colab Notebooks/msds458/MSDS458_assignment_02b_development/models/model_0.7537.h5')"
   ]
  },
  {
   "cell_type": "code",
   "execution_count": 49,
   "metadata": {
    "executionInfo": {
     "elapsed": 8011,
     "status": "ok",
     "timestamp": 1607100155635,
     "user": {
      "displayName": "Daniel Jensen",
      "photoUrl": "https://lh3.googleusercontent.com/a-/AOh14GgxK0y1Y-W44vjnQC53Ak8_BakmvjpvLobUMJWbWQ=s64",
      "userId": "09835133420012498824"
     },
     "user_tz": 300
    },
    "id": "LzxYqvOVBQTA"
   },
   "outputs": [],
   "source": [
    "preds = model.predict(test_images_norm)"
   ]
  },
  {
   "cell_type": "code",
   "execution_count": 50,
   "metadata": {
    "colab": {
     "base_uri": "https://localhost:8080/"
    },
    "executionInfo": {
     "elapsed": 363,
     "status": "ok",
     "timestamp": 1607100157557,
     "user": {
      "displayName": "Daniel Jensen",
      "photoUrl": "https://lh3.googleusercontent.com/a-/AOh14GgxK0y1Y-W44vjnQC53Ak8_BakmvjpvLobUMJWbWQ=s64",
      "userId": "09835133420012498824"
     },
     "user_tz": 300
    },
    "id": "fOIByBY-BQTA",
    "outputId": "0b46c96b-3944-45b0-88ec-a89da2590187"
   },
   "outputs": [
    {
     "data": {
      "text/plain": [
       "(10000, 10)"
      ]
     },
     "execution_count": 50,
     "metadata": {},
     "output_type": "execute_result"
    }
   ],
   "source": [
    "preds.shape"
   ]
  },
  {
   "cell_type": "code",
   "execution_count": 51,
   "metadata": {
    "colab": {
     "base_uri": "https://localhost:8080/"
    },
    "executionInfo": {
     "elapsed": 204,
     "status": "ok",
     "timestamp": 1607100158912,
     "user": {
      "displayName": "Daniel Jensen",
      "photoUrl": "https://lh3.googleusercontent.com/a-/AOh14GgxK0y1Y-W44vjnQC53Ak8_BakmvjpvLobUMJWbWQ=s64",
      "userId": "09835133420012498824"
     },
     "user_tz": 300
    },
    "id": "zw0iUhGkBQTA",
    "outputId": "127b7304-896e-41a4-f101-1b8529f60069"
   },
   "outputs": [
    {
     "name": "stdout",
     "output_type": "stream",
     "text": [
      "The first predictions\n",
      " [0.039 0.003 0.001 0.397 0.    0.311 0.    0.    0.238 0.011]\n",
      "\n"
     ]
    }
   ],
   "source": [
    "print(\"The first predictions\\n {}\\n\".format(preds[0]))"
   ]
  },
  {
   "cell_type": "code",
   "execution_count": 52,
   "metadata": {
    "colab": {
     "base_uri": "https://localhost:8080/"
    },
    "executionInfo": {
     "elapsed": 223,
     "status": "ok",
     "timestamp": 1607100160697,
     "user": {
      "displayName": "Daniel Jensen",
      "photoUrl": "https://lh3.googleusercontent.com/a-/AOh14GgxK0y1Y-W44vjnQC53Ak8_BakmvjpvLobUMJWbWQ=s64",
      "userId": "09835133420012498824"
     },
     "user_tz": 300
    },
    "id": "Shruj0brBQTA",
    "outputId": "9045e642-fe6a-42d9-d7d3-eecba541aef7"
   },
   "outputs": [
    {
     "name": "stdout",
     "output_type": "stream",
     "text": [
      "[['airplane', 'automobile', 'bird', 'cat', 'deer', 'dog', 'frog', 'horse', 'ship', 'truck']]\n"
     ]
    }
   ],
   "source": [
    "print(class_names)"
   ]
  },
  {
   "cell_type": "code",
   "execution_count": 53,
   "metadata": {
    "colab": {
     "base_uri": "https://localhost:8080/"
    },
    "executionInfo": {
     "elapsed": 219,
     "status": "ok",
     "timestamp": 1607100163544,
     "user": {
      "displayName": "Daniel Jensen",
      "photoUrl": "https://lh3.googleusercontent.com/a-/AOh14GgxK0y1Y-W44vjnQC53Ak8_BakmvjpvLobUMJWbWQ=s64",
      "userId": "09835133420012498824"
     },
     "user_tz": 300
    },
    "id": "rdCDoPKxBQTA",
    "outputId": "c418fbf5-32b0-4453-960e-a74829e7e0d3"
   },
   "outputs": [
    {
     "name": "stdout",
     "output_type": "stream",
     "text": [
      "First ten entries of the predictions:\n",
      " [[0.039 0.003 0.001 0.397 0.    0.311 0.    0.    0.238 0.011]\n",
      " [0.    0.    0.    0.    0.    0.    0.    0.    1.    0.   ]\n",
      " [0.024 0.023 0.    0.    0.    0.    0.    0.    0.931 0.021]\n",
      " [0.941 0.001 0.    0.    0.    0.    0.    0.    0.058 0.   ]\n",
      " [0.    0.    0.022 0.013 0.675 0.001 0.289 0.    0.    0.   ]\n",
      " [0.    0.    0.025 0.015 0.    0.006 0.854 0.    0.1   0.   ]\n",
      " [0.    0.999 0.    0.    0.    0.    0.    0.    0.    0.001]\n",
      " [0.016 0.    0.084 0.039 0.086 0.004 0.769 0.001 0.    0.   ]\n",
      " [0.001 0.    0.    0.965 0.001 0.029 0.    0.002 0.    0.001]\n",
      " [0.    0.96  0.    0.    0.    0.    0.    0.    0.    0.039]\n",
      " [0.409 0.    0.004 0.003 0.316 0.014 0.    0.211 0.042 0.001]\n",
      " [0.    0.    0.    0.    0.    0.    0.    0.    0.    1.   ]\n",
      " [0.    0.    0.017 0.069 0.022 0.891 0.    0.    0.    0.   ]\n",
      " [0.    0.    0.    0.    0.    0.005 0.    0.995 0.    0.   ]\n",
      " [0.    0.    0.    0.    0.    0.    0.    0.    0.    1.   ]\n",
      " [0.499 0.001 0.028 0.306 0.097 0.001 0.04  0.    0.023 0.006]\n",
      " [0.007 0.004 0.003 0.159 0.    0.748 0.    0.018 0.    0.06 ]\n",
      " [0.001 0.    0.002 0.106 0.008 0.052 0.    0.823 0.001 0.008]\n",
      " [0.    0.    0.    0.    0.    0.    0.    0.    1.    0.   ]\n",
      " [0.    0.002 0.    0.    0.    0.    0.997 0.    0.    0.   ]]\n",
      "\n"
     ]
    }
   ],
   "source": [
    "print(\"First ten entries of the predictions:\\n {}\\n\".format(preds[0:20]))"
   ]
  },
  {
   "cell_type": "markdown",
   "metadata": {
    "id": "qgK4yZt4BQTB"
   },
   "source": [
    "### Predictions"
   ]
  },
  {
   "cell_type": "code",
   "execution_count": 54,
   "metadata": {
    "executionInfo": {
     "elapsed": 233,
     "status": "ok",
     "timestamp": 1607100169658,
     "user": {
      "displayName": "Daniel Jensen",
      "photoUrl": "https://lh3.googleusercontent.com/a-/AOh14GgxK0y1Y-W44vjnQC53Ak8_BakmvjpvLobUMJWbWQ=s64",
      "userId": "09835133420012498824"
     },
     "user_tz": 300
    },
    "id": "yur69upzBQTB"
   },
   "outputs": [],
   "source": [
    "cm = sns.light_palette((260, 75, 60), input=\"husl\", as_cmap=True)"
   ]
  },
  {
   "cell_type": "code",
   "execution_count": 55,
   "metadata": {
    "colab": {
     "base_uri": "https://localhost:8080/",
     "height": 386
    },
    "executionInfo": {
     "elapsed": 250,
     "status": "ok",
     "timestamp": 1607100170937,
     "user": {
      "displayName": "Daniel Jensen",
      "photoUrl": "https://lh3.googleusercontent.com/a-/AOh14GgxK0y1Y-W44vjnQC53Ak8_BakmvjpvLobUMJWbWQ=s64",
      "userId": "09835133420012498824"
     },
     "user_tz": 300
    },
    "id": "FoXrnXb8BQTB",
    "outputId": "7b06283e-7b62-4522-cd1d-3e167f4f83c7"
   },
   "outputs": [
    {
     "data": {
      "text/html": [
       "<style  type=\"text/css\" >\n",
       "    #T_4a25d176_78a3_11eb_84a4_08d23e8861f3row0_col0 {\n",
       "            background-color:  #e5e9fa;\n",
       "            color:  #000000;\n",
       "        }    #T_4a25d176_78a3_11eb_84a4_08d23e8861f3row0_col1 {\n",
       "            background-color:  #eaedfb;\n",
       "            color:  #000000;\n",
       "        }    #T_4a25d176_78a3_11eb_84a4_08d23e8861f3row0_col2 {\n",
       "            background-color:  #e9edfb;\n",
       "            color:  #000000;\n",
       "        }    #T_4a25d176_78a3_11eb_84a4_08d23e8861f3row0_col3 {\n",
       "            background-color:  #bac5f1;\n",
       "            color:  #000000;\n",
       "        }    #T_4a25d176_78a3_11eb_84a4_08d23e8861f3row0_col4 {\n",
       "            background-color:  #eaedfb;\n",
       "            color:  #000000;\n",
       "        }    #T_4a25d176_78a3_11eb_84a4_08d23e8861f3row0_col5 {\n",
       "            background-color:  #c2cbf3;\n",
       "            color:  #000000;\n",
       "        }    #T_4a25d176_78a3_11eb_84a4_08d23e8861f3row0_col6 {\n",
       "            background-color:  #eaedfb;\n",
       "            color:  #000000;\n",
       "        }    #T_4a25d176_78a3_11eb_84a4_08d23e8861f3row0_col7 {\n",
       "            background-color:  #eaedfb;\n",
       "            color:  #000000;\n",
       "        }    #T_4a25d176_78a3_11eb_84a4_08d23e8861f3row0_col8 {\n",
       "            background-color:  #ced6f5;\n",
       "            color:  #000000;\n",
       "        }    #T_4a25d176_78a3_11eb_84a4_08d23e8861f3row0_col9 {\n",
       "            background-color:  #e9ecfb;\n",
       "            color:  #000000;\n",
       "        }    #T_4a25d176_78a3_11eb_84a4_08d23e8861f3row1_col0 {\n",
       "            background-color:  #eaedfb;\n",
       "            color:  #000000;\n",
       "        }    #T_4a25d176_78a3_11eb_84a4_08d23e8861f3row1_col1 {\n",
       "            background-color:  #eaedfb;\n",
       "            color:  #000000;\n",
       "        }    #T_4a25d176_78a3_11eb_84a4_08d23e8861f3row1_col2 {\n",
       "            background-color:  #eaedfb;\n",
       "            color:  #000000;\n",
       "        }    #T_4a25d176_78a3_11eb_84a4_08d23e8861f3row1_col3 {\n",
       "            background-color:  #eaedfb;\n",
       "            color:  #000000;\n",
       "        }    #T_4a25d176_78a3_11eb_84a4_08d23e8861f3row1_col4 {\n",
       "            background-color:  #eaedfb;\n",
       "            color:  #000000;\n",
       "        }    #T_4a25d176_78a3_11eb_84a4_08d23e8861f3row1_col5 {\n",
       "            background-color:  #eaedfb;\n",
       "            color:  #000000;\n",
       "        }    #T_4a25d176_78a3_11eb_84a4_08d23e8861f3row1_col6 {\n",
       "            background-color:  #eaedfb;\n",
       "            color:  #000000;\n",
       "        }    #T_4a25d176_78a3_11eb_84a4_08d23e8861f3row1_col7 {\n",
       "            background-color:  #eaedfb;\n",
       "            color:  #000000;\n",
       "        }    #T_4a25d176_78a3_11eb_84a4_08d23e8861f3row1_col8 {\n",
       "            background-color:  #778ce4;\n",
       "            color:  #000000;\n",
       "        }    #T_4a25d176_78a3_11eb_84a4_08d23e8861f3row1_col9 {\n",
       "            background-color:  #eaedfb;\n",
       "            color:  #000000;\n",
       "        }    #T_4a25d176_78a3_11eb_84a4_08d23e8861f3row2_col0 {\n",
       "            background-color:  #e7ebfa;\n",
       "            color:  #000000;\n",
       "        }    #T_4a25d176_78a3_11eb_84a4_08d23e8861f3row2_col1 {\n",
       "            background-color:  #e8ebfa;\n",
       "            color:  #000000;\n",
       "        }    #T_4a25d176_78a3_11eb_84a4_08d23e8861f3row2_col2 {\n",
       "            background-color:  #eaedfb;\n",
       "            color:  #000000;\n",
       "        }    #T_4a25d176_78a3_11eb_84a4_08d23e8861f3row2_col3 {\n",
       "            background-color:  #eaedfb;\n",
       "            color:  #000000;\n",
       "        }    #T_4a25d176_78a3_11eb_84a4_08d23e8861f3row2_col4 {\n",
       "            background-color:  #eaedfb;\n",
       "            color:  #000000;\n",
       "        }    #T_4a25d176_78a3_11eb_84a4_08d23e8861f3row2_col5 {\n",
       "            background-color:  #eaedfb;\n",
       "            color:  #000000;\n",
       "        }    #T_4a25d176_78a3_11eb_84a4_08d23e8861f3row2_col6 {\n",
       "            background-color:  #eaedfb;\n",
       "            color:  #000000;\n",
       "        }    #T_4a25d176_78a3_11eb_84a4_08d23e8861f3row2_col7 {\n",
       "            background-color:  #eaedfb;\n",
       "            color:  #000000;\n",
       "        }    #T_4a25d176_78a3_11eb_84a4_08d23e8861f3row2_col8 {\n",
       "            background-color:  #7f92e5;\n",
       "            color:  #000000;\n",
       "        }    #T_4a25d176_78a3_11eb_84a4_08d23e8861f3row2_col9 {\n",
       "            background-color:  #e8ebfa;\n",
       "            color:  #000000;\n",
       "        }    #T_4a25d176_78a3_11eb_84a4_08d23e8861f3row3_col0 {\n",
       "            background-color:  #778ce4;\n",
       "            color:  #000000;\n",
       "        }    #T_4a25d176_78a3_11eb_84a4_08d23e8861f3row3_col1 {\n",
       "            background-color:  #eaedfb;\n",
       "            color:  #000000;\n",
       "        }    #T_4a25d176_78a3_11eb_84a4_08d23e8861f3row3_col2 {\n",
       "            background-color:  #eaedfb;\n",
       "            color:  #000000;\n",
       "        }    #T_4a25d176_78a3_11eb_84a4_08d23e8861f3row3_col3 {\n",
       "            background-color:  #eaedfb;\n",
       "            color:  #000000;\n",
       "        }    #T_4a25d176_78a3_11eb_84a4_08d23e8861f3row3_col4 {\n",
       "            background-color:  #eaedfb;\n",
       "            color:  #000000;\n",
       "        }    #T_4a25d176_78a3_11eb_84a4_08d23e8861f3row3_col5 {\n",
       "            background-color:  #eaedfb;\n",
       "            color:  #000000;\n",
       "        }    #T_4a25d176_78a3_11eb_84a4_08d23e8861f3row3_col6 {\n",
       "            background-color:  #eaedfb;\n",
       "            color:  #000000;\n",
       "        }    #T_4a25d176_78a3_11eb_84a4_08d23e8861f3row3_col7 {\n",
       "            background-color:  #eaedfb;\n",
       "            color:  #000000;\n",
       "        }    #T_4a25d176_78a3_11eb_84a4_08d23e8861f3row3_col8 {\n",
       "            background-color:  #e3e8f9;\n",
       "            color:  #000000;\n",
       "        }    #T_4a25d176_78a3_11eb_84a4_08d23e8861f3row3_col9 {\n",
       "            background-color:  #eaedfb;\n",
       "            color:  #000000;\n",
       "        }    #T_4a25d176_78a3_11eb_84a4_08d23e8861f3row4_col0 {\n",
       "            background-color:  #eaedfb;\n",
       "            color:  #000000;\n",
       "        }    #T_4a25d176_78a3_11eb_84a4_08d23e8861f3row4_col1 {\n",
       "            background-color:  #eaedfb;\n",
       "            color:  #000000;\n",
       "        }    #T_4a25d176_78a3_11eb_84a4_08d23e8861f3row4_col2 {\n",
       "            background-color:  #ccd3f5;\n",
       "            color:  #000000;\n",
       "        }    #T_4a25d176_78a3_11eb_84a4_08d23e8861f3row4_col3 {\n",
       "            background-color:  #e8ecfa;\n",
       "            color:  #000000;\n",
       "        }    #T_4a25d176_78a3_11eb_84a4_08d23e8861f3row4_col4 {\n",
       "            background-color:  #778ce4;\n",
       "            color:  #000000;\n",
       "        }    #T_4a25d176_78a3_11eb_84a4_08d23e8861f3row4_col5 {\n",
       "            background-color:  #eaedfb;\n",
       "            color:  #000000;\n",
       "        }    #T_4a25d176_78a3_11eb_84a4_08d23e8861f3row4_col6 {\n",
       "            background-color:  #c8d1f4;\n",
       "            color:  #000000;\n",
       "        }    #T_4a25d176_78a3_11eb_84a4_08d23e8861f3row4_col7 {\n",
       "            background-color:  #eaedfb;\n",
       "            color:  #000000;\n",
       "        }    #T_4a25d176_78a3_11eb_84a4_08d23e8861f3row4_col8 {\n",
       "            background-color:  #eaedfb;\n",
       "            color:  #000000;\n",
       "        }    #T_4a25d176_78a3_11eb_84a4_08d23e8861f3row4_col9 {\n",
       "            background-color:  #eaedfb;\n",
       "            color:  #000000;\n",
       "        }    #T_4a25d176_78a3_11eb_84a4_08d23e8861f3row5_col0 {\n",
       "            background-color:  #eaedfb;\n",
       "            color:  #000000;\n",
       "        }    #T_4a25d176_78a3_11eb_84a4_08d23e8861f3row5_col1 {\n",
       "            background-color:  #eaedfb;\n",
       "            color:  #000000;\n",
       "        }    #T_4a25d176_78a3_11eb_84a4_08d23e8861f3row5_col2 {\n",
       "            background-color:  #c8d0f4;\n",
       "            color:  #000000;\n",
       "        }    #T_4a25d176_78a3_11eb_84a4_08d23e8861f3row5_col3 {\n",
       "            background-color:  #e8ecfa;\n",
       "            color:  #000000;\n",
       "        }    #T_4a25d176_78a3_11eb_84a4_08d23e8861f3row5_col4 {\n",
       "            background-color:  #eaedfb;\n",
       "            color:  #000000;\n",
       "        }    #T_4a25d176_78a3_11eb_84a4_08d23e8861f3row5_col5 {\n",
       "            background-color:  #e9edfb;\n",
       "            color:  #000000;\n",
       "        }    #T_4a25d176_78a3_11eb_84a4_08d23e8861f3row5_col6 {\n",
       "            background-color:  #8799e7;\n",
       "            color:  #000000;\n",
       "        }    #T_4a25d176_78a3_11eb_84a4_08d23e8861f3row5_col7 {\n",
       "            background-color:  #eaedfb;\n",
       "            color:  #000000;\n",
       "        }    #T_4a25d176_78a3_11eb_84a4_08d23e8861f3row5_col8 {\n",
       "            background-color:  #dfe3f8;\n",
       "            color:  #000000;\n",
       "        }    #T_4a25d176_78a3_11eb_84a4_08d23e8861f3row5_col9 {\n",
       "            background-color:  #eaedfb;\n",
       "            color:  #000000;\n",
       "        }    #T_4a25d176_78a3_11eb_84a4_08d23e8861f3row6_col0 {\n",
       "            background-color:  #eaedfb;\n",
       "            color:  #000000;\n",
       "        }    #T_4a25d176_78a3_11eb_84a4_08d23e8861f3row6_col1 {\n",
       "            background-color:  #778ce4;\n",
       "            color:  #000000;\n",
       "        }    #T_4a25d176_78a3_11eb_84a4_08d23e8861f3row6_col2 {\n",
       "            background-color:  #eaedfb;\n",
       "            color:  #000000;\n",
       "        }    #T_4a25d176_78a3_11eb_84a4_08d23e8861f3row6_col3 {\n",
       "            background-color:  #eaedfb;\n",
       "            color:  #000000;\n",
       "        }    #T_4a25d176_78a3_11eb_84a4_08d23e8861f3row6_col4 {\n",
       "            background-color:  #eaedfb;\n",
       "            color:  #000000;\n",
       "        }    #T_4a25d176_78a3_11eb_84a4_08d23e8861f3row6_col5 {\n",
       "            background-color:  #eaedfb;\n",
       "            color:  #000000;\n",
       "        }    #T_4a25d176_78a3_11eb_84a4_08d23e8861f3row6_col6 {\n",
       "            background-color:  #eaedfb;\n",
       "            color:  #000000;\n",
       "        }    #T_4a25d176_78a3_11eb_84a4_08d23e8861f3row6_col7 {\n",
       "            background-color:  #eaedfb;\n",
       "            color:  #000000;\n",
       "        }    #T_4a25d176_78a3_11eb_84a4_08d23e8861f3row6_col8 {\n",
       "            background-color:  #eaedfb;\n",
       "            color:  #000000;\n",
       "        }    #T_4a25d176_78a3_11eb_84a4_08d23e8861f3row6_col9 {\n",
       "            background-color:  #eaedfb;\n",
       "            color:  #000000;\n",
       "        }    #T_4a25d176_78a3_11eb_84a4_08d23e8861f3row7_col0 {\n",
       "            background-color:  #e8ebfa;\n",
       "            color:  #000000;\n",
       "        }    #T_4a25d176_78a3_11eb_84a4_08d23e8861f3row7_col1 {\n",
       "            background-color:  #eaedfb;\n",
       "            color:  #000000;\n",
       "        }    #T_4a25d176_78a3_11eb_84a4_08d23e8861f3row7_col2 {\n",
       "            background-color:  #778ce4;\n",
       "            color:  #000000;\n",
       "        }    #T_4a25d176_78a3_11eb_84a4_08d23e8861f3row7_col3 {\n",
       "            background-color:  #e5e9fa;\n",
       "            color:  #000000;\n",
       "        }    #T_4a25d176_78a3_11eb_84a4_08d23e8861f3row7_col4 {\n",
       "            background-color:  #dbe1f8;\n",
       "            color:  #000000;\n",
       "        }    #T_4a25d176_78a3_11eb_84a4_08d23e8861f3row7_col5 {\n",
       "            background-color:  #e9edfb;\n",
       "            color:  #000000;\n",
       "        }    #T_4a25d176_78a3_11eb_84a4_08d23e8861f3row7_col6 {\n",
       "            background-color:  #91a2e9;\n",
       "            color:  #000000;\n",
       "        }    #T_4a25d176_78a3_11eb_84a4_08d23e8861f3row7_col7 {\n",
       "            background-color:  #eaedfb;\n",
       "            color:  #000000;\n",
       "        }    #T_4a25d176_78a3_11eb_84a4_08d23e8861f3row7_col8 {\n",
       "            background-color:  #eaedfb;\n",
       "            color:  #000000;\n",
       "        }    #T_4a25d176_78a3_11eb_84a4_08d23e8861f3row7_col9 {\n",
       "            background-color:  #eaedfb;\n",
       "            color:  #000000;\n",
       "        }    #T_4a25d176_78a3_11eb_84a4_08d23e8861f3row8_col0 {\n",
       "            background-color:  #eaedfb;\n",
       "            color:  #000000;\n",
       "        }    #T_4a25d176_78a3_11eb_84a4_08d23e8861f3row8_col1 {\n",
       "            background-color:  #eaedfb;\n",
       "            color:  #000000;\n",
       "        }    #T_4a25d176_78a3_11eb_84a4_08d23e8861f3row8_col2 {\n",
       "            background-color:  #e9edfb;\n",
       "            color:  #000000;\n",
       "        }    #T_4a25d176_78a3_11eb_84a4_08d23e8861f3row8_col3 {\n",
       "            background-color:  #778ce4;\n",
       "            color:  #000000;\n",
       "        }    #T_4a25d176_78a3_11eb_84a4_08d23e8861f3row8_col4 {\n",
       "            background-color:  #eaedfb;\n",
       "            color:  #000000;\n",
       "        }    #T_4a25d176_78a3_11eb_84a4_08d23e8861f3row8_col5 {\n",
       "            background-color:  #e6eafa;\n",
       "            color:  #000000;\n",
       "        }    #T_4a25d176_78a3_11eb_84a4_08d23e8861f3row8_col6 {\n",
       "            background-color:  #eaedfb;\n",
       "            color:  #000000;\n",
       "        }    #T_4a25d176_78a3_11eb_84a4_08d23e8861f3row8_col7 {\n",
       "            background-color:  #eaedfb;\n",
       "            color:  #000000;\n",
       "        }    #T_4a25d176_78a3_11eb_84a4_08d23e8861f3row8_col8 {\n",
       "            background-color:  #eaedfb;\n",
       "            color:  #000000;\n",
       "        }    #T_4a25d176_78a3_11eb_84a4_08d23e8861f3row8_col9 {\n",
       "            background-color:  #eaedfb;\n",
       "            color:  #000000;\n",
       "        }    #T_4a25d176_78a3_11eb_84a4_08d23e8861f3row9_col0 {\n",
       "            background-color:  #eaedfb;\n",
       "            color:  #000000;\n",
       "        }    #T_4a25d176_78a3_11eb_84a4_08d23e8861f3row9_col1 {\n",
       "            background-color:  #7b8fe4;\n",
       "            color:  #000000;\n",
       "        }    #T_4a25d176_78a3_11eb_84a4_08d23e8861f3row9_col2 {\n",
       "            background-color:  #eaedfb;\n",
       "            color:  #000000;\n",
       "        }    #T_4a25d176_78a3_11eb_84a4_08d23e8861f3row9_col3 {\n",
       "            background-color:  #eaedfb;\n",
       "            color:  #000000;\n",
       "        }    #T_4a25d176_78a3_11eb_84a4_08d23e8861f3row9_col4 {\n",
       "            background-color:  #eaedfb;\n",
       "            color:  #000000;\n",
       "        }    #T_4a25d176_78a3_11eb_84a4_08d23e8861f3row9_col5 {\n",
       "            background-color:  #eaedfb;\n",
       "            color:  #000000;\n",
       "        }    #T_4a25d176_78a3_11eb_84a4_08d23e8861f3row9_col6 {\n",
       "            background-color:  #eaedfb;\n",
       "            color:  #000000;\n",
       "        }    #T_4a25d176_78a3_11eb_84a4_08d23e8861f3row9_col7 {\n",
       "            background-color:  #eaedfb;\n",
       "            color:  #000000;\n",
       "        }    #T_4a25d176_78a3_11eb_84a4_08d23e8861f3row9_col8 {\n",
       "            background-color:  #eaedfb;\n",
       "            color:  #000000;\n",
       "        }    #T_4a25d176_78a3_11eb_84a4_08d23e8861f3row9_col9 {\n",
       "            background-color:  #e6eafa;\n",
       "            color:  #000000;\n",
       "        }    #T_4a25d176_78a3_11eb_84a4_08d23e8861f3row10_col0 {\n",
       "            background-color:  #b8c3f1;\n",
       "            color:  #000000;\n",
       "        }    #T_4a25d176_78a3_11eb_84a4_08d23e8861f3row10_col1 {\n",
       "            background-color:  #eaedfb;\n",
       "            color:  #000000;\n",
       "        }    #T_4a25d176_78a3_11eb_84a4_08d23e8861f3row10_col2 {\n",
       "            background-color:  #e4e8fa;\n",
       "            color:  #000000;\n",
       "        }    #T_4a25d176_78a3_11eb_84a4_08d23e8861f3row10_col3 {\n",
       "            background-color:  #eaedfb;\n",
       "            color:  #000000;\n",
       "        }    #T_4a25d176_78a3_11eb_84a4_08d23e8861f3row10_col4 {\n",
       "            background-color:  #b4c0f0;\n",
       "            color:  #000000;\n",
       "        }    #T_4a25d176_78a3_11eb_84a4_08d23e8861f3row10_col5 {\n",
       "            background-color:  #e8ebfa;\n",
       "            color:  #000000;\n",
       "        }    #T_4a25d176_78a3_11eb_84a4_08d23e8861f3row10_col6 {\n",
       "            background-color:  #eaedfb;\n",
       "            color:  #000000;\n",
       "        }    #T_4a25d176_78a3_11eb_84a4_08d23e8861f3row10_col7 {\n",
       "            background-color:  #d1d8f6;\n",
       "            color:  #000000;\n",
       "        }    #T_4a25d176_78a3_11eb_84a4_08d23e8861f3row10_col8 {\n",
       "            background-color:  #e5e9fa;\n",
       "            color:  #000000;\n",
       "        }    #T_4a25d176_78a3_11eb_84a4_08d23e8861f3row10_col9 {\n",
       "            background-color:  #eaedfb;\n",
       "            color:  #000000;\n",
       "        }    #T_4a25d176_78a3_11eb_84a4_08d23e8861f3row11_col0 {\n",
       "            background-color:  #eaedfb;\n",
       "            color:  #000000;\n",
       "        }    #T_4a25d176_78a3_11eb_84a4_08d23e8861f3row11_col1 {\n",
       "            background-color:  #eaedfb;\n",
       "            color:  #000000;\n",
       "        }    #T_4a25d176_78a3_11eb_84a4_08d23e8861f3row11_col2 {\n",
       "            background-color:  #eaedfb;\n",
       "            color:  #000000;\n",
       "        }    #T_4a25d176_78a3_11eb_84a4_08d23e8861f3row11_col3 {\n",
       "            background-color:  #eaedfb;\n",
       "            color:  #000000;\n",
       "        }    #T_4a25d176_78a3_11eb_84a4_08d23e8861f3row11_col4 {\n",
       "            background-color:  #eaedfb;\n",
       "            color:  #000000;\n",
       "        }    #T_4a25d176_78a3_11eb_84a4_08d23e8861f3row11_col5 {\n",
       "            background-color:  #eaedfb;\n",
       "            color:  #000000;\n",
       "        }    #T_4a25d176_78a3_11eb_84a4_08d23e8861f3row11_col6 {\n",
       "            background-color:  #eaedfb;\n",
       "            color:  #000000;\n",
       "        }    #T_4a25d176_78a3_11eb_84a4_08d23e8861f3row11_col7 {\n",
       "            background-color:  #eaedfb;\n",
       "            color:  #000000;\n",
       "        }    #T_4a25d176_78a3_11eb_84a4_08d23e8861f3row11_col8 {\n",
       "            background-color:  #eaedfb;\n",
       "            color:  #000000;\n",
       "        }    #T_4a25d176_78a3_11eb_84a4_08d23e8861f3row11_col9 {\n",
       "            background-color:  #778ce4;\n",
       "            color:  #000000;\n",
       "        }    #T_4a25d176_78a3_11eb_84a4_08d23e8861f3row12_col0 {\n",
       "            background-color:  #eaedfb;\n",
       "            color:  #000000;\n",
       "        }    #T_4a25d176_78a3_11eb_84a4_08d23e8861f3row12_col1 {\n",
       "            background-color:  #eaedfb;\n",
       "            color:  #000000;\n",
       "        }    #T_4a25d176_78a3_11eb_84a4_08d23e8861f3row12_col2 {\n",
       "            background-color:  #d2d9f6;\n",
       "            color:  #000000;\n",
       "        }    #T_4a25d176_78a3_11eb_84a4_08d23e8861f3row12_col3 {\n",
       "            background-color:  #e2e6f9;\n",
       "            color:  #000000;\n",
       "        }    #T_4a25d176_78a3_11eb_84a4_08d23e8861f3row12_col4 {\n",
       "            background-color:  #e6eafa;\n",
       "            color:  #000000;\n",
       "        }    #T_4a25d176_78a3_11eb_84a4_08d23e8861f3row12_col5 {\n",
       "            background-color:  #778ce4;\n",
       "            color:  #000000;\n",
       "        }    #T_4a25d176_78a3_11eb_84a4_08d23e8861f3row12_col6 {\n",
       "            background-color:  #eaedfb;\n",
       "            color:  #000000;\n",
       "        }    #T_4a25d176_78a3_11eb_84a4_08d23e8861f3row12_col7 {\n",
       "            background-color:  #eaedfb;\n",
       "            color:  #000000;\n",
       "        }    #T_4a25d176_78a3_11eb_84a4_08d23e8861f3row12_col8 {\n",
       "            background-color:  #eaedfb;\n",
       "            color:  #000000;\n",
       "        }    #T_4a25d176_78a3_11eb_84a4_08d23e8861f3row12_col9 {\n",
       "            background-color:  #eaedfb;\n",
       "            color:  #000000;\n",
       "        }    #T_4a25d176_78a3_11eb_84a4_08d23e8861f3row13_col0 {\n",
       "            background-color:  #eaedfb;\n",
       "            color:  #000000;\n",
       "        }    #T_4a25d176_78a3_11eb_84a4_08d23e8861f3row13_col1 {\n",
       "            background-color:  #eaedfb;\n",
       "            color:  #000000;\n",
       "        }    #T_4a25d176_78a3_11eb_84a4_08d23e8861f3row13_col2 {\n",
       "            background-color:  #eaedfb;\n",
       "            color:  #000000;\n",
       "        }    #T_4a25d176_78a3_11eb_84a4_08d23e8861f3row13_col3 {\n",
       "            background-color:  #eaedfb;\n",
       "            color:  #000000;\n",
       "        }    #T_4a25d176_78a3_11eb_84a4_08d23e8861f3row13_col4 {\n",
       "            background-color:  #eaedfb;\n",
       "            color:  #000000;\n",
       "        }    #T_4a25d176_78a3_11eb_84a4_08d23e8861f3row13_col5 {\n",
       "            background-color:  #e9edfb;\n",
       "            color:  #000000;\n",
       "        }    #T_4a25d176_78a3_11eb_84a4_08d23e8861f3row13_col6 {\n",
       "            background-color:  #eaedfb;\n",
       "            color:  #000000;\n",
       "        }    #T_4a25d176_78a3_11eb_84a4_08d23e8861f3row13_col7 {\n",
       "            background-color:  #778ce4;\n",
       "            color:  #000000;\n",
       "        }    #T_4a25d176_78a3_11eb_84a4_08d23e8861f3row13_col8 {\n",
       "            background-color:  #eaedfb;\n",
       "            color:  #000000;\n",
       "        }    #T_4a25d176_78a3_11eb_84a4_08d23e8861f3row13_col9 {\n",
       "            background-color:  #eaedfb;\n",
       "            color:  #000000;\n",
       "        }    #T_4a25d176_78a3_11eb_84a4_08d23e8861f3row14_col0 {\n",
       "            background-color:  #eaedfb;\n",
       "            color:  #000000;\n",
       "        }    #T_4a25d176_78a3_11eb_84a4_08d23e8861f3row14_col1 {\n",
       "            background-color:  #eaedfb;\n",
       "            color:  #000000;\n",
       "        }    #T_4a25d176_78a3_11eb_84a4_08d23e8861f3row14_col2 {\n",
       "            background-color:  #eaedfb;\n",
       "            color:  #000000;\n",
       "        }    #T_4a25d176_78a3_11eb_84a4_08d23e8861f3row14_col3 {\n",
       "            background-color:  #eaedfb;\n",
       "            color:  #000000;\n",
       "        }    #T_4a25d176_78a3_11eb_84a4_08d23e8861f3row14_col4 {\n",
       "            background-color:  #eaedfb;\n",
       "            color:  #000000;\n",
       "        }    #T_4a25d176_78a3_11eb_84a4_08d23e8861f3row14_col5 {\n",
       "            background-color:  #eaedfb;\n",
       "            color:  #000000;\n",
       "        }    #T_4a25d176_78a3_11eb_84a4_08d23e8861f3row14_col6 {\n",
       "            background-color:  #eaedfb;\n",
       "            color:  #000000;\n",
       "        }    #T_4a25d176_78a3_11eb_84a4_08d23e8861f3row14_col7 {\n",
       "            background-color:  #eaedfb;\n",
       "            color:  #000000;\n",
       "        }    #T_4a25d176_78a3_11eb_84a4_08d23e8861f3row14_col8 {\n",
       "            background-color:  #eaedfb;\n",
       "            color:  #000000;\n",
       "        }    #T_4a25d176_78a3_11eb_84a4_08d23e8861f3row14_col9 {\n",
       "            background-color:  #778ce4;\n",
       "            color:  #000000;\n",
       "        }    #T_4a25d176_78a3_11eb_84a4_08d23e8861f3row15_col0 {\n",
       "            background-color:  #adb9ee;\n",
       "            color:  #000000;\n",
       "        }    #T_4a25d176_78a3_11eb_84a4_08d23e8861f3row15_col1 {\n",
       "            background-color:  #eaedfb;\n",
       "            color:  #000000;\n",
       "        }    #T_4a25d176_78a3_11eb_84a4_08d23e8861f3row15_col2 {\n",
       "            background-color:  #c3cdf3;\n",
       "            color:  #000000;\n",
       "        }    #T_4a25d176_78a3_11eb_84a4_08d23e8861f3row15_col3 {\n",
       "            background-color:  #c5cef3;\n",
       "            color:  #000000;\n",
       "        }    #T_4a25d176_78a3_11eb_84a4_08d23e8861f3row15_col4 {\n",
       "            background-color:  #dadff7;\n",
       "            color:  #000000;\n",
       "        }    #T_4a25d176_78a3_11eb_84a4_08d23e8861f3row15_col5 {\n",
       "            background-color:  #eaedfb;\n",
       "            color:  #000000;\n",
       "        }    #T_4a25d176_78a3_11eb_84a4_08d23e8861f3row15_col6 {\n",
       "            background-color:  #e5e9fa;\n",
       "            color:  #000000;\n",
       "        }    #T_4a25d176_78a3_11eb_84a4_08d23e8861f3row15_col7 {\n",
       "            background-color:  #eaedfb;\n",
       "            color:  #000000;\n",
       "        }    #T_4a25d176_78a3_11eb_84a4_08d23e8861f3row15_col8 {\n",
       "            background-color:  #e8ebfa;\n",
       "            color:  #000000;\n",
       "        }    #T_4a25d176_78a3_11eb_84a4_08d23e8861f3row15_col9 {\n",
       "            background-color:  #e9edfb;\n",
       "            color:  #000000;\n",
       "        }    #T_4a25d176_78a3_11eb_84a4_08d23e8861f3row16_col0 {\n",
       "            background-color:  #e9edfb;\n",
       "            color:  #000000;\n",
       "        }    #T_4a25d176_78a3_11eb_84a4_08d23e8861f3row16_col1 {\n",
       "            background-color:  #e9edfb;\n",
       "            color:  #000000;\n",
       "        }    #T_4a25d176_78a3_11eb_84a4_08d23e8861f3row16_col2 {\n",
       "            background-color:  #e5e9fa;\n",
       "            color:  #000000;\n",
       "        }    #T_4a25d176_78a3_11eb_84a4_08d23e8861f3row16_col3 {\n",
       "            background-color:  #d7ddf7;\n",
       "            color:  #000000;\n",
       "        }    #T_4a25d176_78a3_11eb_84a4_08d23e8861f3row16_col4 {\n",
       "            background-color:  #eaedfb;\n",
       "            color:  #000000;\n",
       "        }    #T_4a25d176_78a3_11eb_84a4_08d23e8861f3row16_col5 {\n",
       "            background-color:  #899be7;\n",
       "            color:  #000000;\n",
       "        }    #T_4a25d176_78a3_11eb_84a4_08d23e8861f3row16_col6 {\n",
       "            background-color:  #eaedfb;\n",
       "            color:  #000000;\n",
       "        }    #T_4a25d176_78a3_11eb_84a4_08d23e8861f3row16_col7 {\n",
       "            background-color:  #e8ebfa;\n",
       "            color:  #000000;\n",
       "        }    #T_4a25d176_78a3_11eb_84a4_08d23e8861f3row16_col8 {\n",
       "            background-color:  #eaedfb;\n",
       "            color:  #000000;\n",
       "        }    #T_4a25d176_78a3_11eb_84a4_08d23e8861f3row16_col9 {\n",
       "            background-color:  #e3e7f9;\n",
       "            color:  #000000;\n",
       "        }    #T_4a25d176_78a3_11eb_84a4_08d23e8861f3row17_col0 {\n",
       "            background-color:  #eaedfb;\n",
       "            color:  #000000;\n",
       "        }    #T_4a25d176_78a3_11eb_84a4_08d23e8861f3row17_col1 {\n",
       "            background-color:  #eaedfb;\n",
       "            color:  #000000;\n",
       "        }    #T_4a25d176_78a3_11eb_84a4_08d23e8861f3row17_col2 {\n",
       "            background-color:  #e8ebfa;\n",
       "            color:  #000000;\n",
       "        }    #T_4a25d176_78a3_11eb_84a4_08d23e8861f3row17_col3 {\n",
       "            background-color:  #dde2f8;\n",
       "            color:  #000000;\n",
       "        }    #T_4a25d176_78a3_11eb_84a4_08d23e8861f3row17_col4 {\n",
       "            background-color:  #e8ecfa;\n",
       "            color:  #000000;\n",
       "        }    #T_4a25d176_78a3_11eb_84a4_08d23e8861f3row17_col5 {\n",
       "            background-color:  #e3e8f9;\n",
       "            color:  #000000;\n",
       "        }    #T_4a25d176_78a3_11eb_84a4_08d23e8861f3row17_col6 {\n",
       "            background-color:  #eaedfb;\n",
       "            color:  #000000;\n",
       "        }    #T_4a25d176_78a3_11eb_84a4_08d23e8861f3row17_col7 {\n",
       "            background-color:  #8b9ce8;\n",
       "            color:  #000000;\n",
       "        }    #T_4a25d176_78a3_11eb_84a4_08d23e8861f3row17_col8 {\n",
       "            background-color:  #eaedfb;\n",
       "            color:  #000000;\n",
       "        }    #T_4a25d176_78a3_11eb_84a4_08d23e8861f3row17_col9 {\n",
       "            background-color:  #e9ecfb;\n",
       "            color:  #000000;\n",
       "        }    #T_4a25d176_78a3_11eb_84a4_08d23e8861f3row18_col0 {\n",
       "            background-color:  #eaedfb;\n",
       "            color:  #000000;\n",
       "        }    #T_4a25d176_78a3_11eb_84a4_08d23e8861f3row18_col1 {\n",
       "            background-color:  #eaedfb;\n",
       "            color:  #000000;\n",
       "        }    #T_4a25d176_78a3_11eb_84a4_08d23e8861f3row18_col2 {\n",
       "            background-color:  #eaedfb;\n",
       "            color:  #000000;\n",
       "        }    #T_4a25d176_78a3_11eb_84a4_08d23e8861f3row18_col3 {\n",
       "            background-color:  #eaedfb;\n",
       "            color:  #000000;\n",
       "        }    #T_4a25d176_78a3_11eb_84a4_08d23e8861f3row18_col4 {\n",
       "            background-color:  #eaedfb;\n",
       "            color:  #000000;\n",
       "        }    #T_4a25d176_78a3_11eb_84a4_08d23e8861f3row18_col5 {\n",
       "            background-color:  #eaedfb;\n",
       "            color:  #000000;\n",
       "        }    #T_4a25d176_78a3_11eb_84a4_08d23e8861f3row18_col6 {\n",
       "            background-color:  #eaedfb;\n",
       "            color:  #000000;\n",
       "        }    #T_4a25d176_78a3_11eb_84a4_08d23e8861f3row18_col7 {\n",
       "            background-color:  #eaedfb;\n",
       "            color:  #000000;\n",
       "        }    #T_4a25d176_78a3_11eb_84a4_08d23e8861f3row18_col8 {\n",
       "            background-color:  #778ce4;\n",
       "            color:  #000000;\n",
       "        }    #T_4a25d176_78a3_11eb_84a4_08d23e8861f3row18_col9 {\n",
       "            background-color:  #eaedfb;\n",
       "            color:  #000000;\n",
       "        }    #T_4a25d176_78a3_11eb_84a4_08d23e8861f3row19_col0 {\n",
       "            background-color:  #eaedfb;\n",
       "            color:  #000000;\n",
       "        }    #T_4a25d176_78a3_11eb_84a4_08d23e8861f3row19_col1 {\n",
       "            background-color:  #eaedfb;\n",
       "            color:  #000000;\n",
       "        }    #T_4a25d176_78a3_11eb_84a4_08d23e8861f3row19_col2 {\n",
       "            background-color:  #eaedfb;\n",
       "            color:  #000000;\n",
       "        }    #T_4a25d176_78a3_11eb_84a4_08d23e8861f3row19_col3 {\n",
       "            background-color:  #eaedfb;\n",
       "            color:  #000000;\n",
       "        }    #T_4a25d176_78a3_11eb_84a4_08d23e8861f3row19_col4 {\n",
       "            background-color:  #eaedfb;\n",
       "            color:  #000000;\n",
       "        }    #T_4a25d176_78a3_11eb_84a4_08d23e8861f3row19_col5 {\n",
       "            background-color:  #eaedfb;\n",
       "            color:  #000000;\n",
       "        }    #T_4a25d176_78a3_11eb_84a4_08d23e8861f3row19_col6 {\n",
       "            background-color:  #778ce4;\n",
       "            color:  #000000;\n",
       "        }    #T_4a25d176_78a3_11eb_84a4_08d23e8861f3row19_col7 {\n",
       "            background-color:  #eaedfb;\n",
       "            color:  #000000;\n",
       "        }    #T_4a25d176_78a3_11eb_84a4_08d23e8861f3row19_col8 {\n",
       "            background-color:  #eaedfb;\n",
       "            color:  #000000;\n",
       "        }    #T_4a25d176_78a3_11eb_84a4_08d23e8861f3row19_col9 {\n",
       "            background-color:  #eaedfb;\n",
       "            color:  #000000;\n",
       "        }</style><table id=\"T_4a25d176_78a3_11eb_84a4_08d23e8861f3\" ><thead>    <tr>        <th class=\"blank level0\" ></th>        <th class=\"col_heading level0 col0\" >airplane</th>        <th class=\"col_heading level0 col1\" >automobile</th>        <th class=\"col_heading level0 col2\" >bird</th>        <th class=\"col_heading level0 col3\" >cat</th>        <th class=\"col_heading level0 col4\" >deer</th>        <th class=\"col_heading level0 col5\" >dog</th>        <th class=\"col_heading level0 col6\" >frog</th>        <th class=\"col_heading level0 col7\" >horse</th>        <th class=\"col_heading level0 col8\" >ship</th>        <th class=\"col_heading level0 col9\" >truck</th>    </tr></thead><tbody>\n",
       "                <tr>\n",
       "                        <th id=\"T_4a25d176_78a3_11eb_84a4_08d23e8861f3level0_row0\" class=\"row_heading level0 row0\" >0</th>\n",
       "                        <td id=\"T_4a25d176_78a3_11eb_84a4_08d23e8861f3row0_col0\" class=\"data row0 col0\" >3.87%</td>\n",
       "                        <td id=\"T_4a25d176_78a3_11eb_84a4_08d23e8861f3row0_col1\" class=\"data row0 col1\" >0.31%</td>\n",
       "                        <td id=\"T_4a25d176_78a3_11eb_84a4_08d23e8861f3row0_col2\" class=\"data row0 col2\" >0.06%</td>\n",
       "                        <td id=\"T_4a25d176_78a3_11eb_84a4_08d23e8861f3row0_col3\" class=\"data row0 col3\" >39.69%</td>\n",
       "                        <td id=\"T_4a25d176_78a3_11eb_84a4_08d23e8861f3row0_col4\" class=\"data row0 col4\" >0.00%</td>\n",
       "                        <td id=\"T_4a25d176_78a3_11eb_84a4_08d23e8861f3row0_col5\" class=\"data row0 col5\" >31.08%</td>\n",
       "                        <td id=\"T_4a25d176_78a3_11eb_84a4_08d23e8861f3row0_col6\" class=\"data row0 col6\" >0.04%</td>\n",
       "                        <td id=\"T_4a25d176_78a3_11eb_84a4_08d23e8861f3row0_col7\" class=\"data row0 col7\" >0.01%</td>\n",
       "                        <td id=\"T_4a25d176_78a3_11eb_84a4_08d23e8861f3row0_col8\" class=\"data row0 col8\" >23.84%</td>\n",
       "                        <td id=\"T_4a25d176_78a3_11eb_84a4_08d23e8861f3row0_col9\" class=\"data row0 col9\" >1.10%</td>\n",
       "            </tr>\n",
       "            <tr>\n",
       "                        <th id=\"T_4a25d176_78a3_11eb_84a4_08d23e8861f3level0_row1\" class=\"row_heading level0 row1\" >1</th>\n",
       "                        <td id=\"T_4a25d176_78a3_11eb_84a4_08d23e8861f3row1_col0\" class=\"data row1 col0\" >0.00%</td>\n",
       "                        <td id=\"T_4a25d176_78a3_11eb_84a4_08d23e8861f3row1_col1\" class=\"data row1 col1\" >0.00%</td>\n",
       "                        <td id=\"T_4a25d176_78a3_11eb_84a4_08d23e8861f3row1_col2\" class=\"data row1 col2\" >0.00%</td>\n",
       "                        <td id=\"T_4a25d176_78a3_11eb_84a4_08d23e8861f3row1_col3\" class=\"data row1 col3\" >0.00%</td>\n",
       "                        <td id=\"T_4a25d176_78a3_11eb_84a4_08d23e8861f3row1_col4\" class=\"data row1 col4\" >0.00%</td>\n",
       "                        <td id=\"T_4a25d176_78a3_11eb_84a4_08d23e8861f3row1_col5\" class=\"data row1 col5\" >0.00%</td>\n",
       "                        <td id=\"T_4a25d176_78a3_11eb_84a4_08d23e8861f3row1_col6\" class=\"data row1 col6\" >0.00%</td>\n",
       "                        <td id=\"T_4a25d176_78a3_11eb_84a4_08d23e8861f3row1_col7\" class=\"data row1 col7\" >0.00%</td>\n",
       "                        <td id=\"T_4a25d176_78a3_11eb_84a4_08d23e8861f3row1_col8\" class=\"data row1 col8\" >100.00%</td>\n",
       "                        <td id=\"T_4a25d176_78a3_11eb_84a4_08d23e8861f3row1_col9\" class=\"data row1 col9\" >0.00%</td>\n",
       "            </tr>\n",
       "            <tr>\n",
       "                        <th id=\"T_4a25d176_78a3_11eb_84a4_08d23e8861f3level0_row2\" class=\"row_heading level0 row2\" >2</th>\n",
       "                        <td id=\"T_4a25d176_78a3_11eb_84a4_08d23e8861f3row2_col0\" class=\"data row2 col0\" >2.36%</td>\n",
       "                        <td id=\"T_4a25d176_78a3_11eb_84a4_08d23e8861f3row2_col1\" class=\"data row2 col1\" >2.32%</td>\n",
       "                        <td id=\"T_4a25d176_78a3_11eb_84a4_08d23e8861f3row2_col2\" class=\"data row2 col2\" >0.03%</td>\n",
       "                        <td id=\"T_4a25d176_78a3_11eb_84a4_08d23e8861f3row2_col3\" class=\"data row2 col3\" >0.02%</td>\n",
       "                        <td id=\"T_4a25d176_78a3_11eb_84a4_08d23e8861f3row2_col4\" class=\"data row2 col4\" >0.01%</td>\n",
       "                        <td id=\"T_4a25d176_78a3_11eb_84a4_08d23e8861f3row2_col5\" class=\"data row2 col5\" >0.00%</td>\n",
       "                        <td id=\"T_4a25d176_78a3_11eb_84a4_08d23e8861f3row2_col6\" class=\"data row2 col6\" >0.00%</td>\n",
       "                        <td id=\"T_4a25d176_78a3_11eb_84a4_08d23e8861f3row2_col7\" class=\"data row2 col7\" >0.02%</td>\n",
       "                        <td id=\"T_4a25d176_78a3_11eb_84a4_08d23e8861f3row2_col8\" class=\"data row2 col8\" >93.12%</td>\n",
       "                        <td id=\"T_4a25d176_78a3_11eb_84a4_08d23e8861f3row2_col9\" class=\"data row2 col9\" >2.13%</td>\n",
       "            </tr>\n",
       "            <tr>\n",
       "                        <th id=\"T_4a25d176_78a3_11eb_84a4_08d23e8861f3level0_row3\" class=\"row_heading level0 row3\" >3</th>\n",
       "                        <td id=\"T_4a25d176_78a3_11eb_84a4_08d23e8861f3row3_col0\" class=\"data row3 col0\" >94.08%</td>\n",
       "                        <td id=\"T_4a25d176_78a3_11eb_84a4_08d23e8861f3row3_col1\" class=\"data row3 col1\" >0.11%</td>\n",
       "                        <td id=\"T_4a25d176_78a3_11eb_84a4_08d23e8861f3row3_col2\" class=\"data row3 col2\" >0.00%</td>\n",
       "                        <td id=\"T_4a25d176_78a3_11eb_84a4_08d23e8861f3row3_col3\" class=\"data row3 col3\" >0.02%</td>\n",
       "                        <td id=\"T_4a25d176_78a3_11eb_84a4_08d23e8861f3row3_col4\" class=\"data row3 col4\" >0.00%</td>\n",
       "                        <td id=\"T_4a25d176_78a3_11eb_84a4_08d23e8861f3row3_col5\" class=\"data row3 col5\" >0.00%</td>\n",
       "                        <td id=\"T_4a25d176_78a3_11eb_84a4_08d23e8861f3row3_col6\" class=\"data row3 col6\" >0.00%</td>\n",
       "                        <td id=\"T_4a25d176_78a3_11eb_84a4_08d23e8861f3row3_col7\" class=\"data row3 col7\" >0.00%</td>\n",
       "                        <td id=\"T_4a25d176_78a3_11eb_84a4_08d23e8861f3row3_col8\" class=\"data row3 col8\" >5.78%</td>\n",
       "                        <td id=\"T_4a25d176_78a3_11eb_84a4_08d23e8861f3row3_col9\" class=\"data row3 col9\" >0.01%</td>\n",
       "            </tr>\n",
       "            <tr>\n",
       "                        <th id=\"T_4a25d176_78a3_11eb_84a4_08d23e8861f3level0_row4\" class=\"row_heading level0 row4\" >4</th>\n",
       "                        <td id=\"T_4a25d176_78a3_11eb_84a4_08d23e8861f3row4_col0\" class=\"data row4 col0\" >0.00%</td>\n",
       "                        <td id=\"T_4a25d176_78a3_11eb_84a4_08d23e8861f3row4_col1\" class=\"data row4 col1\" >0.00%</td>\n",
       "                        <td id=\"T_4a25d176_78a3_11eb_84a4_08d23e8861f3row4_col2\" class=\"data row4 col2\" >2.22%</td>\n",
       "                        <td id=\"T_4a25d176_78a3_11eb_84a4_08d23e8861f3row4_col3\" class=\"data row4 col3\" >1.35%</td>\n",
       "                        <td id=\"T_4a25d176_78a3_11eb_84a4_08d23e8861f3row4_col4\" class=\"data row4 col4\" >67.46%</td>\n",
       "                        <td id=\"T_4a25d176_78a3_11eb_84a4_08d23e8861f3row4_col5\" class=\"data row4 col5\" >0.09%</td>\n",
       "                        <td id=\"T_4a25d176_78a3_11eb_84a4_08d23e8861f3row4_col6\" class=\"data row4 col6\" >28.89%</td>\n",
       "                        <td id=\"T_4a25d176_78a3_11eb_84a4_08d23e8861f3row4_col7\" class=\"data row4 col7\" >0.00%</td>\n",
       "                        <td id=\"T_4a25d176_78a3_11eb_84a4_08d23e8861f3row4_col8\" class=\"data row4 col8\" >0.00%</td>\n",
       "                        <td id=\"T_4a25d176_78a3_11eb_84a4_08d23e8861f3row4_col9\" class=\"data row4 col9\" >0.00%</td>\n",
       "            </tr>\n",
       "            <tr>\n",
       "                        <th id=\"T_4a25d176_78a3_11eb_84a4_08d23e8861f3level0_row5\" class=\"row_heading level0 row5\" >5</th>\n",
       "                        <td id=\"T_4a25d176_78a3_11eb_84a4_08d23e8861f3row5_col0\" class=\"data row5 col0\" >0.04%</td>\n",
       "                        <td id=\"T_4a25d176_78a3_11eb_84a4_08d23e8861f3row5_col1\" class=\"data row5 col1\" >0.00%</td>\n",
       "                        <td id=\"T_4a25d176_78a3_11eb_84a4_08d23e8861f3row5_col2\" class=\"data row5 col2\" >2.51%</td>\n",
       "                        <td id=\"T_4a25d176_78a3_11eb_84a4_08d23e8861f3row5_col3\" class=\"data row5 col3\" >1.45%</td>\n",
       "                        <td id=\"T_4a25d176_78a3_11eb_84a4_08d23e8861f3row5_col4\" class=\"data row5 col4\" >0.01%</td>\n",
       "                        <td id=\"T_4a25d176_78a3_11eb_84a4_08d23e8861f3row5_col5\" class=\"data row5 col5\" >0.56%</td>\n",
       "                        <td id=\"T_4a25d176_78a3_11eb_84a4_08d23e8861f3row5_col6\" class=\"data row5 col6\" >85.41%</td>\n",
       "                        <td id=\"T_4a25d176_78a3_11eb_84a4_08d23e8861f3row5_col7\" class=\"data row5 col7\" >0.03%</td>\n",
       "                        <td id=\"T_4a25d176_78a3_11eb_84a4_08d23e8861f3row5_col8\" class=\"data row5 col8\" >9.99%</td>\n",
       "                        <td id=\"T_4a25d176_78a3_11eb_84a4_08d23e8861f3row5_col9\" class=\"data row5 col9\" >0.00%</td>\n",
       "            </tr>\n",
       "            <tr>\n",
       "                        <th id=\"T_4a25d176_78a3_11eb_84a4_08d23e8861f3level0_row6\" class=\"row_heading level0 row6\" >6</th>\n",
       "                        <td id=\"T_4a25d176_78a3_11eb_84a4_08d23e8861f3row6_col0\" class=\"data row6 col0\" >0.00%</td>\n",
       "                        <td id=\"T_4a25d176_78a3_11eb_84a4_08d23e8861f3row6_col1\" class=\"data row6 col1\" >99.92%</td>\n",
       "                        <td id=\"T_4a25d176_78a3_11eb_84a4_08d23e8861f3row6_col2\" class=\"data row6 col2\" >0.00%</td>\n",
       "                        <td id=\"T_4a25d176_78a3_11eb_84a4_08d23e8861f3row6_col3\" class=\"data row6 col3\" >0.00%</td>\n",
       "                        <td id=\"T_4a25d176_78a3_11eb_84a4_08d23e8861f3row6_col4\" class=\"data row6 col4\" >0.00%</td>\n",
       "                        <td id=\"T_4a25d176_78a3_11eb_84a4_08d23e8861f3row6_col5\" class=\"data row6 col5\" >0.02%</td>\n",
       "                        <td id=\"T_4a25d176_78a3_11eb_84a4_08d23e8861f3row6_col6\" class=\"data row6 col6\" >0.00%</td>\n",
       "                        <td id=\"T_4a25d176_78a3_11eb_84a4_08d23e8861f3row6_col7\" class=\"data row6 col7\" >0.00%</td>\n",
       "                        <td id=\"T_4a25d176_78a3_11eb_84a4_08d23e8861f3row6_col8\" class=\"data row6 col8\" >0.00%</td>\n",
       "                        <td id=\"T_4a25d176_78a3_11eb_84a4_08d23e8861f3row6_col9\" class=\"data row6 col9\" >0.06%</td>\n",
       "            </tr>\n",
       "            <tr>\n",
       "                        <th id=\"T_4a25d176_78a3_11eb_84a4_08d23e8861f3level0_row7\" class=\"row_heading level0 row7\" >7</th>\n",
       "                        <td id=\"T_4a25d176_78a3_11eb_84a4_08d23e8861f3row7_col0\" class=\"data row7 col0\" >1.65%</td>\n",
       "                        <td id=\"T_4a25d176_78a3_11eb_84a4_08d23e8861f3row7_col1\" class=\"data row7 col1\" >0.01%</td>\n",
       "                        <td id=\"T_4a25d176_78a3_11eb_84a4_08d23e8861f3row7_col2\" class=\"data row7 col2\" >8.38%</td>\n",
       "                        <td id=\"T_4a25d176_78a3_11eb_84a4_08d23e8861f3row7_col3\" class=\"data row7 col3\" >3.89%</td>\n",
       "                        <td id=\"T_4a25d176_78a3_11eb_84a4_08d23e8861f3row7_col4\" class=\"data row7 col4\" >8.57%</td>\n",
       "                        <td id=\"T_4a25d176_78a3_11eb_84a4_08d23e8861f3row7_col5\" class=\"data row7 col5\" >0.38%</td>\n",
       "                        <td id=\"T_4a25d176_78a3_11eb_84a4_08d23e8861f3row7_col6\" class=\"data row7 col6\" >76.90%</td>\n",
       "                        <td id=\"T_4a25d176_78a3_11eb_84a4_08d23e8861f3row7_col7\" class=\"data row7 col7\" >0.14%</td>\n",
       "                        <td id=\"T_4a25d176_78a3_11eb_84a4_08d23e8861f3row7_col8\" class=\"data row7 col8\" >0.02%</td>\n",
       "                        <td id=\"T_4a25d176_78a3_11eb_84a4_08d23e8861f3row7_col9\" class=\"data row7 col9\" >0.05%</td>\n",
       "            </tr>\n",
       "            <tr>\n",
       "                        <th id=\"T_4a25d176_78a3_11eb_84a4_08d23e8861f3level0_row8\" class=\"row_heading level0 row8\" >8</th>\n",
       "                        <td id=\"T_4a25d176_78a3_11eb_84a4_08d23e8861f3row8_col0\" class=\"data row8 col0\" >0.08%</td>\n",
       "                        <td id=\"T_4a25d176_78a3_11eb_84a4_08d23e8861f3row8_col1\" class=\"data row8 col1\" >0.00%</td>\n",
       "                        <td id=\"T_4a25d176_78a3_11eb_84a4_08d23e8861f3row8_col2\" class=\"data row8 col2\" >0.05%</td>\n",
       "                        <td id=\"T_4a25d176_78a3_11eb_84a4_08d23e8861f3row8_col3\" class=\"data row8 col3\" >96.53%</td>\n",
       "                        <td id=\"T_4a25d176_78a3_11eb_84a4_08d23e8861f3row8_col4\" class=\"data row8 col4\" >0.09%</td>\n",
       "                        <td id=\"T_4a25d176_78a3_11eb_84a4_08d23e8861f3row8_col5\" class=\"data row8 col5\" >2.86%</td>\n",
       "                        <td id=\"T_4a25d176_78a3_11eb_84a4_08d23e8861f3row8_col6\" class=\"data row8 col6\" >0.01%</td>\n",
       "                        <td id=\"T_4a25d176_78a3_11eb_84a4_08d23e8861f3row8_col7\" class=\"data row8 col7\" >0.22%</td>\n",
       "                        <td id=\"T_4a25d176_78a3_11eb_84a4_08d23e8861f3row8_col8\" class=\"data row8 col8\" >0.00%</td>\n",
       "                        <td id=\"T_4a25d176_78a3_11eb_84a4_08d23e8861f3row8_col9\" class=\"data row8 col9\" >0.14%</td>\n",
       "            </tr>\n",
       "            <tr>\n",
       "                        <th id=\"T_4a25d176_78a3_11eb_84a4_08d23e8861f3level0_row9\" class=\"row_heading level0 row9\" >9</th>\n",
       "                        <td id=\"T_4a25d176_78a3_11eb_84a4_08d23e8861f3row9_col0\" class=\"data row9 col0\" >0.05%</td>\n",
       "                        <td id=\"T_4a25d176_78a3_11eb_84a4_08d23e8861f3row9_col1\" class=\"data row9 col1\" >96.03%</td>\n",
       "                        <td id=\"T_4a25d176_78a3_11eb_84a4_08d23e8861f3row9_col2\" class=\"data row9 col2\" >0.00%</td>\n",
       "                        <td id=\"T_4a25d176_78a3_11eb_84a4_08d23e8861f3row9_col3\" class=\"data row9 col3\" >0.00%</td>\n",
       "                        <td id=\"T_4a25d176_78a3_11eb_84a4_08d23e8861f3row9_col4\" class=\"data row9 col4\" >0.00%</td>\n",
       "                        <td id=\"T_4a25d176_78a3_11eb_84a4_08d23e8861f3row9_col5\" class=\"data row9 col5\" >0.00%</td>\n",
       "                        <td id=\"T_4a25d176_78a3_11eb_84a4_08d23e8861f3row9_col6\" class=\"data row9 col6\" >0.00%</td>\n",
       "                        <td id=\"T_4a25d176_78a3_11eb_84a4_08d23e8861f3row9_col7\" class=\"data row9 col7\" >0.00%</td>\n",
       "                        <td id=\"T_4a25d176_78a3_11eb_84a4_08d23e8861f3row9_col8\" class=\"data row9 col8\" >0.03%</td>\n",
       "                        <td id=\"T_4a25d176_78a3_11eb_84a4_08d23e8861f3row9_col9\" class=\"data row9 col9\" >3.88%</td>\n",
       "            </tr>\n",
       "            <tr>\n",
       "                        <th id=\"T_4a25d176_78a3_11eb_84a4_08d23e8861f3level0_row10\" class=\"row_heading level0 row10\" >10</th>\n",
       "                        <td id=\"T_4a25d176_78a3_11eb_84a4_08d23e8861f3row10_col0\" class=\"data row10 col0\" >40.88%</td>\n",
       "                        <td id=\"T_4a25d176_78a3_11eb_84a4_08d23e8861f3row10_col1\" class=\"data row10 col1\" >0.03%</td>\n",
       "                        <td id=\"T_4a25d176_78a3_11eb_84a4_08d23e8861f3row10_col2\" class=\"data row10 col2\" >0.39%</td>\n",
       "                        <td id=\"T_4a25d176_78a3_11eb_84a4_08d23e8861f3row10_col3\" class=\"data row10 col3\" >0.25%</td>\n",
       "                        <td id=\"T_4a25d176_78a3_11eb_84a4_08d23e8861f3row10_col4\" class=\"data row10 col4\" >31.58%</td>\n",
       "                        <td id=\"T_4a25d176_78a3_11eb_84a4_08d23e8861f3row10_col5\" class=\"data row10 col5\" >1.40%</td>\n",
       "                        <td id=\"T_4a25d176_78a3_11eb_84a4_08d23e8861f3row10_col6\" class=\"data row10 col6\" >0.00%</td>\n",
       "                        <td id=\"T_4a25d176_78a3_11eb_84a4_08d23e8861f3row10_col7\" class=\"data row10 col7\" >21.10%</td>\n",
       "                        <td id=\"T_4a25d176_78a3_11eb_84a4_08d23e8861f3row10_col8\" class=\"data row10 col8\" >4.23%</td>\n",
       "                        <td id=\"T_4a25d176_78a3_11eb_84a4_08d23e8861f3row10_col9\" class=\"data row10 col9\" >0.12%</td>\n",
       "            </tr>\n",
       "            <tr>\n",
       "                        <th id=\"T_4a25d176_78a3_11eb_84a4_08d23e8861f3level0_row11\" class=\"row_heading level0 row11\" >11</th>\n",
       "                        <td id=\"T_4a25d176_78a3_11eb_84a4_08d23e8861f3row11_col0\" class=\"data row11 col0\" >0.00%</td>\n",
       "                        <td id=\"T_4a25d176_78a3_11eb_84a4_08d23e8861f3row11_col1\" class=\"data row11 col1\" >0.00%</td>\n",
       "                        <td id=\"T_4a25d176_78a3_11eb_84a4_08d23e8861f3row11_col2\" class=\"data row11 col2\" >0.00%</td>\n",
       "                        <td id=\"T_4a25d176_78a3_11eb_84a4_08d23e8861f3row11_col3\" class=\"data row11 col3\" >0.00%</td>\n",
       "                        <td id=\"T_4a25d176_78a3_11eb_84a4_08d23e8861f3row11_col4\" class=\"data row11 col4\" >0.00%</td>\n",
       "                        <td id=\"T_4a25d176_78a3_11eb_84a4_08d23e8861f3row11_col5\" class=\"data row11 col5\" >0.00%</td>\n",
       "                        <td id=\"T_4a25d176_78a3_11eb_84a4_08d23e8861f3row11_col6\" class=\"data row11 col6\" >0.00%</td>\n",
       "                        <td id=\"T_4a25d176_78a3_11eb_84a4_08d23e8861f3row11_col7\" class=\"data row11 col7\" >0.00%</td>\n",
       "                        <td id=\"T_4a25d176_78a3_11eb_84a4_08d23e8861f3row11_col8\" class=\"data row11 col8\" >0.00%</td>\n",
       "                        <td id=\"T_4a25d176_78a3_11eb_84a4_08d23e8861f3row11_col9\" class=\"data row11 col9\" >100.00%</td>\n",
       "            </tr>\n",
       "            <tr>\n",
       "                        <th id=\"T_4a25d176_78a3_11eb_84a4_08d23e8861f3level0_row12\" class=\"row_heading level0 row12\" >12</th>\n",
       "                        <td id=\"T_4a25d176_78a3_11eb_84a4_08d23e8861f3row12_col0\" class=\"data row12 col0\" >0.00%</td>\n",
       "                        <td id=\"T_4a25d176_78a3_11eb_84a4_08d23e8861f3row12_col1\" class=\"data row12 col1\" >0.00%</td>\n",
       "                        <td id=\"T_4a25d176_78a3_11eb_84a4_08d23e8861f3row12_col2\" class=\"data row12 col2\" >1.71%</td>\n",
       "                        <td id=\"T_4a25d176_78a3_11eb_84a4_08d23e8861f3row12_col3\" class=\"data row12 col3\" >6.90%</td>\n",
       "                        <td id=\"T_4a25d176_78a3_11eb_84a4_08d23e8861f3row12_col4\" class=\"data row12 col4\" >2.23%</td>\n",
       "                        <td id=\"T_4a25d176_78a3_11eb_84a4_08d23e8861f3row12_col5\" class=\"data row12 col5\" >89.12%</td>\n",
       "                        <td id=\"T_4a25d176_78a3_11eb_84a4_08d23e8861f3row12_col6\" class=\"data row12 col6\" >0.03%</td>\n",
       "                        <td id=\"T_4a25d176_78a3_11eb_84a4_08d23e8861f3row12_col7\" class=\"data row12 col7\" >0.02%</td>\n",
       "                        <td id=\"T_4a25d176_78a3_11eb_84a4_08d23e8861f3row12_col8\" class=\"data row12 col8\" >0.00%</td>\n",
       "                        <td id=\"T_4a25d176_78a3_11eb_84a4_08d23e8861f3row12_col9\" class=\"data row12 col9\" >0.00%</td>\n",
       "            </tr>\n",
       "            <tr>\n",
       "                        <th id=\"T_4a25d176_78a3_11eb_84a4_08d23e8861f3level0_row13\" class=\"row_heading level0 row13\" >13</th>\n",
       "                        <td id=\"T_4a25d176_78a3_11eb_84a4_08d23e8861f3row13_col0\" class=\"data row13 col0\" >0.00%</td>\n",
       "                        <td id=\"T_4a25d176_78a3_11eb_84a4_08d23e8861f3row13_col1\" class=\"data row13 col1\" >0.00%</td>\n",
       "                        <td id=\"T_4a25d176_78a3_11eb_84a4_08d23e8861f3row13_col2\" class=\"data row13 col2\" >0.00%</td>\n",
       "                        <td id=\"T_4a25d176_78a3_11eb_84a4_08d23e8861f3row13_col3\" class=\"data row13 col3\" >0.00%</td>\n",
       "                        <td id=\"T_4a25d176_78a3_11eb_84a4_08d23e8861f3row13_col4\" class=\"data row13 col4\" >0.00%</td>\n",
       "                        <td id=\"T_4a25d176_78a3_11eb_84a4_08d23e8861f3row13_col5\" class=\"data row13 col5\" >0.54%</td>\n",
       "                        <td id=\"T_4a25d176_78a3_11eb_84a4_08d23e8861f3row13_col6\" class=\"data row13 col6\" >0.00%</td>\n",
       "                        <td id=\"T_4a25d176_78a3_11eb_84a4_08d23e8861f3row13_col7\" class=\"data row13 col7\" >99.46%</td>\n",
       "                        <td id=\"T_4a25d176_78a3_11eb_84a4_08d23e8861f3row13_col8\" class=\"data row13 col8\" >0.00%</td>\n",
       "                        <td id=\"T_4a25d176_78a3_11eb_84a4_08d23e8861f3row13_col9\" class=\"data row13 col9\" >0.00%</td>\n",
       "            </tr>\n",
       "            <tr>\n",
       "                        <th id=\"T_4a25d176_78a3_11eb_84a4_08d23e8861f3level0_row14\" class=\"row_heading level0 row14\" >14</th>\n",
       "                        <td id=\"T_4a25d176_78a3_11eb_84a4_08d23e8861f3row14_col0\" class=\"data row14 col0\" >0.00%</td>\n",
       "                        <td id=\"T_4a25d176_78a3_11eb_84a4_08d23e8861f3row14_col1\" class=\"data row14 col1\" >0.00%</td>\n",
       "                        <td id=\"T_4a25d176_78a3_11eb_84a4_08d23e8861f3row14_col2\" class=\"data row14 col2\" >0.00%</td>\n",
       "                        <td id=\"T_4a25d176_78a3_11eb_84a4_08d23e8861f3row14_col3\" class=\"data row14 col3\" >0.00%</td>\n",
       "                        <td id=\"T_4a25d176_78a3_11eb_84a4_08d23e8861f3row14_col4\" class=\"data row14 col4\" >0.00%</td>\n",
       "                        <td id=\"T_4a25d176_78a3_11eb_84a4_08d23e8861f3row14_col5\" class=\"data row14 col5\" >0.00%</td>\n",
       "                        <td id=\"T_4a25d176_78a3_11eb_84a4_08d23e8861f3row14_col6\" class=\"data row14 col6\" >0.00%</td>\n",
       "                        <td id=\"T_4a25d176_78a3_11eb_84a4_08d23e8861f3row14_col7\" class=\"data row14 col7\" >0.00%</td>\n",
       "                        <td id=\"T_4a25d176_78a3_11eb_84a4_08d23e8861f3row14_col8\" class=\"data row14 col8\" >0.00%</td>\n",
       "                        <td id=\"T_4a25d176_78a3_11eb_84a4_08d23e8861f3row14_col9\" class=\"data row14 col9\" >100.00%</td>\n",
       "            </tr>\n",
       "            <tr>\n",
       "                        <th id=\"T_4a25d176_78a3_11eb_84a4_08d23e8861f3level0_row15\" class=\"row_heading level0 row15\" >15</th>\n",
       "                        <td id=\"T_4a25d176_78a3_11eb_84a4_08d23e8861f3row15_col0\" class=\"data row15 col0\" >49.88%</td>\n",
       "                        <td id=\"T_4a25d176_78a3_11eb_84a4_08d23e8861f3row15_col1\" class=\"data row15 col1\" >0.08%</td>\n",
       "                        <td id=\"T_4a25d176_78a3_11eb_84a4_08d23e8861f3row15_col2\" class=\"data row15 col2\" >2.80%</td>\n",
       "                        <td id=\"T_4a25d176_78a3_11eb_84a4_08d23e8861f3row15_col3\" class=\"data row15 col3\" >30.56%</td>\n",
       "                        <td id=\"T_4a25d176_78a3_11eb_84a4_08d23e8861f3row15_col4\" class=\"data row15 col4\" >9.66%</td>\n",
       "                        <td id=\"T_4a25d176_78a3_11eb_84a4_08d23e8861f3row15_col5\" class=\"data row15 col5\" >0.12%</td>\n",
       "                        <td id=\"T_4a25d176_78a3_11eb_84a4_08d23e8861f3row15_col6\" class=\"data row15 col6\" >4.01%</td>\n",
       "                        <td id=\"T_4a25d176_78a3_11eb_84a4_08d23e8861f3row15_col7\" class=\"data row15 col7\" >0.00%</td>\n",
       "                        <td id=\"T_4a25d176_78a3_11eb_84a4_08d23e8861f3row15_col8\" class=\"data row15 col8\" >2.25%</td>\n",
       "                        <td id=\"T_4a25d176_78a3_11eb_84a4_08d23e8861f3row15_col9\" class=\"data row15 col9\" >0.64%</td>\n",
       "            </tr>\n",
       "            <tr>\n",
       "                        <th id=\"T_4a25d176_78a3_11eb_84a4_08d23e8861f3level0_row16\" class=\"row_heading level0 row16\" >16</th>\n",
       "                        <td id=\"T_4a25d176_78a3_11eb_84a4_08d23e8861f3row16_col0\" class=\"data row16 col0\" >0.69%</td>\n",
       "                        <td id=\"T_4a25d176_78a3_11eb_84a4_08d23e8861f3row16_col1\" class=\"data row16 col1\" >0.40%</td>\n",
       "                        <td id=\"T_4a25d176_78a3_11eb_84a4_08d23e8861f3row16_col2\" class=\"data row16 col2\" >0.35%</td>\n",
       "                        <td id=\"T_4a25d176_78a3_11eb_84a4_08d23e8861f3row16_col3\" class=\"data row16 col3\" >15.93%</td>\n",
       "                        <td id=\"T_4a25d176_78a3_11eb_84a4_08d23e8861f3row16_col4\" class=\"data row16 col4\" >0.00%</td>\n",
       "                        <td id=\"T_4a25d176_78a3_11eb_84a4_08d23e8861f3row16_col5\" class=\"data row16 col5\" >74.82%</td>\n",
       "                        <td id=\"T_4a25d176_78a3_11eb_84a4_08d23e8861f3row16_col6\" class=\"data row16 col6\" >0.00%</td>\n",
       "                        <td id=\"T_4a25d176_78a3_11eb_84a4_08d23e8861f3row16_col7\" class=\"data row16 col7\" >1.81%</td>\n",
       "                        <td id=\"T_4a25d176_78a3_11eb_84a4_08d23e8861f3row16_col8\" class=\"data row16 col8\" >0.00%</td>\n",
       "                        <td id=\"T_4a25d176_78a3_11eb_84a4_08d23e8861f3row16_col9\" class=\"data row16 col9\" >6.00%</td>\n",
       "            </tr>\n",
       "            <tr>\n",
       "                        <th id=\"T_4a25d176_78a3_11eb_84a4_08d23e8861f3level0_row17\" class=\"row_heading level0 row17\" >17</th>\n",
       "                        <td id=\"T_4a25d176_78a3_11eb_84a4_08d23e8861f3row17_col0\" class=\"data row17 col0\" >0.10%</td>\n",
       "                        <td id=\"T_4a25d176_78a3_11eb_84a4_08d23e8861f3row17_col1\" class=\"data row17 col1\" >0.00%</td>\n",
       "                        <td id=\"T_4a25d176_78a3_11eb_84a4_08d23e8861f3row17_col2\" class=\"data row17 col2\" >0.16%</td>\n",
       "                        <td id=\"T_4a25d176_78a3_11eb_84a4_08d23e8861f3row17_col3\" class=\"data row17 col3\" >10.62%</td>\n",
       "                        <td id=\"T_4a25d176_78a3_11eb_84a4_08d23e8861f3row17_col4\" class=\"data row17 col4\" >0.80%</td>\n",
       "                        <td id=\"T_4a25d176_78a3_11eb_84a4_08d23e8861f3row17_col5\" class=\"data row17 col5\" >5.19%</td>\n",
       "                        <td id=\"T_4a25d176_78a3_11eb_84a4_08d23e8861f3row17_col6\" class=\"data row17 col6\" >0.02%</td>\n",
       "                        <td id=\"T_4a25d176_78a3_11eb_84a4_08d23e8861f3row17_col7\" class=\"data row17 col7\" >82.26%</td>\n",
       "                        <td id=\"T_4a25d176_78a3_11eb_84a4_08d23e8861f3row17_col8\" class=\"data row17 col8\" >0.06%</td>\n",
       "                        <td id=\"T_4a25d176_78a3_11eb_84a4_08d23e8861f3row17_col9\" class=\"data row17 col9\" >0.80%</td>\n",
       "            </tr>\n",
       "            <tr>\n",
       "                        <th id=\"T_4a25d176_78a3_11eb_84a4_08d23e8861f3level0_row18\" class=\"row_heading level0 row18\" >18</th>\n",
       "                        <td id=\"T_4a25d176_78a3_11eb_84a4_08d23e8861f3row18_col0\" class=\"data row18 col0\" >0.01%</td>\n",
       "                        <td id=\"T_4a25d176_78a3_11eb_84a4_08d23e8861f3row18_col1\" class=\"data row18 col1\" >0.01%</td>\n",
       "                        <td id=\"T_4a25d176_78a3_11eb_84a4_08d23e8861f3row18_col2\" class=\"data row18 col2\" >0.00%</td>\n",
       "                        <td id=\"T_4a25d176_78a3_11eb_84a4_08d23e8861f3row18_col3\" class=\"data row18 col3\" >0.00%</td>\n",
       "                        <td id=\"T_4a25d176_78a3_11eb_84a4_08d23e8861f3row18_col4\" class=\"data row18 col4\" >0.00%</td>\n",
       "                        <td id=\"T_4a25d176_78a3_11eb_84a4_08d23e8861f3row18_col5\" class=\"data row18 col5\" >0.00%</td>\n",
       "                        <td id=\"T_4a25d176_78a3_11eb_84a4_08d23e8861f3row18_col6\" class=\"data row18 col6\" >0.00%</td>\n",
       "                        <td id=\"T_4a25d176_78a3_11eb_84a4_08d23e8861f3row18_col7\" class=\"data row18 col7\" >0.00%</td>\n",
       "                        <td id=\"T_4a25d176_78a3_11eb_84a4_08d23e8861f3row18_col8\" class=\"data row18 col8\" >99.98%</td>\n",
       "                        <td id=\"T_4a25d176_78a3_11eb_84a4_08d23e8861f3row18_col9\" class=\"data row18 col9\" >0.00%</td>\n",
       "            </tr>\n",
       "            <tr>\n",
       "                        <th id=\"T_4a25d176_78a3_11eb_84a4_08d23e8861f3level0_row19\" class=\"row_heading level0 row19\" >19</th>\n",
       "                        <td id=\"T_4a25d176_78a3_11eb_84a4_08d23e8861f3row19_col0\" class=\"data row19 col0\" >0.00%</td>\n",
       "                        <td id=\"T_4a25d176_78a3_11eb_84a4_08d23e8861f3row19_col1\" class=\"data row19 col1\" >0.21%</td>\n",
       "                        <td id=\"T_4a25d176_78a3_11eb_84a4_08d23e8861f3row19_col2\" class=\"data row19 col2\" >0.02%</td>\n",
       "                        <td id=\"T_4a25d176_78a3_11eb_84a4_08d23e8861f3row19_col3\" class=\"data row19 col3\" >0.02%</td>\n",
       "                        <td id=\"T_4a25d176_78a3_11eb_84a4_08d23e8861f3row19_col4\" class=\"data row19 col4\" >0.00%</td>\n",
       "                        <td id=\"T_4a25d176_78a3_11eb_84a4_08d23e8861f3row19_col5\" class=\"data row19 col5\" >0.03%</td>\n",
       "                        <td id=\"T_4a25d176_78a3_11eb_84a4_08d23e8861f3row19_col6\" class=\"data row19 col6\" >99.72%</td>\n",
       "                        <td id=\"T_4a25d176_78a3_11eb_84a4_08d23e8861f3row19_col7\" class=\"data row19 col7\" >0.00%</td>\n",
       "                        <td id=\"T_4a25d176_78a3_11eb_84a4_08d23e8861f3row19_col8\" class=\"data row19 col8\" >0.00%</td>\n",
       "                        <td id=\"T_4a25d176_78a3_11eb_84a4_08d23e8861f3row19_col9\" class=\"data row19 col9\" >0.01%</td>\n",
       "            </tr>\n",
       "    </tbody></table>"
      ],
      "text/plain": [
       "<pandas.io.formats.style.Styler at 0x1d596c05fa0>"
      ]
     },
     "execution_count": 55,
     "metadata": {},
     "output_type": "execute_result"
    }
   ],
   "source": [
    "df = pd.DataFrame(preds[0:20], columns = ['airplane', 'automobile', 'bird', 'cat', 'deer', 'dog', 'frog', 'horse', 'ship', 'truck'])\n",
    "df.style.format(\"{:.2%}\").background_gradient(cmap=cm)"
   ]
  },
  {
   "cell_type": "markdown",
   "metadata": {
    "executionInfo": {
     "elapsed": 2273956,
     "status": "ok",
     "timestamp": 1607098322719,
     "user": {
      "displayName": "Daniel Jensen",
      "photoUrl": "https://lh3.googleusercontent.com/a-/AOh14GgxK0y1Y-W44vjnQC53Ak8_BakmvjpvLobUMJWbWQ=s64",
      "userId": "09835133420012498824"
     },
     "user_tz": 300
    },
    "id": "Q9sSr6LpBQTB"
   },
   "source": [
    "Experiment 1"
   ]
  },
  {
   "cell_type": "code",
   "execution_count": 42,
   "metadata": {},
   "outputs": [],
   "source": [
    "model2 = models.Sequential()\n",
    "model2.add(layers.Flatten())\n",
    "model2.add(layers.Dense(units=512, activation=tf.nn.relu))"
   ]
  },
  {
   "cell_type": "code",
   "execution_count": 43,
   "metadata": {},
   "outputs": [],
   "source": [
    "model2.compile(optimizer='adam',\n",
    "              loss=tf.keras.losses.SparseCategoricalCrossentropy(from_logits=False),\n",
    "              metrics=['accuracy'])"
   ]
  },
  {
   "cell_type": "code",
   "execution_count": 51,
   "metadata": {},
   "outputs": [
    {
     "name": "stdout",
     "output_type": "stream",
     "text": [
      "Epoch 1/20\n",
      "400/400 [==============================] - 7s 17ms/step - loss: 6.7769 - accuracy: 0.1005 - val_loss: 6.7991 - val_accuracy: 0.0982\n",
      "Epoch 2/20\n",
      "400/400 [==============================] - 6s 16ms/step - loss: 6.7769 - accuracy: 0.1006 - val_loss: 6.7991 - val_accuracy: 0.0981\n",
      "Epoch 3/20\n",
      "400/400 [==============================] - 6s 15ms/step - loss: 6.7769 - accuracy: 0.1006 - val_loss: 6.7991 - val_accuracy: 0.0981\n"
     ]
    }
   ],
   "source": [
    "hist = model2.fit(train_images_norm\n",
    "                    ,train_labels\n",
    "                    ,epochs=20\n",
    "                    ,batch_size=100\n",
    "                    ,validation_data=(val_images_norm,val_labels)\n",
    "                    ,callbacks=[\n",
    "                    tf.keras.callbacks.EarlyStopping(monitor='val_accuracy', patience=2),\n",
    "                    tf.keras.callbacks.ModelCheckpoint('/content/gdrive/My Drive/Colab Notebooks/model_{val_accuracy:.4f}.h5', save_best_only=True,\n",
    "                                        save_weights_only=False, monitor='val_accuracy')]                                                                                                           \n",
    "                   )"
   ]
  },
  {
   "cell_type": "code",
   "execution_count": 45,
   "metadata": {},
   "outputs": [],
   "source": [
    "preds2 = model2.predict(test_images_norm)"
   ]
  },
  {
   "cell_type": "code",
   "execution_count": 46,
   "metadata": {},
   "outputs": [
    {
     "name": "stdout",
     "output_type": "stream",
     "text": [
      "313/313 [==============================] - 2s 5ms/step - loss: 6.7813 - accuracy: 0.1000\n",
      "test set accuracy:  10.000000149011612\n"
     ]
    }
   ],
   "source": [
    "a = model2.evaluate(test_images_norm, test_labels)\n",
    "print('test set accuracy: ', accuracy * 100)"
   ]
  },
  {
   "cell_type": "code",
   "execution_count": 47,
   "metadata": {},
   "outputs": [
    {
     "data": {
      "text/plain": [
       "array([9, 9, 9, ..., 9, 9, 9], dtype=int64)"
      ]
     },
     "execution_count": 47,
     "metadata": {},
     "output_type": "execute_result"
    }
   ],
   "source": [
    "pred_classes2 = np.argmax(model2.predict(train_images_norm), axis=-1)\n",
    "pred_classes2"
   ]
  },
  {
   "cell_type": "code",
   "execution_count": 50,
   "metadata": {},
   "outputs": [
    {
     "name": "stdout",
     "output_type": "stream",
     "text": [
      "Epoch 1/20\n",
      "100/100 [==============================] - 2s 20ms/step - loss: 6.7813 - accuracy: 0.1000 - val_loss: 6.7991 - val_accuracy: 0.0981\n",
      "Epoch 2/20\n",
      "100/100 [==============================] - 2s 19ms/step - loss: 6.7813 - accuracy: 0.1000 - val_loss: 6.7991 - val_accuracy: 0.0981\n",
      "Epoch 3/20\n",
      "100/100 [==============================] - 2s 20ms/step - loss: 6.7813 - accuracy: 0.1000 - val_loss: 6.7991 - val_accuracy: 0.0981\n"
     ]
    }
   ],
   "source": [
    "hist2 = model2.fit(test_images_norm\n",
    "                    ,test_labels\n",
    "                    ,epochs=20\n",
    "                    ,batch_size=100\n",
    "                    ,validation_data=(val_images_norm,val_labels)\n",
    "                    ,callbacks=[\n",
    "                    tf.keras.callbacks.EarlyStopping(monitor='val_accuracy', patience=2),\n",
    "                    tf.keras.callbacks.ModelCheckpoint('/content/gdrive/My Drive/Colab Notebooks/model_{val_accuracy:.4f}.h5', save_best_only=True,\n",
    "                                        save_weights_only=False, monitor='val_accuracy')]                                                                                                           \n",
    "                   )"
   ]
  },
  {
   "cell_type": "code",
   "execution_count": 60,
   "metadata": {},
   "outputs": [
    {
     "data": {
      "text/html": [
       "<div>\n",
       "<style scoped>\n",
       "    .dataframe tbody tr th:only-of-type {\n",
       "        vertical-align: middle;\n",
       "    }\n",
       "\n",
       "    .dataframe tbody tr th {\n",
       "        vertical-align: top;\n",
       "    }\n",
       "\n",
       "    .dataframe thead th {\n",
       "        text-align: right;\n",
       "    }\n",
       "</style>\n",
       "<table border=\"1\" class=\"dataframe\">\n",
       "  <thead>\n",
       "    <tr style=\"text-align: right;\">\n",
       "      <th></th>\n",
       "      <th>loss</th>\n",
       "      <th>accuracy</th>\n",
       "      <th>val_loss</th>\n",
       "      <th>val_accuracy</th>\n",
       "      <th>Model</th>\n",
       "    </tr>\n",
       "  </thead>\n",
       "  <tbody>\n",
       "    <tr>\n",
       "      <th>0</th>\n",
       "      <td>6.776930</td>\n",
       "      <td>0.100525</td>\n",
       "      <td>6.799069</td>\n",
       "      <td>0.0982</td>\n",
       "      <td>Model 2</td>\n",
       "    </tr>\n",
       "    <tr>\n",
       "      <th>1</th>\n",
       "      <td>6.776896</td>\n",
       "      <td>0.100600</td>\n",
       "      <td>6.799069</td>\n",
       "      <td>0.0981</td>\n",
       "      <td>Model 2</td>\n",
       "    </tr>\n",
       "    <tr>\n",
       "      <th>2</th>\n",
       "      <td>6.776900</td>\n",
       "      <td>0.100600</td>\n",
       "      <td>6.799069</td>\n",
       "      <td>0.0981</td>\n",
       "      <td>Model 2</td>\n",
       "    </tr>\n",
       "    <tr>\n",
       "      <th>0</th>\n",
       "      <td>6.781339</td>\n",
       "      <td>0.100000</td>\n",
       "      <td>6.799069</td>\n",
       "      <td>0.0981</td>\n",
       "      <td>Model 2</td>\n",
       "    </tr>\n",
       "    <tr>\n",
       "      <th>1</th>\n",
       "      <td>6.781341</td>\n",
       "      <td>0.100000</td>\n",
       "      <td>6.799069</td>\n",
       "      <td>0.0981</td>\n",
       "      <td>Model 2</td>\n",
       "    </tr>\n",
       "    <tr>\n",
       "      <th>2</th>\n",
       "      <td>6.781338</td>\n",
       "      <td>0.100000</td>\n",
       "      <td>6.799069</td>\n",
       "      <td>0.0981</td>\n",
       "      <td>Model 2</td>\n",
       "    </tr>\n",
       "  </tbody>\n",
       "</table>\n",
       "</div>"
      ],
      "text/plain": [
       "       loss  accuracy  val_loss  val_accuracy    Model\n",
       "0  6.776930  0.100525  6.799069        0.0982  Model 2\n",
       "1  6.776896  0.100600  6.799069        0.0981  Model 2\n",
       "2  6.776900  0.100600  6.799069        0.0981  Model 2\n",
       "0  6.781339  0.100000  6.799069        0.0981  Model 2\n",
       "1  6.781341  0.100000  6.799069        0.0981  Model 2\n",
       "2  6.781338  0.100000  6.799069        0.0981  Model 2"
      ]
     },
     "execution_count": 60,
     "metadata": {},
     "output_type": "execute_result"
    }
   ],
   "source": [
    "hist_df = pd.DataFrame(hist.history) \n",
    "hist_df2 = pd.DataFrame(hist2.history) \n",
    "final1 = pd.concat([hist_df, hist_df2])\n",
    "final1[\"Model\"]='Model 2'\n",
    "final1"
   ]
  },
  {
   "cell_type": "markdown",
   "metadata": {},
   "source": [
    "Experiment 2"
   ]
  },
  {
   "cell_type": "code",
   "execution_count": 61,
   "metadata": {},
   "outputs": [],
   "source": [
    "model3 = Sequential()\n",
    "model3.add(layers.Flatten())\n",
    "model3.add(layers.Dense(units=512, activation=tf.nn.relu))\n",
    "model3.add(layers.Dense(units=10, activation=tf.nn.softmax))"
   ]
  },
  {
   "cell_type": "code",
   "execution_count": 62,
   "metadata": {},
   "outputs": [],
   "source": [
    "model3.compile(optimizer='adam',\n",
    "              loss=tf.keras.losses.SparseCategoricalCrossentropy(from_logits=False),\n",
    "              metrics=['accuracy'])"
   ]
  },
  {
   "cell_type": "code",
   "execution_count": 67,
   "metadata": {},
   "outputs": [
    {
     "name": "stdout",
     "output_type": "stream",
     "text": [
      "Epoch 1/20\n",
      "400/400 [==============================] - 6s 16ms/step - loss: 1.4900 - accuracy: 0.4717 - val_loss: 1.5170 - val_accuracy: 0.4654\n",
      "Epoch 2/20\n",
      "400/400 [==============================] - 5s 14ms/step - loss: 1.4562 - accuracy: 0.4826 - val_loss: 1.5361 - val_accuracy: 0.4565\n",
      "Epoch 3/20\n",
      "400/400 [==============================] - 5s 13ms/step - loss: 1.4412 - accuracy: 0.4874 - val_loss: 1.5106 - val_accuracy: 0.4727\n",
      "Epoch 4/20\n",
      "400/400 [==============================] - 5s 14ms/step - loss: 1.4212 - accuracy: 0.4958 - val_loss: 1.4747 - val_accuracy: 0.4774\n",
      "Epoch 5/20\n",
      "400/400 [==============================] - 6s 14ms/step - loss: 1.4123 - accuracy: 0.4974 - val_loss: 1.5091 - val_accuracy: 0.4678\n",
      "Epoch 6/20\n",
      "400/400 [==============================] - 6s 15ms/step - loss: 1.4003 - accuracy: 0.5015 - val_loss: 1.4922 - val_accuracy: 0.4798\n",
      "Epoch 7/20\n",
      "400/400 [==============================] - 6s 15ms/step - loss: 1.3884 - accuracy: 0.5055 - val_loss: 1.4779 - val_accuracy: 0.4756\n",
      "Epoch 8/20\n",
      "400/400 [==============================] - 6s 15ms/step - loss: 1.3813 - accuracy: 0.5100 - val_loss: 1.4495 - val_accuracy: 0.4945\n",
      "Epoch 9/20\n",
      "400/400 [==============================] - 6s 15ms/step - loss: 1.3682 - accuracy: 0.5146 - val_loss: 1.4546 - val_accuracy: 0.4875\n",
      "Epoch 10/20\n",
      "400/400 [==============================] - 6s 15ms/step - loss: 1.3592 - accuracy: 0.5184 - val_loss: 1.4266 - val_accuracy: 0.4980\n",
      "Epoch 11/20\n",
      "400/400 [==============================] - 6s 15ms/step - loss: 1.3514 - accuracy: 0.5193 - val_loss: 1.4294 - val_accuracy: 0.4963\n",
      "Epoch 12/20\n",
      "400/400 [==============================] - 6s 15ms/step - loss: 1.3462 - accuracy: 0.5242 - val_loss: 1.4337 - val_accuracy: 0.4907\n"
     ]
    }
   ],
   "source": [
    "hist3 = model3.fit(train_images_norm\n",
    "                    ,train_labels\n",
    "                    ,epochs=20\n",
    "                    ,batch_size=100\n",
    "                    ,validation_data=(val_images_norm,val_labels)\n",
    "                    ,callbacks=[\n",
    "                    tf.keras.callbacks.EarlyStopping(monitor='val_accuracy', patience=2),\n",
    "                    tf.keras.callbacks.ModelCheckpoint('/content/gdrive/My Drive/Colab Notebooks/model_{val_accuracy:.4f}.h5', save_best_only=True,\n",
    "                                        save_weights_only=False, monitor='val_accuracy')]                                                                                                           \n",
    "                   )"
   ]
  },
  {
   "cell_type": "code",
   "execution_count": 72,
   "metadata": {},
   "outputs": [],
   "source": [
    "hist_df3 = pd.DataFrame(hist3.history) "
   ]
  },
  {
   "cell_type": "code",
   "execution_count": 66,
   "metadata": {},
   "outputs": [
    {
     "name": "stdout",
     "output_type": "stream",
     "text": [
      "Epoch 1/20\n",
      "100/100 [==============================] - 2s 18ms/step - loss: 1.3739 - accuracy: 0.5091 - val_loss: 1.4883 - val_accuracy: 0.4778\n",
      "Epoch 2/20\n",
      "100/100 [==============================] - 2s 17ms/step - loss: 1.3656 - accuracy: 0.5090 - val_loss: 1.5235 - val_accuracy: 0.4636\n",
      "Epoch 3/20\n",
      "100/100 [==============================] - 2s 23ms/step - loss: 1.3449 - accuracy: 0.5216 - val_loss: 1.4997 - val_accuracy: 0.4736\n"
     ]
    }
   ],
   "source": [
    "hist4 = model3.fit(test_images_norm\n",
    "                    ,test_labels\n",
    "                    ,epochs=20\n",
    "                    ,batch_size=100\n",
    "                    ,validation_data=(val_images_norm,val_labels)\n",
    "                    ,callbacks=[\n",
    "                    tf.keras.callbacks.EarlyStopping(monitor='val_accuracy', patience=2),\n",
    "                    tf.keras.callbacks.ModelCheckpoint('/content/gdrive/My Drive/Colab Notebooks/model_{val_accuracy:.4f}.h5', save_best_only=True,\n",
    "                                        save_weights_only=False, monitor='val_accuracy')]                                                                                                           \n",
    "                   )"
   ]
  },
  {
   "cell_type": "code",
   "execution_count": 71,
   "metadata": {},
   "outputs": [],
   "source": [
    "hist_df4 = pd.DataFrame(hist4.history) "
   ]
  },
  {
   "cell_type": "code",
   "execution_count": 76,
   "metadata": {},
   "outputs": [
    {
     "data": {
      "text/html": [
       "<div>\n",
       "<style scoped>\n",
       "    .dataframe tbody tr th:only-of-type {\n",
       "        vertical-align: middle;\n",
       "    }\n",
       "\n",
       "    .dataframe tbody tr th {\n",
       "        vertical-align: top;\n",
       "    }\n",
       "\n",
       "    .dataframe thead th {\n",
       "        text-align: right;\n",
       "    }\n",
       "</style>\n",
       "<table border=\"1\" class=\"dataframe\">\n",
       "  <thead>\n",
       "    <tr style=\"text-align: right;\">\n",
       "      <th></th>\n",
       "      <th>loss</th>\n",
       "      <th>accuracy</th>\n",
       "      <th>val_loss</th>\n",
       "      <th>val_accuracy</th>\n",
       "      <th>Model</th>\n",
       "    </tr>\n",
       "  </thead>\n",
       "  <tbody>\n",
       "    <tr>\n",
       "      <th>0</th>\n",
       "      <td>6.776930</td>\n",
       "      <td>0.100525</td>\n",
       "      <td>6.799069</td>\n",
       "      <td>0.0982</td>\n",
       "      <td>Model 2</td>\n",
       "    </tr>\n",
       "    <tr>\n",
       "      <th>1</th>\n",
       "      <td>6.776896</td>\n",
       "      <td>0.100600</td>\n",
       "      <td>6.799069</td>\n",
       "      <td>0.0981</td>\n",
       "      <td>Model 2</td>\n",
       "    </tr>\n",
       "    <tr>\n",
       "      <th>2</th>\n",
       "      <td>6.776900</td>\n",
       "      <td>0.100600</td>\n",
       "      <td>6.799069</td>\n",
       "      <td>0.0981</td>\n",
       "      <td>Model 2</td>\n",
       "    </tr>\n",
       "    <tr>\n",
       "      <th>0</th>\n",
       "      <td>6.781339</td>\n",
       "      <td>0.100000</td>\n",
       "      <td>6.799069</td>\n",
       "      <td>0.0981</td>\n",
       "      <td>Model 2</td>\n",
       "    </tr>\n",
       "    <tr>\n",
       "      <th>1</th>\n",
       "      <td>6.781341</td>\n",
       "      <td>0.100000</td>\n",
       "      <td>6.799069</td>\n",
       "      <td>0.0981</td>\n",
       "      <td>Model 2</td>\n",
       "    </tr>\n",
       "    <tr>\n",
       "      <th>2</th>\n",
       "      <td>6.781338</td>\n",
       "      <td>0.100000</td>\n",
       "      <td>6.799069</td>\n",
       "      <td>0.0981</td>\n",
       "      <td>Model 2</td>\n",
       "    </tr>\n",
       "    <tr>\n",
       "      <th>0</th>\n",
       "      <td>1.490045</td>\n",
       "      <td>0.471700</td>\n",
       "      <td>1.516963</td>\n",
       "      <td>0.4654</td>\n",
       "      <td>Model 3</td>\n",
       "    </tr>\n",
       "    <tr>\n",
       "      <th>1</th>\n",
       "      <td>1.456164</td>\n",
       "      <td>0.482600</td>\n",
       "      <td>1.536060</td>\n",
       "      <td>0.4565</td>\n",
       "      <td>Model 3</td>\n",
       "    </tr>\n",
       "    <tr>\n",
       "      <th>2</th>\n",
       "      <td>1.441206</td>\n",
       "      <td>0.487425</td>\n",
       "      <td>1.510633</td>\n",
       "      <td>0.4727</td>\n",
       "      <td>Model 3</td>\n",
       "    </tr>\n",
       "    <tr>\n",
       "      <th>3</th>\n",
       "      <td>1.421176</td>\n",
       "      <td>0.495800</td>\n",
       "      <td>1.474700</td>\n",
       "      <td>0.4774</td>\n",
       "      <td>Model 3</td>\n",
       "    </tr>\n",
       "    <tr>\n",
       "      <th>4</th>\n",
       "      <td>1.412274</td>\n",
       "      <td>0.497425</td>\n",
       "      <td>1.509131</td>\n",
       "      <td>0.4678</td>\n",
       "      <td>Model 3</td>\n",
       "    </tr>\n",
       "    <tr>\n",
       "      <th>5</th>\n",
       "      <td>1.400252</td>\n",
       "      <td>0.501475</td>\n",
       "      <td>1.492179</td>\n",
       "      <td>0.4798</td>\n",
       "      <td>Model 3</td>\n",
       "    </tr>\n",
       "    <tr>\n",
       "      <th>6</th>\n",
       "      <td>1.388358</td>\n",
       "      <td>0.505500</td>\n",
       "      <td>1.477944</td>\n",
       "      <td>0.4756</td>\n",
       "      <td>Model 3</td>\n",
       "    </tr>\n",
       "    <tr>\n",
       "      <th>7</th>\n",
       "      <td>1.381333</td>\n",
       "      <td>0.510000</td>\n",
       "      <td>1.449545</td>\n",
       "      <td>0.4945</td>\n",
       "      <td>Model 3</td>\n",
       "    </tr>\n",
       "    <tr>\n",
       "      <th>8</th>\n",
       "      <td>1.368215</td>\n",
       "      <td>0.514575</td>\n",
       "      <td>1.454602</td>\n",
       "      <td>0.4875</td>\n",
       "      <td>Model 3</td>\n",
       "    </tr>\n",
       "    <tr>\n",
       "      <th>9</th>\n",
       "      <td>1.359188</td>\n",
       "      <td>0.518400</td>\n",
       "      <td>1.426620</td>\n",
       "      <td>0.4980</td>\n",
       "      <td>Model 3</td>\n",
       "    </tr>\n",
       "    <tr>\n",
       "      <th>10</th>\n",
       "      <td>1.351425</td>\n",
       "      <td>0.519325</td>\n",
       "      <td>1.429373</td>\n",
       "      <td>0.4963</td>\n",
       "      <td>Model 3</td>\n",
       "    </tr>\n",
       "    <tr>\n",
       "      <th>11</th>\n",
       "      <td>1.346244</td>\n",
       "      <td>0.524225</td>\n",
       "      <td>1.433729</td>\n",
       "      <td>0.4907</td>\n",
       "      <td>Model 3</td>\n",
       "    </tr>\n",
       "    <tr>\n",
       "      <th>0</th>\n",
       "      <td>1.373900</td>\n",
       "      <td>0.509100</td>\n",
       "      <td>1.488266</td>\n",
       "      <td>0.4778</td>\n",
       "      <td>Model 3</td>\n",
       "    </tr>\n",
       "    <tr>\n",
       "      <th>1</th>\n",
       "      <td>1.365556</td>\n",
       "      <td>0.509000</td>\n",
       "      <td>1.523530</td>\n",
       "      <td>0.4636</td>\n",
       "      <td>Model 3</td>\n",
       "    </tr>\n",
       "    <tr>\n",
       "      <th>2</th>\n",
       "      <td>1.344929</td>\n",
       "      <td>0.521600</td>\n",
       "      <td>1.499665</td>\n",
       "      <td>0.4736</td>\n",
       "      <td>Model 3</td>\n",
       "    </tr>\n",
       "  </tbody>\n",
       "</table>\n",
       "</div>"
      ],
      "text/plain": [
       "        loss  accuracy  val_loss  val_accuracy    Model\n",
       "0   6.776930  0.100525  6.799069        0.0982  Model 2\n",
       "1   6.776896  0.100600  6.799069        0.0981  Model 2\n",
       "2   6.776900  0.100600  6.799069        0.0981  Model 2\n",
       "0   6.781339  0.100000  6.799069        0.0981  Model 2\n",
       "1   6.781341  0.100000  6.799069        0.0981  Model 2\n",
       "2   6.781338  0.100000  6.799069        0.0981  Model 2\n",
       "0   1.490045  0.471700  1.516963        0.4654  Model 3\n",
       "1   1.456164  0.482600  1.536060        0.4565  Model 3\n",
       "2   1.441206  0.487425  1.510633        0.4727  Model 3\n",
       "3   1.421176  0.495800  1.474700        0.4774  Model 3\n",
       "4   1.412274  0.497425  1.509131        0.4678  Model 3\n",
       "5   1.400252  0.501475  1.492179        0.4798  Model 3\n",
       "6   1.388358  0.505500  1.477944        0.4756  Model 3\n",
       "7   1.381333  0.510000  1.449545        0.4945  Model 3\n",
       "8   1.368215  0.514575  1.454602        0.4875  Model 3\n",
       "9   1.359188  0.518400  1.426620        0.4980  Model 3\n",
       "10  1.351425  0.519325  1.429373        0.4963  Model 3\n",
       "11  1.346244  0.524225  1.433729        0.4907  Model 3\n",
       "0   1.373900  0.509100  1.488266        0.4778  Model 3\n",
       "1   1.365556  0.509000  1.523530        0.4636  Model 3\n",
       "2   1.344929  0.521600  1.499665        0.4736  Model 3"
      ]
     },
     "execution_count": 76,
     "metadata": {},
     "output_type": "execute_result"
    }
   ],
   "source": [
    "final2 = pd.concat([hist_df3, hist_df4])\n",
    "final2[\"Model\"]='Model 3'\n",
    "finaldf = pd.concat([final1, final2])"
   ]
  },
  {
   "cell_type": "markdown",
   "metadata": {},
   "source": [
    "Experiment 3"
   ]
  },
  {
   "cell_type": "code",
   "execution_count": 77,
   "metadata": {},
   "outputs": [],
   "source": [
    "model4 = models.Sequential()\n",
    "model4.add(layers.Conv2D(filters=256, kernel_size=(3, 3), strides=(1, 1), activation=tf.nn.relu, input_shape=(32, 32, 3)))\n",
    "model4.add(layers.MaxPooling2D((2, 2),strides=2))\n",
    "model4.add(layers.Conv2D(filters=512, kernel_size=(3, 3), strides=(1, 1), activation=tf.nn.relu))\n",
    "model4.add(layers.MaxPooling2D(pool_size=(2, 2),strides=2))\n",
    "model4.add(layers.Flatten())"
   ]
  },
  {
   "cell_type": "code",
   "execution_count": 78,
   "metadata": {},
   "outputs": [],
   "source": [
    "model4.compile(optimizer='adam',\n",
    "              loss=tf.keras.losses.SparseCategoricalCrossentropy(from_logits=False),\n",
    "              metrics=['accuracy'])"
   ]
  },
  {
   "cell_type": "code",
   "execution_count": 94,
   "metadata": {},
   "outputs": [
    {
     "name": "stdout",
     "output_type": "stream",
     "text": [
      "Epoch 1/20\n",
      "400/400 [==============================] - 537s 1s/step - loss: 9.8219 - accuracy: 0.0999 - val_loss: 9.8218 - val_accuracy: 0.1005\n",
      "Epoch 2/20\n",
      "400/400 [==============================] - 599s 1s/step - loss: 9.8219 - accuracy: 0.0999 - val_loss: 9.8218 - val_accuracy: 0.1005\n",
      "Epoch 3/20\n",
      "400/400 [==============================] - 587s 1s/step - loss: 9.8219 - accuracy: 0.0999 - val_loss: 9.8218 - val_accuracy: 0.1005\n"
     ]
    }
   ],
   "source": [
    "hist5 = model4.fit(train_images_norm\n",
    "                    ,train_labels\n",
    "                    ,epochs=20\n",
    "                    ,batch_size=100\n",
    "                    ,validation_data=(val_images_norm,val_labels)\n",
    "                    ,callbacks=[\n",
    "                    tf.keras.callbacks.EarlyStopping(monitor='val_accuracy', patience=2),\n",
    "                    tf.keras.callbacks.ModelCheckpoint('/content/gdrive/My Drive/Colab Notebooks/model_{val_accuracy:.4f}.h5', save_best_only=True,\n",
    "                                        save_weights_only=False, monitor='val_accuracy')]                                                                                                           \n",
    "                   )"
   ]
  },
  {
   "cell_type": "code",
   "execution_count": 95,
   "metadata": {},
   "outputs": [],
   "source": [
    "hist_df5 = pd.DataFrame(hist5.history) "
   ]
  },
  {
   "cell_type": "code",
   "execution_count": 96,
   "metadata": {},
   "outputs": [
    {
     "name": "stdout",
     "output_type": "stream",
     "text": [
      "Epoch 1/20\n",
      "100/100 [==============================] - 141s 1s/step - loss: 9.8218 - accuracy: 0.1000 - val_loss: 9.8218 - val_accuracy: 0.1005\n",
      "Epoch 2/20\n",
      "100/100 [==============================] - 157s 2s/step - loss: 9.8218 - accuracy: 0.1000 - val_loss: 9.8218 - val_accuracy: 0.1005\n",
      "Epoch 3/20\n",
      "100/100 [==============================] - 156s 2s/step - loss: 9.8218 - accuracy: 0.1000 - val_loss: 9.8218 - val_accuracy: 0.1005\n"
     ]
    }
   ],
   "source": [
    "hist6 = model4.fit(test_images_norm\n",
    "                    ,test_labels\n",
    "                    ,epochs=20\n",
    "                    ,batch_size=100\n",
    "                    ,validation_data=(val_images_norm,val_labels)\n",
    "                    ,callbacks=[\n",
    "                    tf.keras.callbacks.EarlyStopping(monitor='val_accuracy', patience=2),\n",
    "                    tf.keras.callbacks.ModelCheckpoint('/content/gdrive/My Drive/Colab Notebooks/model_{val_accuracy:.4f}.h5', save_best_only=True,\n",
    "                                        save_weights_only=False, monitor='val_accuracy')]                                                                                                           \n",
    "                   )"
   ]
  },
  {
   "cell_type": "code",
   "execution_count": 97,
   "metadata": {},
   "outputs": [],
   "source": [
    "hist_df6 = pd.DataFrame(hist6.history) "
   ]
  },
  {
   "cell_type": "code",
   "execution_count": 100,
   "metadata": {},
   "outputs": [
    {
     "data": {
      "text/html": [
       "<div>\n",
       "<style scoped>\n",
       "    .dataframe tbody tr th:only-of-type {\n",
       "        vertical-align: middle;\n",
       "    }\n",
       "\n",
       "    .dataframe tbody tr th {\n",
       "        vertical-align: top;\n",
       "    }\n",
       "\n",
       "    .dataframe thead th {\n",
       "        text-align: right;\n",
       "    }\n",
       "</style>\n",
       "<table border=\"1\" class=\"dataframe\">\n",
       "  <thead>\n",
       "    <tr style=\"text-align: right;\">\n",
       "      <th></th>\n",
       "      <th>loss</th>\n",
       "      <th>accuracy</th>\n",
       "      <th>val_loss</th>\n",
       "      <th>val_accuracy</th>\n",
       "      <th>Model</th>\n",
       "    </tr>\n",
       "  </thead>\n",
       "  <tbody>\n",
       "    <tr>\n",
       "      <th>0</th>\n",
       "      <td>6.776930</td>\n",
       "      <td>0.100525</td>\n",
       "      <td>6.799069</td>\n",
       "      <td>0.0982</td>\n",
       "      <td>Model 2</td>\n",
       "    </tr>\n",
       "    <tr>\n",
       "      <th>1</th>\n",
       "      <td>6.776896</td>\n",
       "      <td>0.100600</td>\n",
       "      <td>6.799069</td>\n",
       "      <td>0.0981</td>\n",
       "      <td>Model 2</td>\n",
       "    </tr>\n",
       "    <tr>\n",
       "      <th>2</th>\n",
       "      <td>6.776900</td>\n",
       "      <td>0.100600</td>\n",
       "      <td>6.799069</td>\n",
       "      <td>0.0981</td>\n",
       "      <td>Model 2</td>\n",
       "    </tr>\n",
       "    <tr>\n",
       "      <th>0</th>\n",
       "      <td>6.781339</td>\n",
       "      <td>0.100000</td>\n",
       "      <td>6.799069</td>\n",
       "      <td>0.0981</td>\n",
       "      <td>Model 2</td>\n",
       "    </tr>\n",
       "    <tr>\n",
       "      <th>1</th>\n",
       "      <td>6.781341</td>\n",
       "      <td>0.100000</td>\n",
       "      <td>6.799069</td>\n",
       "      <td>0.0981</td>\n",
       "      <td>Model 2</td>\n",
       "    </tr>\n",
       "    <tr>\n",
       "      <th>2</th>\n",
       "      <td>6.781338</td>\n",
       "      <td>0.100000</td>\n",
       "      <td>6.799069</td>\n",
       "      <td>0.0981</td>\n",
       "      <td>Model 2</td>\n",
       "    </tr>\n",
       "    <tr>\n",
       "      <th>0</th>\n",
       "      <td>1.490045</td>\n",
       "      <td>0.471700</td>\n",
       "      <td>1.516963</td>\n",
       "      <td>0.4654</td>\n",
       "      <td>Model 3</td>\n",
       "    </tr>\n",
       "    <tr>\n",
       "      <th>1</th>\n",
       "      <td>1.456164</td>\n",
       "      <td>0.482600</td>\n",
       "      <td>1.536060</td>\n",
       "      <td>0.4565</td>\n",
       "      <td>Model 3</td>\n",
       "    </tr>\n",
       "    <tr>\n",
       "      <th>2</th>\n",
       "      <td>1.441206</td>\n",
       "      <td>0.487425</td>\n",
       "      <td>1.510633</td>\n",
       "      <td>0.4727</td>\n",
       "      <td>Model 3</td>\n",
       "    </tr>\n",
       "    <tr>\n",
       "      <th>3</th>\n",
       "      <td>1.421176</td>\n",
       "      <td>0.495800</td>\n",
       "      <td>1.474700</td>\n",
       "      <td>0.4774</td>\n",
       "      <td>Model 3</td>\n",
       "    </tr>\n",
       "    <tr>\n",
       "      <th>4</th>\n",
       "      <td>1.412274</td>\n",
       "      <td>0.497425</td>\n",
       "      <td>1.509131</td>\n",
       "      <td>0.4678</td>\n",
       "      <td>Model 3</td>\n",
       "    </tr>\n",
       "    <tr>\n",
       "      <th>5</th>\n",
       "      <td>1.400252</td>\n",
       "      <td>0.501475</td>\n",
       "      <td>1.492179</td>\n",
       "      <td>0.4798</td>\n",
       "      <td>Model 3</td>\n",
       "    </tr>\n",
       "    <tr>\n",
       "      <th>6</th>\n",
       "      <td>1.388358</td>\n",
       "      <td>0.505500</td>\n",
       "      <td>1.477944</td>\n",
       "      <td>0.4756</td>\n",
       "      <td>Model 3</td>\n",
       "    </tr>\n",
       "    <tr>\n",
       "      <th>7</th>\n",
       "      <td>1.381333</td>\n",
       "      <td>0.510000</td>\n",
       "      <td>1.449545</td>\n",
       "      <td>0.4945</td>\n",
       "      <td>Model 3</td>\n",
       "    </tr>\n",
       "    <tr>\n",
       "      <th>8</th>\n",
       "      <td>1.368215</td>\n",
       "      <td>0.514575</td>\n",
       "      <td>1.454602</td>\n",
       "      <td>0.4875</td>\n",
       "      <td>Model 3</td>\n",
       "    </tr>\n",
       "    <tr>\n",
       "      <th>9</th>\n",
       "      <td>1.359188</td>\n",
       "      <td>0.518400</td>\n",
       "      <td>1.426620</td>\n",
       "      <td>0.4980</td>\n",
       "      <td>Model 3</td>\n",
       "    </tr>\n",
       "    <tr>\n",
       "      <th>10</th>\n",
       "      <td>1.351425</td>\n",
       "      <td>0.519325</td>\n",
       "      <td>1.429373</td>\n",
       "      <td>0.4963</td>\n",
       "      <td>Model 3</td>\n",
       "    </tr>\n",
       "    <tr>\n",
       "      <th>11</th>\n",
       "      <td>1.346244</td>\n",
       "      <td>0.524225</td>\n",
       "      <td>1.433729</td>\n",
       "      <td>0.4907</td>\n",
       "      <td>Model 3</td>\n",
       "    </tr>\n",
       "    <tr>\n",
       "      <th>0</th>\n",
       "      <td>1.373900</td>\n",
       "      <td>0.509100</td>\n",
       "      <td>1.488266</td>\n",
       "      <td>0.4778</td>\n",
       "      <td>Model 3</td>\n",
       "    </tr>\n",
       "    <tr>\n",
       "      <th>1</th>\n",
       "      <td>1.365556</td>\n",
       "      <td>0.509000</td>\n",
       "      <td>1.523530</td>\n",
       "      <td>0.4636</td>\n",
       "      <td>Model 3</td>\n",
       "    </tr>\n",
       "    <tr>\n",
       "      <th>2</th>\n",
       "      <td>1.344929</td>\n",
       "      <td>0.521600</td>\n",
       "      <td>1.499665</td>\n",
       "      <td>0.4736</td>\n",
       "      <td>Model 3</td>\n",
       "    </tr>\n",
       "    <tr>\n",
       "      <th>0</th>\n",
       "      <td>9.821869</td>\n",
       "      <td>0.099875</td>\n",
       "      <td>9.821850</td>\n",
       "      <td>0.1005</td>\n",
       "      <td>Model 4</td>\n",
       "    </tr>\n",
       "    <tr>\n",
       "      <th>1</th>\n",
       "      <td>9.821869</td>\n",
       "      <td>0.099875</td>\n",
       "      <td>9.821850</td>\n",
       "      <td>0.1005</td>\n",
       "      <td>Model 4</td>\n",
       "    </tr>\n",
       "    <tr>\n",
       "      <th>2</th>\n",
       "      <td>9.821869</td>\n",
       "      <td>0.099875</td>\n",
       "      <td>9.821850</td>\n",
       "      <td>0.1005</td>\n",
       "      <td>Model 4</td>\n",
       "    </tr>\n",
       "    <tr>\n",
       "      <th>0</th>\n",
       "      <td>9.821850</td>\n",
       "      <td>0.100000</td>\n",
       "      <td>9.821850</td>\n",
       "      <td>0.1005</td>\n",
       "      <td>Model 4</td>\n",
       "    </tr>\n",
       "    <tr>\n",
       "      <th>1</th>\n",
       "      <td>9.821850</td>\n",
       "      <td>0.100000</td>\n",
       "      <td>9.821850</td>\n",
       "      <td>0.1005</td>\n",
       "      <td>Model 4</td>\n",
       "    </tr>\n",
       "    <tr>\n",
       "      <th>2</th>\n",
       "      <td>9.821850</td>\n",
       "      <td>0.100000</td>\n",
       "      <td>9.821850</td>\n",
       "      <td>0.1005</td>\n",
       "      <td>Model 4</td>\n",
       "    </tr>\n",
       "  </tbody>\n",
       "</table>\n",
       "</div>"
      ],
      "text/plain": [
       "        loss  accuracy  val_loss  val_accuracy    Model\n",
       "0   6.776930  0.100525  6.799069        0.0982  Model 2\n",
       "1   6.776896  0.100600  6.799069        0.0981  Model 2\n",
       "2   6.776900  0.100600  6.799069        0.0981  Model 2\n",
       "0   6.781339  0.100000  6.799069        0.0981  Model 2\n",
       "1   6.781341  0.100000  6.799069        0.0981  Model 2\n",
       "2   6.781338  0.100000  6.799069        0.0981  Model 2\n",
       "0   1.490045  0.471700  1.516963        0.4654  Model 3\n",
       "1   1.456164  0.482600  1.536060        0.4565  Model 3\n",
       "2   1.441206  0.487425  1.510633        0.4727  Model 3\n",
       "3   1.421176  0.495800  1.474700        0.4774  Model 3\n",
       "4   1.412274  0.497425  1.509131        0.4678  Model 3\n",
       "5   1.400252  0.501475  1.492179        0.4798  Model 3\n",
       "6   1.388358  0.505500  1.477944        0.4756  Model 3\n",
       "7   1.381333  0.510000  1.449545        0.4945  Model 3\n",
       "8   1.368215  0.514575  1.454602        0.4875  Model 3\n",
       "9   1.359188  0.518400  1.426620        0.4980  Model 3\n",
       "10  1.351425  0.519325  1.429373        0.4963  Model 3\n",
       "11  1.346244  0.524225  1.433729        0.4907  Model 3\n",
       "0   1.373900  0.509100  1.488266        0.4778  Model 3\n",
       "1   1.365556  0.509000  1.523530        0.4636  Model 3\n",
       "2   1.344929  0.521600  1.499665        0.4736  Model 3\n",
       "0   9.821869  0.099875  9.821850        0.1005  Model 4\n",
       "1   9.821869  0.099875  9.821850        0.1005  Model 4\n",
       "2   9.821869  0.099875  9.821850        0.1005  Model 4\n",
       "0   9.821850  0.100000  9.821850        0.1005  Model 4\n",
       "1   9.821850  0.100000  9.821850        0.1005  Model 4\n",
       "2   9.821850  0.100000  9.821850        0.1005  Model 4"
      ]
     },
     "execution_count": 100,
     "metadata": {},
     "output_type": "execute_result"
    }
   ],
   "source": [
    "final3 = pd.concat([hist_df5, hist_df6])\n",
    "final3[\"Model\"]='Model 4'\n",
    "finaldf = pd.concat([final1, final2, final3])\n",
    "finaldf"
   ]
  },
  {
   "cell_type": "markdown",
   "metadata": {},
   "source": [
    "Experiment 4"
   ]
  },
  {
   "cell_type": "code",
   "execution_count": 101,
   "metadata": {},
   "outputs": [],
   "source": [
    "model5 = models.Sequential()\n",
    "model5.add(layers.Conv2D(filters=256, kernel_size=(3, 3), strides=(1, 1), activation=tf.nn.relu, input_shape=(32, 32, 3)))\n",
    "model5.add(layers.MaxPooling2D((2, 2),strides=2))\n",
    "model5.add(layers.Conv2D(filters=512, kernel_size=(3, 3), strides=(1, 1), activation=tf.nn.relu))\n",
    "model5.add(layers.MaxPooling2D(pool_size=(2, 2),strides=2))\n",
    "model5.add(layers.Conv2D(filters=1024, kernel_size=(3, 3), strides=(1, 1), activation=tf.nn.relu))\n",
    "model5.add(layers.MaxPooling2D(pool_size=(2, 2),strides=2))\n",
    "model5.add(layers.Flatten())"
   ]
  },
  {
   "cell_type": "code",
   "execution_count": 102,
   "metadata": {},
   "outputs": [],
   "source": [
    "model5.compile(optimizer='adam',\n",
    "              loss=tf.keras.losses.SparseCategoricalCrossentropy(from_logits=False),\n",
    "              metrics=['accuracy'])"
   ]
  },
  {
   "cell_type": "code",
   "execution_count": 103,
   "metadata": {},
   "outputs": [
    {
     "name": "stdout",
     "output_type": "stream",
     "text": [
      "Epoch 1/20\n",
      "400/400 [==============================] - 958s 2s/step - loss: 8.3208 - accuracy: 0.0271 - val_loss: 8.1032 - val_accuracy: 0.0330\n",
      "Epoch 2/20\n",
      "400/400 [==============================] - 963s 2s/step - loss: 8.1621 - accuracy: 0.0320 - val_loss: 8.1032 - val_accuracy: 0.0334\n",
      "Epoch 3/20\n",
      "400/400 [==============================] - 1180s 3s/step - loss: 8.2010 - accuracy: 0.0311 - val_loss: 8.1032 - val_accuracy: 0.0333\n",
      "Epoch 4/20\n",
      "400/400 [==============================] - 976s 2s/step - loss: 8.0879 - accuracy: 0.0308 - val_loss: 8.1032 - val_accuracy: 0.0296\n"
     ]
    }
   ],
   "source": [
    "hist7 = model5.fit(train_images_norm\n",
    "                    ,train_labels\n",
    "                    ,epochs=20\n",
    "                    ,batch_size=100\n",
    "                    ,validation_data=(val_images_norm,val_labels)\n",
    "                    ,callbacks=[\n",
    "                    tf.keras.callbacks.EarlyStopping(monitor='val_accuracy', patience=2),\n",
    "                    tf.keras.callbacks.ModelCheckpoint('/content/gdrive/My Drive/Colab Notebooks/model_{val_accuracy:.4f}.h5', save_best_only=True,\n",
    "                                        save_weights_only=False, monitor='val_accuracy')]                                                                                                           \n",
    "                   )"
   ]
  },
  {
   "cell_type": "code",
   "execution_count": 104,
   "metadata": {},
   "outputs": [],
   "source": [
    "hist_df7 = pd.DataFrame(hist7.history) "
   ]
  },
  {
   "cell_type": "code",
   "execution_count": 105,
   "metadata": {},
   "outputs": [
    {
     "name": "stdout",
     "output_type": "stream",
     "text": [
      "Epoch 1/20\n",
      "100/100 [==============================] - 257s 3s/step - loss: 8.1676 - accuracy: 0.0305 - val_loss: 8.1032 - val_accuracy: 0.0296\n",
      "Epoch 2/20\n",
      "100/100 [==============================] - 261s 3s/step - loss: 8.1676 - accuracy: 0.0305 - val_loss: 8.1032 - val_accuracy: 0.0296\n",
      "Epoch 3/20\n",
      "100/100 [==============================] - 260s 3s/step - loss: 8.1676 - accuracy: 0.0305 - val_loss: 8.1032 - val_accuracy: 0.0296\n"
     ]
    }
   ],
   "source": [
    "hist8 = model5.fit(test_images_norm\n",
    "                    ,test_labels\n",
    "                    ,epochs=20\n",
    "                    ,batch_size=100\n",
    "                    ,validation_data=(val_images_norm,val_labels)\n",
    "                    ,callbacks=[\n",
    "                    tf.keras.callbacks.EarlyStopping(monitor='val_accuracy', patience=2),\n",
    "                    tf.keras.callbacks.ModelCheckpoint('/content/gdrive/My Drive/Colab Notebooks/model_{val_accuracy:.4f}.h5', save_best_only=True,\n",
    "                                        save_weights_only=False, monitor='val_accuracy')]                                                                                                           \n",
    "                   )"
   ]
  },
  {
   "cell_type": "code",
   "execution_count": 112,
   "metadata": {},
   "outputs": [],
   "source": [
    "hist_df8 = pd.DataFrame(hist8.history) "
   ]
  },
  {
   "cell_type": "markdown",
   "metadata": {},
   "source": [
    "Experiment 5"
   ]
  },
  {
   "cell_type": "code",
   "execution_count": 108,
   "metadata": {},
   "outputs": [],
   "source": [
    "from keras import regularizers"
   ]
  },
  {
   "cell_type": "code",
   "execution_count": 109,
   "metadata": {},
   "outputs": [],
   "source": [
    "model6 = Sequential()\n",
    "model6.add(layers.Flatten())\n",
    "model6.add(layers.Dense(units=512, activation=tf.nn.relu, kernel_regularizer=regularizers.l2(0.01)))"
   ]
  },
  {
   "cell_type": "code",
   "execution_count": 113,
   "metadata": {},
   "outputs": [],
   "source": [
    "model6.compile(optimizer='adam',\n",
    "              loss=tf.keras.losses.SparseCategoricalCrossentropy(from_logits=False),\n",
    "              metrics=['accuracy'])"
   ]
  },
  {
   "cell_type": "code",
   "execution_count": 114,
   "metadata": {},
   "outputs": [
    {
     "name": "stdout",
     "output_type": "stream",
     "text": [
      "Epoch 1/20\n",
      "400/400 [==============================] - 11s 26ms/step - loss: 4.2700 - accuracy: 0.0748 - val_loss: 2.4837 - val_accuracy: 0.0974\n",
      "Epoch 2/20\n",
      "400/400 [==============================] - 10s 25ms/step - loss: 2.4521 - accuracy: 0.1075 - val_loss: 2.3844 - val_accuracy: 0.1032\n",
      "Epoch 3/20\n",
      "400/400 [==============================] - 9s 24ms/step - loss: 2.3744 - accuracy: 0.0984 - val_loss: 2.3456 - val_accuracy: 0.0981\n",
      "Epoch 4/20\n",
      "400/400 [==============================] - 10s 25ms/step - loss: 2.3466 - accuracy: 0.1004 - val_loss: 2.3655 - val_accuracy: 0.1025\n"
     ]
    }
   ],
   "source": [
    "hist9 = model6.fit(train_images_norm\n",
    "                    ,train_labels\n",
    "                    ,epochs=20\n",
    "                    ,batch_size=100\n",
    "                    ,validation_data=(val_images_norm,val_labels)\n",
    "                    ,callbacks=[\n",
    "                    tf.keras.callbacks.EarlyStopping(monitor='val_accuracy', patience=2),\n",
    "                    tf.keras.callbacks.ModelCheckpoint('/content/gdrive/My Drive/Colab Notebooks/model_{val_accuracy:.4f}.h5', save_best_only=True,\n",
    "                                        save_weights_only=False, monitor='val_accuracy')]                                                                                                           \n",
    "                   )"
   ]
  },
  {
   "cell_type": "code",
   "execution_count": 117,
   "metadata": {},
   "outputs": [
    {
     "name": "stdout",
     "output_type": "stream",
     "text": [
      "Epoch 1/20\n",
      "100/100 [==============================] - 11s 114ms/step - loss: 2.3640 - accuracy: 0.1000 - val_loss: 2.3604 - val_accuracy: 0.1025\n",
      "Epoch 2/20\n",
      "100/100 [==============================] - 4s 38ms/step - loss: 2.3601 - accuracy: 0.1000 - val_loss: 2.3527 - val_accuracy: 0.1025\n",
      "Epoch 3/20\n",
      "100/100 [==============================] - 4s 40ms/step - loss: 2.3661 - accuracy: 0.1000 - val_loss: 2.3624 - val_accuracy: 0.1025\n"
     ]
    }
   ],
   "source": [
    "hist10 = model6.fit(test_images_norm\n",
    "                    ,test_labels\n",
    "                    ,epochs=20\n",
    "                    ,batch_size=100\n",
    "                    ,validation_data=(val_images_norm,val_labels)\n",
    "                    ,callbacks=[\n",
    "                    tf.keras.callbacks.EarlyStopping(monitor='val_accuracy', patience=2),\n",
    "                    tf.keras.callbacks.ModelCheckpoint('/content/gdrive/My Drive/Colab Notebooks/model_{val_accuracy:.4f}.h5', save_best_only=True,\n",
    "                                        save_weights_only=False, monitor='val_accuracy')]                                                                                                           \n",
    "                   )"
   ]
  },
  {
   "cell_type": "code",
   "execution_count": 118,
   "metadata": {},
   "outputs": [],
   "source": [
    "hist_df9 = pd.DataFrame(hist9.history) \n",
    "hist_df10 = pd.DataFrame(hist10.history) "
   ]
  },
  {
   "cell_type": "code",
   "execution_count": 121,
   "metadata": {},
   "outputs": [],
   "source": [
    "model7 = Sequential()\n",
    "model7.add(layers.Flatten())\n",
    "model7.add(layers.Dense(units=512, activation=tf.nn.relu, kernel_regularizer=regularizers.l2(0.01)))\n",
    "model7.add(layers.Dense(units=10, activation=tf.nn.softmax))"
   ]
  },
  {
   "cell_type": "code",
   "execution_count": 122,
   "metadata": {},
   "outputs": [],
   "source": [
    "model7.compile(optimizer='adam',\n",
    "              loss=tf.keras.losses.SparseCategoricalCrossentropy(from_logits=False),\n",
    "              metrics=['accuracy'])"
   ]
  },
  {
   "cell_type": "code",
   "execution_count": 123,
   "metadata": {},
   "outputs": [
    {
     "name": "stdout",
     "output_type": "stream",
     "text": [
      "Epoch 1/20\n",
      "400/400 [==============================] - 19s 44ms/step - loss: 5.3566 - accuracy: 0.2478 - val_loss: 2.0046 - val_accuracy: 0.3371\n",
      "Epoch 2/20\n",
      "400/400 [==============================] - 12s 30ms/step - loss: 1.9859 - accuracy: 0.3321 - val_loss: 1.9202 - val_accuracy: 0.3372\n",
      "Epoch 3/20\n",
      "400/400 [==============================] - 12s 30ms/step - loss: 1.9347 - accuracy: 0.3447 - val_loss: 1.8835 - val_accuracy: 0.3570\n",
      "Epoch 4/20\n",
      "400/400 [==============================] - 12s 30ms/step - loss: 1.9103 - accuracy: 0.3486 - val_loss: 1.9530 - val_accuracy: 0.3353\n",
      "Epoch 5/20\n",
      "400/400 [==============================] - 12s 30ms/step - loss: 1.8998 - accuracy: 0.3528 - val_loss: 1.9301 - val_accuracy: 0.3371\n"
     ]
    }
   ],
   "source": [
    "hist11 = model7.fit(train_images_norm\n",
    "                    ,train_labels\n",
    "                    ,epochs=20\n",
    "                    ,batch_size=100\n",
    "                    ,validation_data=(val_images_norm,val_labels)\n",
    "                    ,callbacks=[\n",
    "                    tf.keras.callbacks.EarlyStopping(monitor='val_accuracy', patience=2),\n",
    "                    tf.keras.callbacks.ModelCheckpoint('/content/gdrive/My Drive/Colab Notebooks/model_{val_accuracy:.4f}.h5', save_best_only=True,\n",
    "                                        save_weights_only=False, monitor='val_accuracy')]                                                                                                           \n",
    "                   )"
   ]
  },
  {
   "cell_type": "code",
   "execution_count": 124,
   "metadata": {},
   "outputs": [
    {
     "name": "stdout",
     "output_type": "stream",
     "text": [
      "Epoch 1/20\n",
      "100/100 [==============================] - 5s 50ms/step - loss: 1.8661 - accuracy: 0.3652 - val_loss: 1.8391 - val_accuracy: 0.3654\n",
      "Epoch 2/20\n",
      "100/100 [==============================] - 4s 39ms/step - loss: 1.8499 - accuracy: 0.3734 - val_loss: 1.8550 - val_accuracy: 0.3781\n",
      "Epoch 3/20\n",
      "100/100 [==============================] - 4s 44ms/step - loss: 1.8318 - accuracy: 0.3846 - val_loss: 1.8368 - val_accuracy: 0.3801\n",
      "Epoch 4/20\n",
      "100/100 [==============================] - 4s 44ms/step - loss: 1.8690 - accuracy: 0.3742 - val_loss: 1.8971 - val_accuracy: 0.3577\n",
      "Epoch 5/20\n",
      "100/100 [==============================] - 4s 42ms/step - loss: 1.8526 - accuracy: 0.3794 - val_loss: 1.8446 - val_accuracy: 0.3726\n"
     ]
    }
   ],
   "source": [
    "hist12 = model7.fit(test_images_norm\n",
    "                    ,test_labels\n",
    "                    ,epochs=20\n",
    "                    ,batch_size=100\n",
    "                    ,validation_data=(val_images_norm,val_labels)\n",
    "                    ,callbacks=[\n",
    "                    tf.keras.callbacks.EarlyStopping(monitor='val_accuracy', patience=2),\n",
    "                    tf.keras.callbacks.ModelCheckpoint('/content/gdrive/My Drive/Colab Notebooks/model_{val_accuracy:.4f}.h5', save_best_only=True,\n",
    "                                        save_weights_only=False, monitor='val_accuracy')]                                                                                                           \n",
    "                   )"
   ]
  },
  {
   "cell_type": "code",
   "execution_count": 125,
   "metadata": {},
   "outputs": [],
   "source": [
    "hist_df11 = pd.DataFrame(hist11.history) \n",
    "hist_df12 = pd.DataFrame(hist12.history) "
   ]
  },
  {
   "cell_type": "code",
   "execution_count": 126,
   "metadata": {},
   "outputs": [],
   "source": [
    "model8 = models.Sequential()\n",
    "model8.add(layers.Conv2D(filters=256, kernel_size=(3, 3), strides=(1, 1), activation=tf.nn.relu, input_shape=(32, 32, 3), kernel_regularizer=regularizers.l2(0.01)))\n",
    "model8.add(layers.MaxPooling2D((2, 2),strides=2))\n",
    "model8.add(layers.Conv2D(filters=512, kernel_size=(3, 3), strides=(1, 1), activation=tf.nn.relu))\n",
    "model8.add(layers.MaxPooling2D(pool_size=(2, 2),strides=2))\n",
    "model8.add(layers.Flatten())"
   ]
  },
  {
   "cell_type": "code",
   "execution_count": 127,
   "metadata": {},
   "outputs": [],
   "source": [
    "model8.compile(optimizer='adam',\n",
    "              loss=tf.keras.losses.SparseCategoricalCrossentropy(from_logits=False),\n",
    "              metrics=['accuracy'])"
   ]
  },
  {
   "cell_type": "code",
   "execution_count": 128,
   "metadata": {},
   "outputs": [
    {
     "name": "stdout",
     "output_type": "stream",
     "text": [
      "Epoch 1/20\n",
      "400/400 [==============================] - 683s 2s/step - loss: 10.4916 - accuracy: 0.0848 - val_loss: 9.8450 - val_accuracy: 0.1005\n",
      "Epoch 2/20\n",
      "400/400 [==============================] - 718s 2s/step - loss: 9.8409 - accuracy: 0.1005 - val_loss: 9.8315 - val_accuracy: 0.1005\n",
      "Epoch 3/20\n",
      "400/400 [==============================] - 755s 2s/step - loss: 9.8296 - accuracy: 0.0994 - val_loss: 9.8256 - val_accuracy: 0.1005\n"
     ]
    }
   ],
   "source": [
    "hist13 = model8.fit(train_images_norm\n",
    "                    ,train_labels\n",
    "                    ,epochs=20\n",
    "                    ,batch_size=100                                                                                                                                                                                                                                                                                                                                                                                                                                                                                                                                                                                                                                                                                                                                                                                                                                                                                                                                                                                                                                                                                                                                                                                                                                                                                                                                                                                                                                                                                                                                                                                                                                                                                                                                                                                                                                                                                                                                                                                                                                                                                                                                                                                                                                                                                                                                                                                                                                                                                                                                                                                                                                                                                                                                                                                                                                                                                                                                                                                                                                                                                                                                                                                                                                                                                                                                                                                                                                                                                                                                                                                                                                                                                                                                                                                                                                                                                                                                                                                                                                                                                                                                                                                                                                                                                                                                                                                                                                                                                                                                                                                                                                                                                                                                                                                                                                                                                                                                                                                                                                                                                                                                                                                                                                                                                                                                                                                                                                                                                                                                                                                                                                                                                                                                                                                                                                                                                                                                                                                                                                                                                                                                                                                                                                                                                                                                                                                                                                                                                                                                                                                                                                                                                                                                                                                                                                                                                                                                                                                                                                                                                                                                                                                                                                                                                                                                                                                                                                                                                                                                                                                                                                                                                                                                                                                                                                                                                                                                                                                                                                                                                                                                                                                                                                                                                                                                                                                                                                                                                                                                                                                                                                                                                                                                                                                                                                                                                                                                                                                                                                                                                                                                                                                                                                                                                                                                                                                                                                                                                                                                                                                                                                                                                                                                                                                                                                                                                                                                                                                                                                                                                                                                                                                                                                                                                                                                                                                                                                                                                                                                                                                                                                                                                                                                                                                                                                                                                                                                                                                                                                                                                                                                                                                                                                                                                                                                                                                                                                                                                                                                                                                                                                                                                                                                                                                                                                                                                                                                                                                                                                                                                                                                                                                                                                                                                                                                                                                                                                                                                                                                                                                                                                                                                                                                                                                                                                                                                                                                                                                                                                                                                                                                                                                                                                                                                                                                                                                                                                                                                                                                                                                                                                                                                                                                                                                                                                                                                                                                                                                                                                                                                                                                                                                                                                                                                                                                                                                                                                                                                                                                                                                                                                                                                                                                                                                                                                                                                                                                                                                                                                                                                                                                                                                                                                                                                                                                                                                                                                                                                                                                                                                                                                                                                                                                                                                                                                                             \n",
    "                    ,validation_data=(val_images_norm,val_labels)\n",
    "                    ,callbacks=[\n",
    "                    tf.keras.callbacks.EarlyStopping(monitor='val_accuracy', patience=2),\n",
    "                    tf.keras.callbacks.ModelCheckpoint('/content/gdrive/My Drive/Colab Notebooks/model_{val_accuracy:.4f}.h5', save_best_only=True,\n",
    "                                        save_weights_only=False, monitor='val_accuracy')]                                                                                                           \n",
    "                   )"
   ]
  },
  {
   "cell_type": "code",
   "execution_count": null,
   "metadata": {},
   "outputs": [],
   "source": [
    "hist14 = model8.fit(test_images_norm\n",
    "                    ,test_labels\n",
    "                    ,epochs=20\n",
    "                    ,batch_size=100                                                                                                                                                                                                                                                                                                                                                                                                                                                                                                                                                                                                                                                                                                                                                                                                                                                                                                                                                                                                                                                                                                                                                                                                                                                                                                                                                                                                                                                                                                                                                                                                                                                                                                                                                                                                                                                                                                                                                                                                                                                                                                                                                                                                                                                                                                                                                                                                                                                                                                                                                                                                                                                                                                                                                                                                                                                                                                                                                                                                                                                                                                                                                                                                                                                                                                                                                                                                                                                                                                                                                                                                                                                                                                                                                                                                                                                                                                                                                                                                                                                                                                                                                                                                                                                                                                                                                                                                                                                                                                                                                                                                                                                                                                                                                                                                                                                                                                                                                                                                                                                                                                                                                                                                                                                                                                                                                                                                                                                                                                                                                                                                                                                                                                                                                                                                                                                                                                                                                                                                                                                                                                                                                                                                                                                                                                                                                                                                                                                                                                                                                                                                                                                                                                                                                                                                                                                                                                                                                                                                                                                                                                                                                                                                                                                                                                                                                                                                                                                                                                                                                                                                                                                                                                                                                                                                                                                                                                                                                                                                                                                                                                                                                                                                                                                                                                                                                                                                                                                                                                                                                                                                                                                                                                                                                                                                                                                                                                                                                                                                                                                                                                                                                                                                                                                                                                                                                                                                                                                                                                                                                                                                                                                                                                                                                                                                                                                                                                                                                                                                                                                                                                                                                                                                                                                                                                                                                                                                                                                                                                                                                                                                                                                                                                                                                                                                                                                                                                                                                                                                                                                                                                                                                                                                                                                                                                                                                                                                                                                                                                                                                                                                                                                                                                                                                                                                                                                                                                                                                                                                                                                                                                                                                                                                                                                                                                                                                                                                                                                                                                                                                                                                                                                                                                                                                                                                                                                                                                                                                                                                                                                                                                                                                                                                                                                                                                                                                                                                                                                                                                                                                                                                                                                                                                                                                                                                                                                                                                                                                                                                                                                                                                                                                                                                                                                                                                                                                                                                                                                                                                                                                                                                                                                                                                                                                                                                                                                                                                                                                                                                                                                                                                                                                                                                                                                                                                                                                                                                                                                                                                                                                                                                                                                                                                                                                                                                                                                             \n",
    "                    ,validation_data=(val_images_norm,val_labels)\n",
    "                    ,callbacks=[\n",
    "                    tf.keras.callbacks.EarlyStopping(monitor='val_accuracy', patience=2),\n",
    "                    tf.keras.callbacks.ModelCheckpoint('/content/gdrive/My Drive/Colab Notebooks/model_{val_accuracy:.4f}.h5', save_best_only=True,\n",
    "                                        save_weights_only=False, monitor='val_accuracy')]                                                                                                           \n",
    "                   )"
   ]
  },
  {
   "cell_type": "code",
   "execution_count": null,
   "metadata": {},
   "outputs": [],
   "source": [
    "model9 = models.Sequential()\n",
    "model9.add(layers.Conv2D(filters=256, kernel_size=(3, 3), strides=(1, 1), activation=tf.nn.relu, input_shape=(32, 32, 3), kernel_regularizer=regularizers.l2(0.01)))\n",
    "model9.add(layers.MaxPooling2D((2, 2),strides=2))\n",
    "model9.add(layers.Conv2D(filters=512, kernel_size=(3, 3), strides=(1, 1), activation=tf.nn.relu))\n",
    "model9.add(layers.MaxPooling2D(pool_size=(2, 2),strides=2))\n",
    "model9.add(layers.Conv2D(filters=1024, kernel_size=(3, 3), strides=(1, 1), activation=tf.nn.relu))\n",
    "model9.add(layers.MaxPooling2D(pool_size=(2, 2),strides=2))\n",
    "model9.add(layers.Flatten())"
   ]
  },
  {
   "cell_type": "code",
   "execution_count": 75,
   "metadata": {},
   "outputs": [],
   "source": [
    "model9.compile(optimizer='adam',\n",
    "              loss=tf.keras.losses.SparseCategoricalCrossentropy(from_logits=False),\n",
    "              metrics=['accuracy'])"
   ]
  },
  {
   "cell_type": "code",
   "execution_count": 76,
   "metadata": {},
   "outputs": [
    {
     "name": "stdout",
     "output_type": "stream",
     "text": [
      "Epoch 1/20\n",
      "400/400 [==============================] - 1032s 3s/step - loss: 6.7422 - accuracy: 0.0367 - val_loss: 6.7215 - val_accuracy: 0.0452\n",
      "Epoch 2/20\n",
      "400/400 [==============================] - 1015s 3s/step - loss: 6.7059 - accuracy: 0.0390 - val_loss: 6.7122 - val_accuracy: 0.0308\n",
      "Epoch 3/20\n",
      "400/400 [==============================] - 1193s 3s/step - loss: 6.6960 - accuracy: 0.0316 - val_loss: 6.7049 - val_accuracy: 0.0308\n"
     ]
    },
    {
     "data": {
      "text/plain": [
       "<tensorflow.python.keras.callbacks.History at 0x258357dd520>"
      ]
     },
     "execution_count": 76,
     "metadata": {},
     "output_type": "execute_result"
    }
   ],
   "source": [
    "model9.fit(train_images_norm\n",
    "                    ,train_labels\n",
    "                    ,epochs=20\n",
    "                    ,batch_size=100                                                                                                                                                                                                                                                                                                                                                                                                                                                                                                                                                                                                                                                                                                                                                                                                                                                                                                                                                                                                                                                                                                                                                                                                                                                                                                                                                                                                                                                                                                                                                                                                                                                                                                                                                                                                                                                                                                                                                                                                                                                                                                                                                                                                                                                                                                                                                                                                                                                                                                                                                                                                                                                                                                                                                                                                                                                                                                                                                                                                                                                                                                                                                                                                                                                                                                                                                                                                                                                                                                                                                                                                                                                                                                                                                                                                                                                                                                                                                                                                                                                                                                                                                                                                                                                                                                                                                                                                                                                                                                                                                                                                                                                                                                                                                                                                                                                                                                                                                                                                                                                                                                                                                                                                                                                                                                                                                                                                                                                                                                                                                                                                                                                                                                                                                                                                                                                                                                                                                                                                                                                                                                                                                                                                                                                                                                                                                                                                                                                                                                                                                                                                                                                                                                                                                                                                                                                                                                                                                                                                                                                                                                                                                                                                                                                                                                                                                                                                                                                                                                                                                                                                                                                                                                                                                                                                                                                                                                                                                                                                                                                                                                                                                                                                                                                                                                                                                                                                                                                                                                                                                                                                                                                                                                                                                                                                                                                                                                                                                                                                                                                                                                                                                                                                                                                                                                                                                                                                                                                                                                                                                                                                                                                                                                                                                                                                                                                                                                                                                                                                                                                                                                                                                                                                                                                                                                                                                                                                                                                                                                                                                                                                                                                                                                                                                                                                                                                                                                                                                                                                                                                                                                                                                                                                                                                                                                                                                                                                                                                                                                                                                                                                                                                                                                                                                                                                                                                                                                                                                                                                                                                                                                                                                                                                                                                                                                                                                                                                                                                                                                                                                                                                                                                                                                                                                                                                                                                                                                                                                                                                                                                                                                                                                                                                                                                                                                                                                                                                                                                                                                                                                                                                                                                                                                                                                                                                                                                                                                                                                                                                                                                                                                                                                                                                                                                                                                                                                                                                                                                                                                                                                                                                                                                                                                                                                                                                                                                                                                                                                                                                                                                                                                                                                                                                                                                                                                                                                                                                                                                                                                                                                                                                                                                                                                                                                                                                                                                             \n",
    "                    ,validation_data=(val_images_norm,val_labels)\n",
    "                    ,callbacks=[\n",
    "                    tf.keras.callbacks.EarlyStopping(monitor='val_accuracy', patience=2),\n",
    "                    tf.keras.callbacks.ModelCheckpoint('/content/gdrive/My Drive/Colab Notebooks/model_{val_accuracy:.4f}.h5', save_best_only=True,\n",
    "                                        save_weights_only=False, monitor='val_accuracy')]                                                                                                           \n",
    "                   )"
   ]
  },
  {
   "cell_type": "code",
   "execution_count": 77,
   "metadata": {},
   "outputs": [],
   "source": [
    "model10 = models.Sequential()\n",
    "model10.add(layers.Conv2D(filters=512, kernel_size=(1, 1), strides=(1, 1), activation=tf.nn.relu, input_shape=(32, 32, 3)))\n",
    "model10.add(layers.MaxPooling2D((2, 2),strides=2))\n",
    "model10.add(layers.Conv2D(filters=512, kernel_size=(1, 1), strides=(1, 1), activation=tf.nn.relu))\n",
    "model10.add(layers.MaxPooling2D(pool_size=(2, 2),strides=2))\n",
    "model10.add(layers.Flatten())"
   ]
  },
  {
   "cell_type": "code",
   "execution_count": 78,
   "metadata": {},
   "outputs": [],
   "source": [
    "model10.compile(optimizer='adam',\n",
    "              loss=tf.keras.losses.SparseCategoricalCrossentropy(from_logits=False),\n",
    "              metrics=['accuracy'])"
   ]
  },
  {
   "cell_type": "code",
   "execution_count": 79,
   "metadata": {},
   "outputs": [
    {
     "name": "stdout",
     "output_type": "stream",
     "text": [
      "Epoch 1/20\n",
      "400/400 [==============================] - 397s 993ms/step - loss: 10.6084 - accuracy: 0.0921 - val_loss: 10.3972 - val_accuracy: 0.1005\n",
      "Epoch 2/20\n",
      "400/400 [==============================] - 385s 964ms/step - loss: 10.3972 - accuracy: 0.0999 - val_loss: 10.3972 - val_accuracy: 0.1005\n",
      "Epoch 3/20\n",
      "400/400 [==============================] - 407s 1s/step - loss: 10.3972 - accuracy: 0.0999 - val_loss: 10.3972 - val_accuracy: 0.1005\n"
     ]
    },
    {
     "data": {
      "text/plain": [
       "<tensorflow.python.keras.callbacks.History at 0x2583655da90>"
      ]
     },
     "execution_count": 79,
     "metadata": {},
     "output_type": "execute_result"
    }
   ],
   "source": [
    "model10.fit(train_images_norm\n",
    "                    ,train_labels\n",
    "                    ,epochs=20\n",
    "                    ,batch_size=100                                                                                                                                                                                                                                                                                                                                                                                                                                                                                                                                                                                                                                                                                                                                                                                                                                                                                                                                                                                                                                                                                                                                                                                                                                                                                                                                                                                                                                                                                                                                                                                                                                                                                                                                                                                                                                                                                                                                                                                                                                                                                                                                                                                                                                                                                                                                                                                                                                                                                                                                                                                                                                                                                                                                                                                                                                                                                                                                                                                                                                                                                                                                                                                                                                                                                                                                                                                                                                                                                                                                                                                                                                                                                                                                                                                                                                                                                                                                                                                                                                                                                                                                                                                                                                                                                                                                                                                                                                                                                                                                                                                                                                                                                                                                                                                                                                                                                                                                                                                                                                                                                                                                                                                                                                                                                                                                                                                                                                                                                                                                                                                                                                                                                                                                                                                                                                                                                                                                                                                                                                                                                                                                                                                                                                                                                                                                                                                                                                                                                                                                                                                                                                                                                                                                                                                                                                                                                                                                                                                                                                                                                                                                                                                                                                                                                                                                                                                                                                                                                                                                                                                                                                                                                                                                                                                                                                                                                                                                                                                                                                                                                                                                                                                                                                                                                                                                                                                                                                                                                                                                                                                                                                                                                                                                                                                                                                                                                                                                                                                                                                                                                                                                                                                                                                                                                                                                                                                                                                                                                                                                                                                                                                                                                                                                                                                                                                                                                                                                                                                                                                                                                                                                                                                                                                                                                                                                                                                                                                                                                                                                                                                                                                                                                                                                                                                                                                                                                                                                                                                                                                                                                                                                                                                                                                                                                                                                                                                                                                                                                                                                                                                                                                                                                                                                                                                                                                                                                                                                                                                                                                                                                                                                                                                                                                                                                                                                                                                                                                                                                                                                                                                                                                                                                                                                                                                                                                                                                                                                                                                                                                                                                                                                                                                                                                                                                                                                                                                                                                                                                                                                                                                                                                                                                                                                                                                                                                                                                                                                                                                                                                                                                                                                                                                                                                                                                                                                                                                                                                                                                                                                                                                                                                                                                                                                                                                                                                                                                                                                                                                                                                                                                                                                                                                                                                                                                                                                                                                                                                                                                                                                                                                                                                                                                                                                                                                                                                                             \n",
    "                    ,validation_data=(val_images_norm,val_labels)\n",
    "                    ,callbacks=[\n",
    "                    tf.keras.callbacks.EarlyStopping(monitor='val_accuracy', patience=2),\n",
    "                    tf.keras.callbacks.ModelCheckpoint('/content/gdrive/My Drive/Colab Notebooks/model_{val_accuracy:.4f}.h5', save_best_only=True,\n",
    "                                        save_weights_only=False, monitor='val_accuracy')]                                                                                                           \n",
    "                   )"
   ]
  },
  {
   "cell_type": "code",
   "execution_count": 80,
   "metadata": {},
   "outputs": [],
   "source": [
    "model11 = Sequential()\n",
    "model11.add(layers.Dense(units=10, activation=tf.nn.relu))\n",
    "model11.add(layers.Dense(units=10, activation=tf.nn.softmax))\n",
    "model11.add(layers.Flatten())"
   ]
  },
  {
   "cell_type": "code",
   "execution_count": 81,
   "metadata": {},
   "outputs": [],
   "source": [
    "model11.compile(optimizer='adam',\n",
    "              loss=tf.keras.losses.SparseCategoricalCrossentropy(from_logits=False),\n",
    "              metrics=['accuracy'])"
   ]
  },
  {
   "cell_type": "code",
   "execution_count": 98,
   "metadata": {},
   "outputs": [
    {
     "name": "stdout",
     "output_type": "stream",
     "text": [
      "Epoch 1/20\n",
      "400/400 [==============================] - 18s 45ms/step - loss: 9.0820 - accuracy: 0.0033 - val_loss: 9.0701 - val_accuracy: 0.0040\n",
      "Epoch 2/20\n",
      "400/400 [==============================] - 18s 46ms/step - loss: 9.0788 - accuracy: 0.0033 - val_loss: 9.0669 - val_accuracy: 0.0033\n",
      "Epoch 3/20\n",
      "400/400 [==============================] - 19s 47ms/step - loss: 9.0765 - accuracy: 0.0033 - val_loss: 9.0647 - val_accuracy: 0.0032\n"
     ]
    }
   ],
   "source": [
    "history = model11.fit(train_images_norm\n",
    "                    ,train_labels\n",
    "                    ,epochs=20\n",
    "                    ,batch_size=100                                                                                                                                                                                                                                                                                                                                                                                                                                                                                                                                                                                                                                                                                                                                                                                                                                                                                                                                                                                                                                                                                                                                                                                                                                                                                                                                                                                                                                                                                                                                                                                                                                                                                                                                                                                                                                                                                                                                                                                                                                                                                                                                                                                                                                                                                                                                                                                                                                                                                                                                                                                                                                                                                                                                                                                                                                                                                                                                                                                                                                                                                                                                                                                                                                                                                                                                                                                                                                                                                                                                                                                                                                                                                                                                                                                                                                                                                                                                                                                                                                                                                                                                                                                                                                                                                                                                                                                                                                                                                                                                                                                                                                                                                                                                                                                                                                                                                                                                                                                                                                                                                                                                                                                                                                                                                                                                                                                                                                                                                                                                                                                                                                                                                                                                                                                                                                                                                                                                                                                                                                                                                                                                                                                                                                                                                                                                                                                                                                                                                                                                                                                                                                                                                                                                                                                                                                                                                                                                                                                                                                                                                                                                                                                                                                                                                                                                                                                                                                                                                                                                                                                                                                                                                                                                                                                                                                                                                                                                                                                                                                                                                                                                                                                                                                                                                                                                                                                                                                                                                                                                                                                                                                                                                                                                                                                                                                                                                                                                                                                                                                                                                                                                                                                                                                                                                                                                                                                                                                                                                                                                                                                                                                                                                                                                                                                                                                                                                                                                                                                                                                                                                                                                                                                                                                                                                                                                                                                                                                                                                                                                                                                                                                                                                                                                                                                                                                                                                                                                                                                                                                                                                                                                                                                                                                                                                                                                                                                                                                                                                                                                                                                                                                                                                                                                                                                                                                                                                                                                                                                                                                                                                                                                                                                                                                                                                                                                                                                                                                                                                                                                                                                                                                                                                                                                                                                                                                                                                                                                                                                                                                                                                                                                                                                                                                                                                                                                                                                                                                                                                                                                                                                                                                                                                                                                                                                                                                                                                                                                                                                                                                                                                                                                                                                                                                                                                                                                                                                                                                                                                                                                                                                                                                                                                                                                                                                                                                                                                                                                                                                                                                                                                                                                                                                                                                                                                                                                                                                                                                                                                                                                                                                                                                                                                                                                                                                                                                                             \n",
    "                    ,validation_data=(val_images_norm,val_labels)\n",
    "                    ,callbacks=[\n",
    "                    tf.keras.callbacks.EarlyStopping(monitor='val_accuracy', patience=2),\n",
    "                    tf.keras.callbacks.ModelCheckpoint('/content/gdrive/My Drive/Colab Notebooks/model_{val_accuracy:.4f}.h5', save_best_only=True,\n",
    "                                        save_weights_only=False, monitor='val_accuracy')]                                                                                                           \n",
    "                   )"
   ]
  },
  {
   "cell_type": "code",
   "execution_count": 100,
   "metadata": {},
   "outputs": [
    {
     "data": {
      "text/html": [
       "<div>\n",
       "<style scoped>\n",
       "    .dataframe tbody tr th:only-of-type {\n",
       "        vertical-align: middle;\n",
       "    }\n",
       "\n",
       "    .dataframe tbody tr th {\n",
       "        vertical-align: top;\n",
       "    }\n",
       "\n",
       "    .dataframe thead th {\n",
       "        text-align: right;\n",
       "    }\n",
       "</style>\n",
       "<table border=\"1\" class=\"dataframe\">\n",
       "  <thead>\n",
       "    <tr style=\"text-align: right;\">\n",
       "      <th></th>\n",
       "      <th>loss</th>\n",
       "      <th>accuracy</th>\n",
       "      <th>val_loss</th>\n",
       "      <th>val_accuracy</th>\n",
       "    </tr>\n",
       "  </thead>\n",
       "  <tbody>\n",
       "    <tr>\n",
       "      <th>0</th>\n",
       "      <td>9.081950</td>\n",
       "      <td>0.003325</td>\n",
       "      <td>9.070135</td>\n",
       "      <td>0.0040</td>\n",
       "    </tr>\n",
       "    <tr>\n",
       "      <th>1</th>\n",
       "      <td>9.078776</td>\n",
       "      <td>0.003250</td>\n",
       "      <td>9.066914</td>\n",
       "      <td>0.0033</td>\n",
       "    </tr>\n",
       "    <tr>\n",
       "      <th>2</th>\n",
       "      <td>9.076484</td>\n",
       "      <td>0.003300</td>\n",
       "      <td>9.064711</td>\n",
       "      <td>0.0032</td>\n",
       "    </tr>\n",
       "  </tbody>\n",
       "</table>\n",
       "</div>"
      ],
      "text/plain": [
       "       loss  accuracy  val_loss  val_accuracy\n",
       "0  9.081950  0.003325  9.070135        0.0040\n",
       "1  9.078776  0.003250  9.066914        0.0033\n",
       "2  9.076484  0.003300  9.064711        0.0032"
      ]
     },
     "execution_count": 100,
     "metadata": {},
     "output_type": "execute_result"
    }
   ],
   "source": [
    "hist_df = pd.DataFrame(history.history) \n",
    "hist_df"
   ]
  },
  {
   "cell_type": "code",
   "execution_count": 114,
   "metadata": {},
   "outputs": [
    {
     "data": {
      "text/html": [
       "<div>\n",
       "<style scoped>\n",
       "    .dataframe tbody tr th:only-of-type {\n",
       "        vertical-align: middle;\n",
       "    }\n",
       "\n",
       "    .dataframe tbody tr th {\n",
       "        vertical-align: top;\n",
       "    }\n",
       "\n",
       "    .dataframe thead th {\n",
       "        text-align: right;\n",
       "    }\n",
       "</style>\n",
       "<table border=\"1\" class=\"dataframe\">\n",
       "  <thead>\n",
       "    <tr style=\"text-align: right;\">\n",
       "      <th></th>\n",
       "      <th>loss</th>\n",
       "      <th>accuracy</th>\n",
       "      <th>val_loss</th>\n",
       "      <th>val_accuracy</th>\n",
       "      <th>Model</th>\n",
       "    </tr>\n",
       "  </thead>\n",
       "  <tbody>\n",
       "    <tr>\n",
       "      <th>0</th>\n",
       "      <td>9.081950</td>\n",
       "      <td>0.003325</td>\n",
       "      <td>9.070135</td>\n",
       "      <td>0.0040</td>\n",
       "      <td>Model 11</td>\n",
       "    </tr>\n",
       "    <tr>\n",
       "      <th>1</th>\n",
       "      <td>9.078776</td>\n",
       "      <td>0.003250</td>\n",
       "      <td>9.066914</td>\n",
       "      <td>0.0033</td>\n",
       "      <td>Model 11</td>\n",
       "    </tr>\n",
       "    <tr>\n",
       "      <th>2</th>\n",
       "      <td>9.076484</td>\n",
       "      <td>0.003300</td>\n",
       "      <td>9.064711</td>\n",
       "      <td>0.0032</td>\n",
       "      <td>Model 11</td>\n",
       "    </tr>\n",
       "  </tbody>\n",
       "</table>\n",
       "</div>"
      ],
      "text/plain": [
       "       loss  accuracy  val_loss  val_accuracy     Model\n",
       "0  9.081950  0.003325  9.070135        0.0040  Model 11\n",
       "1  9.078776  0.003250  9.066914        0.0033  Model 11\n",
       "2  9.076484  0.003300  9.064711        0.0032  Model 11"
      ]
     },
     "execution_count": 114,
     "metadata": {},
     "output_type": "execute_result"
    }
   ],
   "source": [
    "hist_df[\"Model\"]='Model 11'\n",
    "hist_df"
   ]
  },
  {
   "cell_type": "markdown",
   "metadata": {},
   "source": [
    "Result 1"
   ]
  },
  {
   "cell_type": "code",
   "execution_count": null,
   "metadata": {},
   "outputs": [],
   "source": []
  }
 ],
 "metadata": {
  "accelerator": "TPU",
  "colab": {
   "collapsed_sections": [],
   "machine_shape": "hm",
   "name": "MSDS458_Assignment_02b_20201118_DEV_v6_GoogleColab.ipynb",
   "provenance": [],
   "toc_visible": true
  },
  "kernelspec": {
   "display_name": "Python 3",
   "language": "python",
   "name": "python3"
  },
  "language_info": {
   "codemirror_mode": {
    "name": "ipython",
    "version": 3
   },
   "file_extension": ".py",
   "mimetype": "text/x-python",
   "name": "python",
   "nbconvert_exporter": "python",
   "pygments_lexer": "ipython3",
   "version": "3.8.5"
  },
  "toc": {
   "base_numbering": 1,
   "nav_menu": {},
   "number_sections": false,
   "sideBar": true,
   "skip_h1_title": false,
   "title_cell": "Table of Contents",
   "title_sidebar": "Contents",
   "toc_cell": false,
   "toc_position": {},
   "toc_section_display": true,
   "toc_window_display": false
  }
 },
 "nbformat": 4,
 "nbformat_minor": 1
}
