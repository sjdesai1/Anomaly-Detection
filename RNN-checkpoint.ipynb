{
 "cells": [
  {
   "cell_type": "code",
   "execution_count": 1,
   "metadata": {},
   "outputs": [],
   "source": [
    "import numpy as np \n",
    "import pandas as pd "
   ]
  },
  {
   "cell_type": "code",
   "execution_count": 2,
   "metadata": {},
   "outputs": [],
   "source": [
    "from keras.models import Sequential, load_model\n",
    "from keras.layers import LSTM, GRU\n",
    "from keras.layers import Dense, Embedding, Bidirectional, Dropout, Flatten\n",
    "from keras.optimizers import Adam, SGD\n",
    "from tensorflow.python.keras.preprocessing.text import Tokenizer\n",
    "from tensorflow.python.keras.preprocessing.sequence import pad_sequences"
   ]
  },
  {
   "cell_type": "code",
   "execution_count": 3,
   "metadata": {},
   "outputs": [],
   "source": [
    "train = pd.read_csv('Rtrain.csv')\n",
    "test = pd.read_csv('Rtest.csv')"
   ]
  },
  {
   "cell_type": "code",
   "execution_count": 4,
   "metadata": {},
   "outputs": [],
   "source": [
    "train = train.drop(['id', 'keyword', 'location'], axis=1)\n",
    "test = test.drop(['id', 'keyword', 'location'], axis=1)"
   ]
  },
  {
   "cell_type": "code",
   "execution_count": 5,
   "metadata": {},
   "outputs": [],
   "source": [
    "y_train =  train['target'].values\n",
    "X_train = train.drop(['target'], axis=1).values.reshape(len(train),)\n",
    "X_test = test['text'].values.reshape(len(test),)"
   ]
  },
  {
   "cell_type": "code",
   "execution_count": 6,
   "metadata": {},
   "outputs": [
    {
     "name": "stdout",
     "output_type": "stream",
     "text": [
      "Total tweets :  10876\n"
     ]
    }
   ],
   "source": [
    "total_tweets = np.concatenate((X_train, X_test))\n",
    "print('Total tweets : ', len(total_tweets))"
   ]
  },
  {
   "cell_type": "code",
   "execution_count": 13,
   "metadata": {},
   "outputs": [],
   "source": [
    "tokenizer = Tokenizer()\n",
    "tokenizer.fit_on_texts(total_tweets)\n",
    "\n",
    "vocab_size = len(tokenizer.word_index) + 1"
   ]
  },
  {
   "cell_type": "code",
   "execution_count": 8,
   "metadata": {},
   "outputs": [],
   "source": [
    "maxlen = max(len(x.split()) for x in total_tweets)"
   ]
  },
  {
   "cell_type": "code",
   "execution_count": 12,
   "metadata": {},
   "outputs": [],
   "source": [
    "X_train_token = tokenizer.texts_to_sequences(X_train)\n",
    "X_test_token = tokenizer.texts_to_sequences(X_test)"
   ]
  },
  {
   "cell_type": "code",
   "execution_count": 11,
   "metadata": {},
   "outputs": [],
   "source": [
    "X_train_pad = pad_sequences(X_train_token, maxlen=maxlen, padding='post')\n",
    "X_test_pad = pad_sequences(X_test_token, maxlen=maxlen, padding='post')"
   ]
  },
  {
   "cell_type": "code",
   "execution_count": 14,
   "metadata": {},
   "outputs": [
    {
     "name": "stdout",
     "output_type": "stream",
     "text": [
      "Model: \"sequential\"\n",
      "_________________________________________________________________\n",
      "Layer (type)                 Output Shape              Param #   \n",
      "=================================================================\n",
      "embedding (Embedding)        (None, 31, 100)           2932000   \n",
      "_________________________________________________________________\n",
      "bidirectional (Bidirectional (None, 256)               234496    \n",
      "_________________________________________________________________\n",
      "dropout (Dropout)            (None, 256)               0         \n",
      "_________________________________________________________________\n",
      "dense (Dense)                (None, 256)               65792     \n",
      "_________________________________________________________________\n",
      "dropout_1 (Dropout)          (None, 256)               0         \n",
      "_________________________________________________________________\n",
      "dense_1 (Dense)              (None, 1)                 257       \n",
      "=================================================================\n",
      "Total params: 3,232,545\n",
      "Trainable params: 3,232,545\n",
      "Non-trainable params: 0\n",
      "_________________________________________________________________\n"
     ]
    }
   ],
   "source": [
    "hidden_units = 128\n",
    "embed_units = 100\n",
    "\n",
    "model = Sequential()\n",
    "model.add(Embedding(vocab_size, embed_units, input_length = maxlen))\n",
    "model.add(Bidirectional(LSTM(hidden_units)))\n",
    "model.add(Dropout(0.2))\n",
    "#model.add(Flatten())\n",
    "model.add(Dense(256, activation='relu'))\n",
    "model.add(Dropout(0.2))\n",
    "model.add(Dense(1, activation='sigmoid'))\n",
    "\n",
    "model.summary()"
   ]
  },
  {
   "cell_type": "code",
   "execution_count": 15,
   "metadata": {},
   "outputs": [],
   "source": [
    "learning_rate = 0.0001\n",
    "\n",
    "model.compile(loss = 'binary_crossentropy',\n",
    "              optimizer = 'adam',\n",
    "              metrics = ['accuracy'])"
   ]
  },
  {
   "cell_type": "code",
   "execution_count": 16,
   "metadata": {},
   "outputs": [
    {
     "name": "stdout",
     "output_type": "stream",
     "text": [
      "Epoch 1/5\n",
      "12/12 [==============================] - 6s 467ms/step - loss: 0.6748 - accuracy: 0.5780 - val_loss: 0.6561 - val_accuracy: 0.5404\n",
      "Epoch 2/5\n",
      "12/12 [==============================] - 5s 381ms/step - loss: 0.5767 - accuracy: 0.7371 - val_loss: 0.5384 - val_accuracy: 0.7617\n",
      "Epoch 3/5\n",
      "12/12 [==============================] - 5s 390ms/step - loss: 0.3569 - accuracy: 0.8562 - val_loss: 0.4650 - val_accuracy: 0.7938\n",
      "Epoch 4/5\n",
      "12/12 [==============================] - 5s 404ms/step - loss: 0.2021 - accuracy: 0.9241 - val_loss: 0.4910 - val_accuracy: 0.7978\n",
      "Epoch 5/5\n",
      "12/12 [==============================] - 5s 405ms/step - loss: 0.1139 - accuracy: 0.9570 - val_loss: 0.5613 - val_accuracy: 0.7978\n"
     ]
    }
   ],
   "source": [
    "batch_size = 512\n",
    "num_itr = 5\n",
    "\n",
    "model_history = model.fit(X_train_pad, y_train, \n",
    "                          batch_size=batch_size, \n",
    "                          epochs=num_itr, \n",
    "                          validation_split=0.2)"
   ]
  },
  {
   "cell_type": "code",
   "execution_count": 19,
   "metadata": {},
   "outputs": [
    {
     "name": "stdout",
     "output_type": "stream",
     "text": [
      "[[0.30806148]\n",
      " [0.52412975]\n",
      " [0.9922689 ]\n",
      " ...\n",
      " [0.9779618 ]\n",
      " [0.99191785]\n",
      " [0.98191667]]\n"
     ]
    }
   ],
   "source": [
    "pred = model.predict(X_test_pad)\n",
    "print (pred)"
   ]
  },
  {
   "cell_type": "code",
   "execution_count": null,
   "metadata": {},
   "outputs": [],
   "source": []
  }
 ],
 "metadata": {
  "kernelspec": {
   "display_name": "Python 3",
   "language": "python",
   "name": "python3"
  },
  "language_info": {
   "codemirror_mode": {
    "name": "ipython",
    "version": 3
   },
   "file_extension": ".py",
   "mimetype": "text/x-python",
   "name": "python",
   "nbconvert_exporter": "python",
   "pygments_lexer": "ipython3",
   "version": "3.8.3"
  }
 },
 "nbformat": 4,
 "nbformat_minor": 4
}
